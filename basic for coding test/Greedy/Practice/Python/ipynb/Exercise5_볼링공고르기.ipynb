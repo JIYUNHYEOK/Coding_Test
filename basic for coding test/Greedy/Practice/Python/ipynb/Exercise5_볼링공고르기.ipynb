{
 "cells": [
  {
   "cell_type": "code",
   "execution_count": 1,
   "id": "73cf2bcd",
   "metadata": {},
   "outputs": [
    {
     "name": "stdout",
     "output_type": "stream",
     "text": [
      "5 3\n",
      "1 3 2 3 2\n",
      "8\n"
     ]
    }
   ],
   "source": [
    "N, M =  map(int, input().split())\n",
    "data = list(map(int, input().split()))\n",
    "\n",
    "array = [0] * 11 # 1부터 10까지의 볼링공 무게를 담을 수 있는 리스트 생성\n",
    "\n",
    "for i in data:\n",
    "    array[i] += 1\n",
    "\n",
    "result = 0\n",
    "\n",
    "for i in range(1, M+1): # 1부터 최대 볼링공 무게까지 탐색\n",
    "    N -= array[i]\n",
    "    result += array[i] * N\n",
    "\n",
    "print(result)"
   ]
  },
  {
   "cell_type": "code",
   "execution_count": 2,
   "id": "c2d7b2c5",
   "metadata": {},
   "outputs": [
    {
     "name": "stdout",
     "output_type": "stream",
     "text": [
      "8 5\n",
      "1 5 4 3 2 4 5 2\n",
      "25\n"
     ]
    }
   ],
   "source": [
    "N, M =  map(int, input().split())\n",
    "data = list(map(int, input().split()))\n",
    "\n",
    "array = [0] * 11 # 1부터 10까지의 볼링공 무게를 담을 수 있는 리스트 생성\n",
    "\n",
    "for i in data:\n",
    "    array[i] += 1\n",
    "\n",
    "result = 0\n",
    "\n",
    "for i in range(1, M+1): # 1부터 최대 볼링공 무게까지 탐색\n",
    "    N -= array[i]\n",
    "    result += array[i] * N\n",
    "\n",
    "print(result)"
   ]
  }
 ],
 "metadata": {
  "kernelspec": {
   "display_name": "Python3.8_spare",
   "language": "python",
   "name": "spare"
  },
  "language_info": {
   "codemirror_mode": {
    "name": "ipython",
    "version": 3
   },
   "file_extension": ".py",
   "mimetype": "text/x-python",
   "name": "python",
   "nbconvert_exporter": "python",
   "pygments_lexer": "ipython3",
   "version": "3.8.12"
  }
 },
 "nbformat": 4,
 "nbformat_minor": 5
}
