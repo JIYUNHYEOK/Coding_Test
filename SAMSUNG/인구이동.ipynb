{
 "cells": [
  {
   "cell_type": "markdown",
   "id": "8f9d2581",
   "metadata": {},
   "source": [
    "# 인구이동"
   ]
  },
  {
   "cell_type": "markdown",
   "id": "dda3271c",
   "metadata": {},
   "source": [
    "N×N크기의 땅이 있고, 땅은 1×1개의 칸으로 나누어져 있다. 각각의 땅에는 나라가 하나씩 존재하며, r행 c열에 있는 나라에는 A[r][c]명이 살고 있다. 인접한 나라 사이에는 국경선이 존재한다. 모든 나라는 1×1 크기이기 때문에, 모든 국경선은 정사각형 형태이다.\n",
    "\n",
    "오늘부터 인구 이동이 시작되는 날이다.\n",
    "\n",
    "인구 이동은 하루 동안 다음과 같이 진행되고, 더 이상 아래 방법에 의해 인구 이동이 없을 때까지 지속된다.\n",
    "\n",
    "- 국경선을 공유하는 두 나라의 인구 차이가 L명 이상, R명 이하라면, 두 나라가 공유하는 국경선을 오늘 하루 동안 연다.\n",
    "- 위의 조건에 의해 열어야하는 국경선이 모두 열렸다면, 인구 이동을 시작한다.\n",
    "- 국경선이 열려있어 인접한 칸만을 이용해 이동할 수 있으면, 그 나라를 오늘 하루 동안은 연합이라고 한다.\n",
    "- 연합을 이루고 있는 각 칸의 인구수는 (연합의 인구수) / (연합을 이루고 있는 칸의 개수)가 된다. 편의상 소수점은 버린다.\n",
    "- 연합을 해체하고, 모든 국경선을 닫는다.\n",
    "각 나라의 인구수가 주어졌을 때, 인구 이동이 며칠 동안 발생하는지 구하는 프로그램을 작성하시오."
   ]
  },
  {
   "cell_type": "markdown",
   "id": "e942fcdf",
   "metadata": {},
   "source": [
    "첫째 줄에 N, L, R이 주어진다. (1 ≤ N ≤ 50, 1 ≤ L ≤ R ≤ 100)\n",
    "\n",
    "둘째 줄부터 N개의 줄에 각 나라의 인구수가 주어진다. r행 c열에 주어지는 정수는 A[r][c]의 값이다. (0 ≤ A[r][c] ≤ 100)\n",
    "\n",
    "인구 이동이 발생하는 일수가 2,000번 보다 작거나 같은 입력만 주어진다."
   ]
  },
  {
   "cell_type": "markdown",
   "id": "65b0becf",
   "metadata": {},
   "source": [
    "인구 이동이 며칠 동안 발생하는지 첫째 줄에 출력한다."
   ]
  },
  {
   "cell_type": "code",
   "execution_count": 1,
   "id": "18a6139a",
   "metadata": {},
   "outputs": [
    {
     "name": "stdout",
     "output_type": "stream",
     "text": [
      "4 10 50\n",
      "10 100 20 90\n",
      "80 100 60 70\n",
      "70 20 30 40\n",
      "50 20 100 10\n",
      "3\n"
     ]
    }
   ],
   "source": [
    "from collections import deque\n",
    "\n",
    "# 땅의 크기(N), L, R 값을 입력받음\n",
    "n, l, r = map(int, input().split())\n",
    "\n",
    "# 전체 나라의 정보 (N X N 입력 받기)\n",
    "graph = []\n",
    "for _ in range(n):\n",
    "    graph.append(list(map(int, input().split())))\n",
    "    \n",
    "dx = [-1, 0, 1, 0]\n",
    "dy = [0, -1, 0 ,1]\n",
    "\n",
    "result = 0\n",
    "\n",
    "# 특정 위치에서 출발하여 모든 연합을 체크한 뒤에 데이터 갱신\n",
    "def process(x, y, index):\n",
    "    \n",
    "    # (x,y)의 위치와 연결된 나라(연합) 정보를 담는 리스트\n",
    "    united = []\n",
    "    united.append((x,y))\n",
    "    \n",
    "    # 너비 우선 탐색 (BFS)을 위한 큐 자료구조 정의\n",
    "    q = deque()\n",
    "    q.append((x, y))\n",
    "    # 현재 연합의 번호 할당\n",
    "    union[x][y] = index\n",
    "    # 현재 연합의 전체 인구 수\n",
    "    summary = graph[x][y]\n",
    "    # 현재 연합의 국가 수\n",
    "    count = 1\n",
    "    \n",
    "    # 큐가 빌 때까지 반복 (BFS)\n",
    "    while q:\n",
    "        x, y = q.popleft()\n",
    "        \n",
    "        # 현재 위치에서 4가지 방향을 확인\n",
    "        for i in range(4):\n",
    "            nx = x + dx[i]\n",
    "            ny = y + dy[i]\n",
    "            \n",
    "            # 바로 옆에 있는 나라를 확인\n",
    "            if nx >= 0 and nx < n  and ny >= 0 and ny < n and union[nx][ny] == -1:\n",
    "                # 옆에 있는 나라와 인구 차이가 L명 이상, R명 이하라면\n",
    "                if l <= abs(graph[nx][ny] - graph[x][y]) <= r:\n",
    "                    q.append((nx, ny))\n",
    "                    \n",
    "                    # 연합에 추가\n",
    "                    union[nx][ny] = index\n",
    "                    summary += graph[nx][ny]\n",
    "                    count += 1\n",
    "                    united.append((nx, ny))\n",
    "    \n",
    "    # 연합 국가끼리 인구를 분배\n",
    "    for i, j in united:\n",
    "        graph[i][j] = summary // count\n",
    "        \n",
    "    return count\n",
    "\n",
    "total_count = 0\n",
    "\n",
    "# 더 이상 인구 이동을 할 수 없을 때까지 반복\n",
    "while True:\n",
    "    union = [[-1] * n for _ in range(n)]\n",
    "    index = 0\n",
    "    \n",
    "    for i in range(n):\n",
    "        for j in range(n):\n",
    "            # 해당 나라가 아직 처리되지 않았다면\n",
    "            if union[i][j] == -1:\n",
    "                process(i, j, index)\n",
    "                index += 1\n",
    "    \n",
    "    # 모든 인구 이동이 끝난 경우\n",
    "    if index == n*n:\n",
    "        break\n",
    "    total_count += 1\n",
    "    \n",
    "# 인구 이동 횟수 출력\n",
    "print(total_count)\n",
    "                    "
   ]
  }
 ],
 "metadata": {
  "kernelspec": {
   "display_name": "Python3.8_spare",
   "language": "python",
   "name": "spare"
  },
  "language_info": {
   "codemirror_mode": {
    "name": "ipython",
    "version": 3
   },
   "file_extension": ".py",
   "mimetype": "text/x-python",
   "name": "python",
   "nbconvert_exporter": "python",
   "pygments_lexer": "ipython3",
   "version": "3.8.12"
  }
 },
 "nbformat": 4,
 "nbformat_minor": 5
}
