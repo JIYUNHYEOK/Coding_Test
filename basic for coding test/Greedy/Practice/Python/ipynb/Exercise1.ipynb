{
 "cells": [
  {
   "cell_type": "code",
   "execution_count": 1,
   "id": "cfa2f8e4",
   "metadata": {},
   "outputs": [
    {
     "name": "stdout",
     "output_type": "stream",
     "text": [
      "5\n",
      "2 3 1 2 2\n",
      "2\n"
     ]
    }
   ],
   "source": [
    "N = int(input())\n",
    "data = list(map(int, input().split()))\n",
    "data.sort()\n",
    "\n",
    "result = 0 # 총 그룹의 수\n",
    "count = 0 # 현재 그룹에 포함된 모험가의 수\n",
    "\n",
    "for i in data: # 공포도가 낮은 모험가부터 탐색 시작\n",
    "    count += 1 # 현재 그룹에 해당 모험가를 포함\n",
    "    if count >= i: # 만약 현재 그룹에 포함된 모험가의 수가 현재 모험가의 공포도보다 크거나 같다면 그룹 결성\n",
    "        result += 1 # 총 그룹의 수를 증가\n",
    "        count = 0 # 현재 그룹에 포함된 모험가의 수를 초기화\n",
    "        \n",
    "print(result)"
   ]
  }
 ],
 "metadata": {
  "kernelspec": {
   "display_name": "Python3.8_spare",
   "language": "python",
   "name": "spare"
  },
  "language_info": {
   "codemirror_mode": {
    "name": "ipython",
    "version": 3
   },
   "file_extension": ".py",
   "mimetype": "text/x-python",
   "name": "python",
   "nbconvert_exporter": "python",
   "pygments_lexer": "ipython3",
   "version": "3.8.12"
  }
 },
 "nbformat": 4,
 "nbformat_minor": 5
}
