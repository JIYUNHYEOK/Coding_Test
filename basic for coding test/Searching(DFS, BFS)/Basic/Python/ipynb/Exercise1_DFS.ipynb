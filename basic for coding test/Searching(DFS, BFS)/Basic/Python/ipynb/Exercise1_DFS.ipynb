{
 "cells": [
  {
   "cell_type": "code",
   "execution_count": 1,
   "id": "c080381b",
   "metadata": {},
   "outputs": [],
   "source": [
    "def dfs(x,y):\n",
    "    if x <= -1 or x >= N or y <= -1 or y >= M: # 주어진 범위를 벗어난다면 종료\n",
    "        return False\n",
    "    \n",
    "    if graph[x][y] == 0: # 노드를 아직 방문하지 않았다면\n",
    "        graph[x][y] = 1 # 해당 노드를 방문처리\n",
    "        # 상, 하, 좌, 우 위치의 노드들을 재귀적으로 호출\n",
    "        dfs(x-1, y) # 상\n",
    "        dfs(x, y-1) # 좌 \n",
    "        dfs(x+1, y) # 하\n",
    "        dfs(x, y+1) # 우\n",
    "        return True\n",
    "    return False"
   ]
  },
  {
   "cell_type": "code",
   "execution_count": 2,
   "id": "83410f08",
   "metadata": {},
   "outputs": [
    {
     "name": "stdout",
     "output_type": "stream",
     "text": [
      "4 5\n",
      "00110\n",
      "00011\n",
      "11111\n",
      "00000\n",
      "3\n"
     ]
    }
   ],
   "source": [
    "N, M = map(int, input().split())\n",
    "\n",
    "graph = []\n",
    "\n",
    "for i in range(N):\n",
    "    graph.append(list(map(int, input())))\n",
    "    \n",
    "result = 0\n",
    "for i in range(N):\n",
    "    for j in range(M):\n",
    "        if dfs(i,j) == True: # 해당 노드에 대해서 처음 방문 하는 것이라면\n",
    "            result += 1 # count 진행\n",
    "\n",
    "print(result)"
   ]
  },
  {
   "cell_type": "code",
   "execution_count": 3,
   "id": "550db9ce",
   "metadata": {},
   "outputs": [
    {
     "name": "stdout",
     "output_type": "stream",
     "text": [
      "15 14\n",
      "00000111100000\n",
      "11111101111110\n",
      "11011101101110\n",
      "11011101100000\n",
      "11011111111111\n",
      "11011111111100\n",
      "11000000011111\n",
      "01111111111111\n",
      "00000000011111\n",
      "01111111111000\n",
      "00011111111000\n",
      "00000001111000\n",
      "11111111110011\n",
      "11100011111111\n",
      "11100011111111\n",
      "8\n"
     ]
    }
   ],
   "source": [
    "N, M = map(int, input().split())\n",
    "\n",
    "graph = []\n",
    "\n",
    "for i in range(N):\n",
    "    graph.append(list(map(int, input())))\n",
    "    \n",
    "result = 0\n",
    "for i in range(N):\n",
    "    for j in range(M):\n",
    "        if dfs(i,j) == True: # 현재 위치에 대해서 방문처리가 된거라면\n",
    "            result += 1 # count 진행\n",
    "\n",
    "print(result)"
   ]
  }
 ],
 "metadata": {
  "kernelspec": {
   "display_name": "Python3.8_spare",
   "language": "python",
   "name": "spare"
  },
  "language_info": {
   "codemirror_mode": {
    "name": "ipython",
    "version": 3
   },
   "file_extension": ".py",
   "mimetype": "text/x-python",
   "name": "python",
   "nbconvert_exporter": "python",
   "pygments_lexer": "ipython3",
   "version": "3.8.12"
  }
 },
 "nbformat": 4,
 "nbformat_minor": 5
}
