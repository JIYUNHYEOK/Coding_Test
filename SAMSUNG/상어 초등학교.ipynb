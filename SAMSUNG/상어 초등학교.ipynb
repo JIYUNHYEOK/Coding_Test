{
 "cells": [
  {
   "cell_type": "markdown",
   "id": "43a3cebf",
   "metadata": {},
   "source": [
    "# 상어 초등학교"
   ]
  },
  {
   "cell_type": "markdown",
   "id": "720c1c44",
   "metadata": {},
   "source": [
    "상어 초등학교에는 교실이 하나 있고, 교실은 N×N 크기의 격자로 나타낼 수 있다. 학교에 다니는 학생의 수는 N2명이다. 오늘은 모든 학생의 자리를 정하는 날이다. 학생은 1번부터 N2번까지 번호가 매겨져 있고, (r, c)는 r행 c열을 의미한다. 교실의 가장 왼쪽 윗 칸은 (1, 1)이고, 가장 오른쪽 아랫 칸은 (N, N)이다.\n",
    "\n",
    "선생님은 학생의 순서를 정했고, 각 학생이 좋아하는 학생 4명도 모두 조사했다. 이제 다음과 같은 규칙을 이용해 정해진 순서대로 학생의 자리를 정하려고 한다. 한 칸에는 학생 한 명의 자리만 있을 수 있고, |r1 - r2| + |c1 - c2| = 1을 만족하는 두 칸이 (r1, c1)과 (r2, c2)를 인접하다고 한다.\n",
    "\n",
    "1. 비어있는 칸 중에서 좋아하는 학생이 인접한 칸에 가장 많은 칸으로 자리를 정한다.\n",
    "2. 1을 만족하는 칸이 여러 개이면, 인접한 칸 중에서 비어있는 칸이 가장 많은 칸으로 자리를 정한다.\n",
    "3. 2를 만족하는 칸도 여러 개인 경우에는 행의 번호가 가장 작은 칸으로, 그러한 칸도 여러 개이면 열의 번호가 가장 작은 칸으로 자리를 정한다."
   ]
  },
  {
   "cell_type": "markdown",
   "id": "6aef61a0",
   "metadata": {},
   "source": [
    "첫째 줄에 N이 주어진다. 둘째 줄부터 N2개의 줄에 학생의 번호와 그 학생이 좋아하는 학생 4명의 번호가 한 줄에 하나씩 선생님이 자리를 정할 순서대로 주어진다.\n",
    "\n",
    "학생의 번호는 중복되지 않으며, 어떤 학생이 좋아하는 학생 4명은 모두 다른 학생으로 이루어져 있다. 입력으로 주어지는 학생의 번호, 좋아하는 학생의 번호는 N2보다 작거나 같은 자연수이다. 어떤 학생이 자기 자신을 좋아하는 경우는 없다."
   ]
  },
  {
   "cell_type": "markdown",
   "id": "ffb31be3",
   "metadata": {},
   "source": [
    "첫째 줄에 학생의 만족도의 총 합을 출력한다."
   ]
  },
  {
   "cell_type": "code",
   "execution_count": 1,
   "id": "16646b59",
   "metadata": {},
   "outputs": [
    {
     "name": "stdout",
     "output_type": "stream",
     "text": [
      "3\n",
      "4 2 5 1 7\n",
      "3 1 9 4 5\n",
      "9 8 1 2 3\n",
      "8 1 9 3 4\n",
      "7 2 3 4 8\n",
      "1 9 2 5 7\n",
      "6 5 2 3 4\n",
      "5 1 9 2 8\n",
      "2 9 3 1 4\n",
      "54\n"
     ]
    }
   ],
   "source": [
    "n = int(input())\n",
    "\n",
    "arr = [[0]*n for _ in range(n)]\n",
    "students = [list(map(int, input().split())) for _ in range(n**2)]\n",
    "\n",
    "# 상, 하, 좌, 우\n",
    "dx = [-1, 1, 0, 0]\n",
    "dy = [0, 0, -1, 1]\n",
    "\n",
    "# 학생 수 만큼 for문 반복\n",
    "for order in range(n**2):\n",
    "    student = students[order]\n",
    "    \n",
    "    # 가능한 자리를 담아서 정렬 후 앉힘\n",
    "    tmp = []\n",
    "    for x in range(n):\n",
    "        for y in range(n):\n",
    "            if arr[x][y] == 0:\n",
    "                like = 0\n",
    "                blank = 0\n",
    "                \n",
    "                for i in range(4):\n",
    "                    nx, ny = x + dx[i], y + dy[i]\n",
    "                    \n",
    "                    if nx >= 0 and nx < n and ny >= 0 and ny < n:\n",
    "                        if arr[nx][ny] in student[1:]:\n",
    "                            like += 1\n",
    "                        if arr[nx][ny] == 0:\n",
    "                            blank += 1\n",
    "                            \n",
    "                tmp.append([like, blank, x, y])\n",
    "    \n",
    "    # like, blank의 경우는 클 수록, 행과 열은 작을 수록 우선순위가 높음\n",
    "    tmp.sort(key = lambda x: (-x[0], -x[1], x[2], x[3]))\n",
    "    # 정렬 후에 가장 앞에 있는 리스트의 행과 열 번호에 학생 앉히기\n",
    "    arr[tmp[0][2]][tmp[0][3]] = student[0] # 각 student 정보에서 가장 앞부분이 학생 번호\n",
    "    \n",
    "result = 0\n",
    "students.sort()\n",
    "\n",
    "for x in range(n):\n",
    "    for y in range(n):\n",
    "        ans = 0\n",
    "        for i in range(4):\n",
    "            nx, ny = x + dx[i], y + dy[i]\n",
    "            if nx >= 0 and nx < n and ny >= 0 and ny < n:\n",
    "                if arr[nx][ny] in students[arr[x][y]-1]:\n",
    "                    ans += 1\n",
    "        if ans != 0:\n",
    "            result += 10 ** (ans-1)\n",
    "            \n",
    "print(result)"
   ]
  }
 ],
 "metadata": {
  "kernelspec": {
   "display_name": "Python3.8_spare",
   "language": "python",
   "name": "spare"
  },
  "language_info": {
   "codemirror_mode": {
    "name": "ipython",
    "version": 3
   },
   "file_extension": ".py",
   "mimetype": "text/x-python",
   "name": "python",
   "nbconvert_exporter": "python",
   "pygments_lexer": "ipython3",
   "version": "3.8.12"
  }
 },
 "nbformat": 4,
 "nbformat_minor": 5
}
