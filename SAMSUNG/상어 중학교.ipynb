{
 "cells": [
  {
   "cell_type": "markdown",
   "id": "c856076e",
   "metadata": {},
   "source": [
    "# 상어 중학교"
   ]
  },
  {
   "cell_type": "markdown",
   "id": "d749b7cd",
   "metadata": {},
   "source": [
    "상어 중학교의 코딩 동아리에서 게임을 만들었다. 이 게임은 크기가 N×N인 격자에서 진행되고, 초기에 격자의 모든 칸에는 블록이 하나씩 들어있고, 블록은 검은색 블록, 무지개 블록, 일반 블록이 있다. 일반 블록은 M가지 색상이 있고, 색은 M이하의 자연수로 표현한다. 검은색 블록은 -1, 무지개 블록은 0으로 표현한다. (i, j)는 격자의 i번 행, j번 열을 의미하고, |r1 - r2| + |c1 - c2| = 1을 만족하는 두 칸 (r1, c1)과 (r2, c2)를 인접한 칸이라고 한다.\n",
    "\n",
    "블록 그룹은 연결된 블록의 집합이다. 그룹에는 일반 블록이 적어도 하나 있어야 하며, 일반 블록의 색은 모두 같아야 한다. 검은색 블록은 포함되면 안 되고, 무지개 블록은 얼마나 들어있든 상관없다. 그룹에 속한 블록의 개수는 2보다 크거나 같아야 하며, 임의의 한 블록에서 그룹에 속한 인접한 칸으로 이동해서 그룹에 속한 다른 모든 칸으로 이동할 수 있어야 한다. 블록 그룹의 기준 블록은 무지개 블록이 아닌 블록 중에서 행의 번호가 가장 작은 블록, 그러한 블록이 여러개면 열의 번호가 가장 작은 블록이다.\n",
    "\n",
    "오늘은 이 게임에 오토 플레이 기능을 만드려고 한다. 오토 플레이는 다음과 같은 과정이 블록 그룹이 존재하는 동안 계속해서 반복되어야 한다.\n",
    "\n",
    "1. 크기가 가장 큰 블록 그룹을 찾는다. 그러한 블록 그룹이 여러 개라면 포함된 무지개 블록의 수가 가장 많은 블록 그룹, 그러한 블록도 여러개라면 기준 블록의 행이 가장 큰 것을, 그 것도 여러개이면 열이 가장 큰 것을 찾는다.\n",
    "2. 1에서 찾은 블록 그룹의 모든 블록을 제거한다. 블록 그룹에 포함된 블록의 수를 B라고 했을 때, B2점을 획득한다.\n",
    "3. 격자에 중력이 작용한다.\n",
    "4. 격자가 90도 반시계 방향으로 회전한다.\n",
    "5. 다시 격자에 중력이 작용한다.\n",
    "격자에 중력이 작용하면 검은색 블록을 제외한 모든 블록이 행의 번호가 큰 칸으로 이동한다. 이동은 다른 블록이나 격자의 경계를 만나기 전까지 계속 된다.\n",
    "\n",
    "다음은 N = 5, M = 3인 경우의 예시이다."
   ]
  },
  {
   "cell_type": "markdown",
   "id": "899bb687",
   "metadata": {},
   "source": [
    "여기서 찾을 수 있는 크기가 가장 큰 블록 그룹을 다음과 같이 빨간색으로 표시했다."
   ]
  },
  {
   "cell_type": "markdown",
   "id": "7cb0c876",
   "metadata": {},
   "source": [
    "블록 그룹이 제거되면 다음과 같이 변하고, 점수 82점을 획득한다."
   ]
  },
  {
   "cell_type": "markdown",
   "id": "b823c41b",
   "metadata": {},
   "source": [
    "중력이 작용하면 다음과 같이 변한다."
   ]
  },
  {
   "cell_type": "markdown",
   "id": "9ef4c819",
   "metadata": {},
   "source": [
    "90도 반시계방향으로 회전한 결과는 다음과 같다."
   ]
  },
  {
   "cell_type": "markdown",
   "id": "3bf49990",
   "metadata": {},
   "source": [
    "다시 여기서 중력이 작용하면 다음과 같이 변한다."
   ]
  },
  {
   "cell_type": "markdown",
   "id": "6462ba65",
   "metadata": {},
   "source": [
    "오토 플레이가 모두 끝났을 때 획득한 점수의 합을 구해보자."
   ]
  },
  {
   "cell_type": "markdown",
   "id": "6fd10557",
   "metadata": {},
   "source": [
    "첫째 줄에 격자 한 변의 크기 N, 색상의 개수 M이 주어진다.\n",
    "\n",
    "둘째 줄부터 N개의 줄에 격자의 칸에 들어있는 블록의 정보가 1번 행부터 N번 행까지 순서대로 주어진다. 각 행에 대한 정보는 1열부터 N열까지 순서대로 주어진다. 입력으로 주어지는 칸의 정보는 -1, 0, M이하의 자연수로만 이루어져 있다."
   ]
  },
  {
   "cell_type": "markdown",
   "id": "056a2869",
   "metadata": {},
   "source": [
    "첫째 줄에 획득한 점수의 합을 출력한다."
   ]
  },
  {
   "cell_type": "code",
   "execution_count": 1,
   "id": "d23a00a2",
   "metadata": {},
   "outputs": [
    {
     "name": "stdout",
     "output_type": "stream",
     "text": [
      "6 4\n",
      "2 3 1 0 -1 2\n",
      "2 -1 4 1 3 3\n",
      "3 0 4 2 2 1\n",
      "-1 4 -1 2 3 4\n",
      "3 -1 4 2 0 3\n",
      "1 2 2 2 2 1\n",
      "125\n"
     ]
    }
   ],
   "source": [
    "from collections import deque\n",
    "\n",
    "# 인접 블록 찾기 -> 블록 크기, 무지개크기, 블록좌표 리턴\n",
    "def bfs(x, y, color):\n",
    "    q = deque()\n",
    "    q.append([x, y])\n",
    "    dx = [-1, 0, 1, 0]\n",
    "    dy = [0, 1, 0, -1]\n",
    "\n",
    "    block_cnt, rainbow_cnt = 1, 0  # 블록개수, 무지개블록 개수\n",
    "    blocks, rainbows = [[x,y]], []  # 블록좌표 넣을 리스트, 무지개좌표 넣을 리스트\n",
    "\n",
    "    while q:\n",
    "        x, y = q.popleft()\n",
    "        for d in range(4):\n",
    "            nx = x + dx[d]\n",
    "            ny = y + dy[d]\n",
    "            \n",
    "            # 범위 안이면서 방문 안한 일반 블록인 경우\n",
    "            if 0 <= nx < N and 0 <= ny < N and not visited[nx][ny] and a[nx][ny] == color:\n",
    "                visited[nx][ny] = 1\n",
    "                q.append([nx, ny])\n",
    "                block_cnt += 1\n",
    "                blocks.append([nx, ny])\n",
    "                \n",
    "            # 범위 안이면서 방문 안한 무지개 블록인 경우\n",
    "            elif 0 <= nx < N and 0 <= ny < N and not visited[nx][ny] and a[nx][ny] == 0:\n",
    "                visited[nx][ny] = 1\n",
    "                q.append([nx, ny])\n",
    "                block_cnt += 1\n",
    "                rainbow_cnt += 1\n",
    "                rainbows.append([nx, ny])\n",
    "\n",
    "    # 무지개블록은 방문 다시 해제\n",
    "    for x,y in rainbows:\n",
    "        visited[x][y] = 0\n",
    "\n",
    "    return [block_cnt, rainbow_cnt, blocks+rainbows]\n",
    "\n",
    "\n",
    "# 블록 제거 함수\n",
    "def remove(block):\n",
    "    for x,y in block:\n",
    "        a[x][y] = -2\n",
    "\n",
    "\n",
    "# 중력 함수\n",
    "def gravity(a):\n",
    "    for i in range(N-2, -1, -1):  # 밑에서 부터 체크\n",
    "        for j in range(N):\n",
    "            if a[i][j] > -1:  # -1이 아니면 아래로 다운\n",
    "                r = i\n",
    "                while True:\n",
    "                    if 0<=r+1<N and a[r+1][j] == -2:  # 다음행이 인덱스 범위 안이면서 -2이면 아래로 다운\n",
    "                        a[r+1][j] = a[r][j]\n",
    "                        a[r][j] = -2\n",
    "                        r += 1\n",
    "                    else:\n",
    "                        break\n",
    "\n",
    "\n",
    "# 반시계 회전 함수\n",
    "def rot90(a):\n",
    "    new_a = [[0]*N for _ in range(N)]\n",
    "    for i in range(N):\n",
    "        for j in range(N):\n",
    "            new_a[N-1-j][i] = a[i][j]\n",
    "    return new_a\n",
    "\n",
    "\n",
    "\n",
    "# 0. 메인코드\n",
    "N, M = map(int, input().split())\n",
    "a = [list(map(int, input().split())) for _ in range(N)]\n",
    "\n",
    "score = 0  # 점수\n",
    "\n",
    "# 1. 오토플레이-> while {2. 크기 가장 큰 블록 찾기 3. 블록제거+점수더하기 4. 중력 5. 90회전 6. 중력}\n",
    "while True:\n",
    "    # 2. 크기 가장 큰 블록 찾기\n",
    "    visited = [[0] * N for _ in range(N)]  # 방문체크\n",
    "    blocks = []  # 가능한 블록 그룹들 넣을 리스트\n",
    "    for i in range(N):\n",
    "        for j in range(N):\n",
    "            if a[i][j] > 0 and not visited[i][j]:  # 일반블록이면서 방문 안했으면\n",
    "                visited[i][j] = 1  # 방문\n",
    "                block_info = bfs(i, j, a[i][j])  # 인접한 블록 찾기\n",
    "                # block_info = [블록크기, 무지개블록 개수, 블록좌표]\n",
    "                if block_info[0] >= 2:\n",
    "                    blocks.append(block_info)\n",
    "    blocks.sort(reverse=True)\n",
    "\n",
    "    # 3. 블록제거+점수더하기\n",
    "    if not blocks:\n",
    "        break\n",
    "    remove(blocks[0][2])\n",
    "    score += blocks[0][0]**2\n",
    "\n",
    "    # 4. 중력\n",
    "    gravity(a)\n",
    "\n",
    "    # 5. 90회전\n",
    "    a = rot90(a)\n",
    "\n",
    "    # 6. 중력\n",
    "    gravity(a)\n",
    "\n",
    "print(score)"
   ]
  }
 ],
 "metadata": {
  "kernelspec": {
   "display_name": "Python3.8_spare",
   "language": "python",
   "name": "spare"
  },
  "language_info": {
   "codemirror_mode": {
    "name": "ipython",
    "version": 3
   },
   "file_extension": ".py",
   "mimetype": "text/x-python",
   "name": "python",
   "nbconvert_exporter": "python",
   "pygments_lexer": "ipython3",
   "version": "3.8.12"
  }
 },
 "nbformat": 4,
 "nbformat_minor": 5
}
