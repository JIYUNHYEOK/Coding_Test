{
 "cells": [
  {
   "cell_type": "markdown",
   "id": "dd177531",
   "metadata": {},
   "source": [
    "# 스타트 택시"
   ]
  },
  {
   "cell_type": "markdown",
   "id": "8d78f4f0",
   "metadata": {},
   "source": [
    "스타트링크가 \"스타트 택시\"라는 이름의 택시 사업을 시작했다. 스타트 택시는 특이하게도 손님을 도착지로 데려다줄 때마다 연료가 충전되고, 연료가 바닥나면 그 날의 업무가 끝난다.\n",
    "\n",
    "택시 기사 최백준은 오늘 M명의 승객을 태우는 것이 목표이다. 백준이 활동할 영역은 N×N 크기의 격자로 나타낼 수 있고, 각 칸은 비어 있거나 벽이 놓여 있다. 택시가 빈칸에 있을 때, 상하좌우로 인접한 빈칸 중 하나로 이동할 수 있다. 알고리즘 경력이 많은 백준은 특정 위치로 이동할 때 항상 최단경로로만 이동한다.\n",
    "\n",
    "M명의 승객은 빈칸 중 하나에 서 있으며, 다른 빈칸 중 하나로 이동하려고 한다. 여러 승객이 같이 탑승하는 경우는 없다. 따라서 백준은 한 승객을 태워 목적지로 이동시키는 일을 M번 반복해야 한다. 각 승객은 스스로 움직이지 않으며, 출발지에서만 택시에 탈 수 있고, 목적지에서만 택시에서 내릴 수 있다.\n",
    "\n",
    "백준이 태울 승객을 고를 때는 현재 위치에서 최단거리가 가장 짧은 승객을 고른다. 그런 승객이 여러 명이면 그중 행 번호가 가장 작은 승객을, 그런 승객도 여러 명이면 그중 열 번호가 가장 작은 승객을 고른다. 택시와 승객이 같은 위치에 서 있으면 그 승객까지의 최단거리는 0이다. 연료는 한 칸 이동할 때마다 1만큼 소모된다. 한 승객을 목적지로 성공적으로 이동시키면, 그 승객을 태워 이동하면서 소모한 연료 양의 두 배가 충전된다. 이동하는 도중에 연료가 바닥나면 이동에 실패하고, 그 날의 업무가 끝난다. 승객을 목적지로 이동시킨 동시에 연료가 바닥나는 경우는 실패한 것으로 간주하지 않는다."
   ]
  },
  {
   "cell_type": "markdown",
   "id": "d96b3e42",
   "metadata": {},
   "source": [
    "<그림 1>은 택시가 활동할 영역의 지도를 나타내며, 택시와 세 명의 승객의 출발지와 목적지가 표시되어 있다. 택시의 현재 연료 양은 15이다. 현재 택시에서 각 손님까지의 최단거리는 각각 9, 6, 7이므로, 택시는 2번 승객의 출발지로 이동한다."
   ]
  },
  {
   "cell_type": "markdown",
   "id": "622c1e87",
   "metadata": {},
   "source": [
    "<그림 2>는 택시가 2번 승객의 출발지로 가는 경로를, <그림 3>은 2번 승객의 출발지에서 목적지로 가는 경로를 나타낸다. 목적지로 이동할 때까지 소비한 연료는 6이고, 이동하고 나서 12가 충전되므로 남은 연료의 양은 15이다. 이제 택시에서 각 손님까지의 최단거리는 둘 다 7이므로, 택시는 둘 중 행 번호가 더 작은 1번 승객의 출발지로 이동한다."
   ]
  },
  {
   "cell_type": "markdown",
   "id": "d14989fd",
   "metadata": {},
   "source": [
    "<그림 4>와 <그림 5>는 택시가 1번 승객을 태워 목적지로 이동시키는 경로를 나타낸다. 남은 연료의 양은 15 - 7 - 7 + 7×2 = 15이다."
   ]
  },
  {
   "cell_type": "markdown",
   "id": "b0e0a3bb",
   "metadata": {},
   "source": [
    "<그림 6>과 <그림 7>은 택시가 3번 승객을 태워 목적지로 이동시키는 경로를 나타낸다. 최종적으로 남은 연료의 양은 15 - 5 - 4 + 4×2 = 14이다.\n",
    "\n",
    "모든 승객을 성공적으로 데려다줄 수 있는지 알아내고, 데려다줄 수 있을 경우 최종적으로 남는 연료의 양을 출력하는 프로그램을 작성하시오."
   ]
  },
  {
   "cell_type": "markdown",
   "id": "f95d647a",
   "metadata": {},
   "source": [
    "첫 줄에 N, M, 그리고 초기 연료의 양이 주어진다. (2 ≤ N ≤ 20, 1 ≤ M ≤ N2, 1 ≤ 초기 연료 ≤ 500,000) 연료는 무한히 많이 담을 수 있기 때문에, 초기 연료의 양을 넘어서 충전될 수도 있다.\n",
    "\n",
    "다음 줄부터 N개의 줄에 걸쳐 백준이 활동할 영역의 지도가 주어진다. 0은 빈칸, 1은 벽을 나타낸다.\n",
    "\n",
    "다음 줄에는 백준이 운전을 시작하는 칸의 행 번호와 열 번호가 주어진다. 행과 열 번호는 1 이상 N 이하의 자연수이고, 운전을 시작하는 칸은 빈칸이다.\n",
    "\n",
    "그다음 줄부터 M개의 줄에 걸쳐 각 승객의 출발지의 행과 열 번호, 그리고 목적지의 행과 열 번호가 주어진다. 모든 출발지와 목적지는 빈칸이고, 모든 출발지는 서로 다르며, 각 손님의 출발지와 목적지는 다르다."
   ]
  },
  {
   "cell_type": "markdown",
   "id": "08cbf2cd",
   "metadata": {},
   "source": [
    "모든 손님을 이동시키고 연료를 충전했을 때 남은 연료의 양을 출력한다. 단, 이동 도중에 연료가 바닥나서 다음 출발지나 목적지로 이동할 수 없으면 -1을 출력한다. 모든 손님을 이동시킬 수 없는 경우에도 -1을 출력한다."
   ]
  },
  {
   "cell_type": "code",
   "execution_count": 1,
   "id": "3817d6b5",
   "metadata": {},
   "outputs": [
    {
     "name": "stdout",
     "output_type": "stream",
     "text": [
      "6 3 15\n",
      "0 0 1 0 0 0\n",
      "0 0 1 0 0 0\n",
      "0 0 0 0 0 0\n",
      "0 0 0 0 0 0\n",
      "0 0 0 0 1 0\n",
      "0 0 0 1 0 0\n",
      "6 5\n",
      "2 2 5 6\n",
      "5 4 1 6\n",
      "4 2 3 5\n",
      "14\n"
     ]
    }
   ],
   "source": [
    "from collections import deque\n",
    "\n",
    "# 활동영역 nxn, 승객의 수 m, 초기 연료의 양 fuel\n",
    "n, m, fuel = map(int, input().split())\n",
    "\n",
    "# 활동영역\n",
    "board = [list(map(int, input().split())) for _ in range(n)]\n",
    "\n",
    "# 처음 출발 지점\n",
    "tx, ty = map(int, input().split())\n",
    "\n",
    "# 택시 리스트, 인덱스 맞춰주기\n",
    "taxi = [tx-1, ty-1]\n",
    "\n",
    "# 손님들의 출발지를 저장하는 리스트\n",
    "passenger_start = []\n",
    "\n",
    "# 손님들의 도착지를 저장하는 리스트\n",
    "passenger_end = []\n",
    "\n",
    "for _ in range(m):\n",
    "    sx, sy, ex, ey = map(int, input().split())\n",
    "    passenger_start.append([sx-1, sy-1])\n",
    "    passenger_end.append([ex-1, ey-1])\n",
    "    \n",
    "# 방향 설정 (동 - 남 - 서 - 북)\n",
    "dx = [0, 1, 0, -1]\n",
    "dy = [1, 0, -1, 0]\n",
    "\n",
    "\n",
    "# 최단 경로의 손님을 찾는 함수\n",
    "def findPassenger(taxi):\n",
    "    q = deque()\n",
    "    q.append(taxi)\n",
    "    dist = [[0] * n for _ in range(n)]\n",
    "    min_dist = 1e9\n",
    "    \n",
    "    # 최단 경로인 승객들을 저장할 리스트\n",
    "    candidate = []\n",
    "    \n",
    "    # BFS를 이용해 최단경로 탐색\n",
    "    while q:\n",
    "        x, y = q.popleft()\n",
    "        \n",
    "        if dist[x][y] > min_dist:\n",
    "            break\n",
    "        \n",
    "        # 최단 경로 손님 탐색\n",
    "        if [x, y] in passenger_start:\n",
    "            min_dist = dist[x][y]\n",
    "            candidate.append([x, y])\n",
    "        \n",
    "        else:\n",
    "            for direction in range(4):\n",
    "                nx = x + dx[direction]\n",
    "                ny = y + dy[direction]\n",
    "                \n",
    "                if 0 <= nx < n and 0 <= ny < n and board[nx][ny] != 1 and dist[nx][ny] == 0:\n",
    "                    dist[nx][ny] = dist[x][y] + 1\n",
    "                    q.append([nx, ny])\n",
    "                    \n",
    "    if candidate:\n",
    "        # 최단경로, 행, 열을 기준으로 오름차순 정렬\n",
    "        candidate.sort()\n",
    "        return dist[candidate[0][0]][candidate[0][1]], candidate[0][0], candidate[0][1]\n",
    "    # 손님에게 갈 수 없는 경우\n",
    "    else:\n",
    "        return -1, -1, -1\n",
    "    \n",
    "    \n",
    "# 손님의 목적지로 이동하는 함수\n",
    "def goDestination(start, end):\n",
    "    q = deque()\n",
    "    q.append(start)\n",
    "    dist = [[0] * n for _ in range(n)]\n",
    "    \n",
    "    # BFS를 이용한 최단 경로 탐색\n",
    "    while q:\n",
    "        x, y = q.popleft()\n",
    "        \n",
    "        if [x, y] == end:\n",
    "            break\n",
    "            \n",
    "        for direction in range(4):\n",
    "            nx = x + dx[direction]\n",
    "            ny = y + dy[direction]\n",
    "\n",
    "            if 0 <= nx < n and 0 <= ny < n and board[nx][ny] != 1 and dist[nx][ny] == 0:\n",
    "                dist[nx][ny] = dist[x][y] + 1\n",
    "                q.append([nx, ny])\n",
    "    \n",
    "    return dist[x][y], x, y\n",
    "\n",
    "\n",
    "for _ in range(m):\n",
    "    # 최단 경로의 손님을 탐색\n",
    "    distance, px, py = findPassenger(taxi)\n",
    "    \n",
    "    # 손님에게 못가거나, 연료가 떨어지는 조건\n",
    "    if distance == -1 or distance > fuel:\n",
    "        fuel = -1\n",
    "        break\n",
    "    \n",
    "    # 손님에게 가는 길에 사용한 연료 계산\n",
    "    fuel -= distance\n",
    "    \n",
    "    # 최단 경로 손님의 인덱스 탐색\n",
    "    idx = passenger_start.index([px, py])\n",
    "    \n",
    "    # 손님을 태운 경우, findPassenger()에서 제외하기 위해 인덱스 변경\n",
    "    passenger_start[idx] = [-1, -1]\n",
    "    \n",
    "    # 손님의 목적지로 이동\n",
    "    distance2, px2, py2 = goDestination([px, py], passenger_end[idx])\n",
    "    \n",
    "    # 도착지에 도달하지 못하거나, 연료가 떨어지는 종료조건\n",
    "    if [px2, py2] != passenger_end[idx] or distance2 > fuel:\n",
    "        fuel -= 1\n",
    "        break\n",
    "        \n",
    "    # 손님을 도착지에 잘 데려다준 경우\n",
    "    # 연료 충전\n",
    "    fuel += distance2\n",
    "    \n",
    "    # 택시 위치 갱신\n",
    "    taxi = [px2, py2]\n",
    "    \n",
    "print(fuel)"
   ]
  }
 ],
 "metadata": {
  "kernelspec": {
   "display_name": "Python3.8_spare",
   "language": "python",
   "name": "spare"
  },
  "language_info": {
   "codemirror_mode": {
    "name": "ipython",
    "version": 3
   },
   "file_extension": ".py",
   "mimetype": "text/x-python",
   "name": "python",
   "nbconvert_exporter": "python",
   "pygments_lexer": "ipython3",
   "version": "3.8.12"
  }
 },
 "nbformat": 4,
 "nbformat_minor": 5
}
