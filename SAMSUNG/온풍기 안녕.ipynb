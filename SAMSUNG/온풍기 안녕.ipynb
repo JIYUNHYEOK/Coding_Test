{
 "cells": [
  {
   "cell_type": "markdown",
   "id": "c37cb3c2",
   "metadata": {},
   "source": [
    "# 온풍기 안녕"
   ]
  },
  {
   "cell_type": "markdown",
   "id": "635bf5bc",
   "metadata": {},
   "source": [
    "유난히 추운 날씨가 예상되는 이번 겨울을 대비하기 위해 구사과는 온풍기를 설치하려고 한다. 온풍기의 성능을 테스트하기 위해 구사과는 집을 크기가 R×C인 격자판으로 나타냈고, 1×1 크기의 칸으로 나눴다. 구사과는 뛰어난 코딩 실력을 이용해 각 칸 (r, c)의 온도를 실시간으로 모니터링하는 시스템을 개발했다. (r, c)는 r행 c열을 의미한다.\n",
    "\n",
    "구사과의 성능 테스트는 다음과 같은 작업이 순차적으로 이루어지며, 가장 처음에 모든 칸의 온도는 0이다. 문제의 그림에서 빈 칸은 온도가 0인 칸을 의미한다.\n",
    "\n",
    "1. 집에 있는 모든 온풍기에서 바람이 한 번 나옴\n",
    "2. 온도가 조절됨\n",
    "3. 온도가 1 이상인 가장 바깥쪽 칸의 온도가 1씩 감소\n",
    "4. 초콜릿을 하나 먹는다.\n",
    "5. 조사하는 모든 칸의 온도가 K 이상이 되었는지 검사. 모든 칸의 온도가 K이상이면 테스트를 중단하고, 아니면 1부터 다시 시작한다.\n",
    "집에 있는 모든 온풍기에서 바람이 한 번 나오는 과정을 설명하면 다음과 같다."
   ]
  },
  {
   "cell_type": "markdown",
   "id": "81ece897",
   "metadata": {},
   "source": [
    "<그림 1>은 크기가 7×8인 집에 온풍기가 (3, 1)에 설치되어 있는 상황이다. 온풍기는 바람이 나오는 방향이 있는데, 그 방향은 오른쪽, 왼쪽, 위, 아래 중 하나이다. 온풍기에서 따뜻한 바람이 한 번 나오면, 다음과 같은 영역의 온도가 칸에 적힌 값만큼 증가하게 된다. 아래 그림은 오른쪽 방향으로 바람이 나온 예시이며, 온풍기에서 바람이 나오는 방향에 따라 <그림 2>를 회전시켜서 해당하는 방향으로 바람이 나왔을 때 증가하는 온도를 구할 수 있다.\n",
    "\n"
   ]
  },
  {
   "cell_type": "markdown",
   "id": "d42fcda3",
   "metadata": {},
   "source": [
    "온풍기에서 바람이 한 번 나왔을 때, 온풍기의 바람이 나오는 방향에 있는 칸은 항상 온도가 5도 올라간다. 그 다음 이 바람은 계속 다른 칸으로 이동해 다른 칸의 온도를 위의 그림과 같이 상승시키게 된다. 어떤 칸 (x, y)에 온풍기 바람이 도착해 온도가 k (> 1)만큼 상승했다면, (x-1, y+1), (x, y+1), (x+1, y+1)의 온도도 k-1만큼 상승하게 된다. 이때 그 칸이 존재하지 않는다면, 바람은 이동하지 않는다. 온풍기에서 바람이 한 번 나왔을 때, 어떤 칸에 같은 온풍기에서 나온 바람이 여러 번 도착한다고 해도 온도는 여러번 상승하지 않는다.\n",
    "\n",
    "<그림 1>의 상태에서 온풍기 바람이 한 번 불었다면, 증가하는 온도의 양은 <그림 3>과 같다."
   ]
  },
  {
   "cell_type": "markdown",
   "id": "13b7a0c4",
   "metadata": {},
   "source": [
    "일부 칸과 칸 사이에는 벽이 있어 온풍기 바람이 지나갈 수 없다. 바람이 오른쪽으로 불었을 때 어떤 칸 (x, y)에서 (x-1, y+1)로 바람이 이동할 수 있으려면, (x, y)와 (x-1, y) 사이에 벽이 없어야 하고, (x-1, y)와 (x-1, y+1) 사이에도 벽이 없어야 한다. (x, y)에서 (x, y+1)로 바람이 이동할 수 있으려면 (x, y)와 (x, y+1) 사이에 벽이 없어야 한다. 마지막으로 (x, y)에서 (x+1, y+1)로 바람이 이동할 수 있으려면, (x, y)와 (x+1, y), (x+1, y)와 (x+1, y+1) 사이에 벽이 없어야 한다.\n",
    "\n",
    "예를 들어, (3, 4)와 (3, 5) 사이에 벽이 있는 경우 온풍기에서 바람이 한 번 나왔을 때 온도는 <그림 4>와 같이 상승한다. 벽은 빨간색으로 표시했다."
   ]
  },
  {
   "cell_type": "markdown",
   "id": "30b58890",
   "metadata": {},
   "source": [
    "(3, 5)는 (3, 4), (2, 4), (4, 4)에서 바람이 이동할 수 없기 때문에, 온도가 상승하지 않는다.\n",
    "\n",
    "만약 바람의 방향이 왼쪽인 온풍기가 (4, 7)에 있고, (3, 4)와 (3, 5) 사이에 벽, (2, 5)와 (3, 5) 사이에 벽이 있는 경우라면 온풍기에서 바람이 한 번 나왔을 때 <그림 5>와 같이 온도가 상승한다. <그림 6>은 바람의 방향이 아래인 온풍기가 (2, 5)에 있고, (4, 4)와 (4, 5) 사이, (4, 4)와 (5, 4) 사이, (4, 6)과 (5, 6) 사이에 벽이 있는 경우이다."
   ]
  },
  {
   "cell_type": "markdown",
   "id": "e8985446",
   "metadata": {},
   "source": [
    "구사과의 집에는 온풍기가 2대 이상 있을 수도 있다. 이 경우 각각의 온풍기에 의해서 상승한 온도를 모두 합한 값이 해당 칸의 상승한 온도이다.\n",
    "\n",
    "예를 들어, <그림 7>은 <그림 6>과 같은 벽을 가지고 있는 집에서 바람이 방향이 위인 온풍기가 (7, 5)에 있는 경우이고, <그림 8>는 <그림 6>과 같은 벽을 가지고 있는 집에서 바람의 방향이 아래인 온풍기가 (2, 5)에 있고, 바람의 방향이 위인 온풍기가 (7, 5)에 있는 경우이다. <그림 8>는 같은 벽을 가지고 있는 집에서 <그림 6>의 온풍기와 <그림 7>의 온풍기가 동시에 설치된 상황이기 때문에, 각 칸의 상승한 온도는 두 그림의 값을 더한 값과 같다. 온풍기가 있는 칸도 다른 온풍기에 의해 온도가 상승할 수 있기 때문에, <그림 8>에서 온풍기의 위치는 표시하지 않았다."
   ]
  },
  {
   "cell_type": "markdown",
   "id": "5d3a513e",
   "metadata": {},
   "source": [
    "온도가 조절되는 과정은 다음과 같다.\n",
    "\n",
    "모든 인접한 칸에 대해서, 온도가 높은 칸에서 낮은 칸으로 ⌊(두 칸의 온도의 차이)/4⌋만큼 온도가 조절된다. 온도가 높은 칸은 이 값만큼 온도가 감소하고, 낮은 칸은 온도가 상승한다. 인접한 두 칸 사이에 벽이 있는 경우에는 온도가 조절되지 않는다. 이 과정은 모든 칸에 대해서 동시에 발생한다.\n",
    "\n",
    "다음은 온도 조절의 예시이다"
   ]
  },
  {
   "cell_type": "markdown",
   "id": "bad4f03e",
   "metadata": {},
   "source": [
    "가장 바깥쪽 칸은 1행, R행, 1열, C열에 있는 칸이다. 예를 들어, <그림 9>와 같은 경우 가장 바깥쪽 칸의 온도가 1씩 감소하면 <그림 10>과 같이 된다. 온도가 0인 칸은 온도가 감소하지 않는다."
   ]
  },
  {
   "cell_type": "markdown",
   "id": "d076cdbe",
   "metadata": {},
   "source": [
    "방의 크기와 방에 설치된 온풍기의 정보, 벽의 위치와 조사하려고 하는 칸의 위치가 주어진다. 구사과가 먹은 초콜릿의 개수를 출력한다.`"
   ]
  },
  {
   "cell_type": "markdown",
   "id": "63e1f02e",
   "metadata": {},
   "source": [
    "첫째 줄에 세 정수 R, C, K가 주어진다. 둘째 줄부터 R개의 줄에 방의 정보가 주어진다. i번째 줄의 j번째 정수는 (i, j)의 정보를 의미하며 다음 중 하나이다.\n",
    "\n",
    "- 0: 빈 칸\n",
    "- 1: 방향이 오른쪽인 온풍기가 있음\n",
    "- 2: 방향이 왼쪽인 온풍기가 있음\n",
    "- 3: 방향이 위인 온풍기가 있음\n",
    "- 4: 방향이 아래인 온풍기가 있음\n",
    "- 5: 온도를 조사해야 하는 칸\n",
    "다음 줄에는 벽의 개수 W가 주어진다. 다음 W개의 줄에는 벽의 정보가 주어지며, 이 정보는 세 정수 x, y, t로 이루어져 있다. t가 0인 경우 (x, y)와 (x-1, y) 사이에 벽이 있는 것이고, 1인 경우에는 (x, y)와 (x, y+1) 사이에 벽이 있는 것이다."
   ]
  },
  {
   "cell_type": "markdown",
   "id": "f6db90c1",
   "metadata": {},
   "source": [
    "구사과가 먹는 초콜릿의 개수를 출력한다. 만약, 먹는 초콜릿의 개수가 100을 넘어가면 101을 출력한다.`"
   ]
  },
  {
   "cell_type": "code",
   "execution_count": 1,
   "id": "449454ea",
   "metadata": {},
   "outputs": [
    {
     "name": "stdout",
     "output_type": "stream",
     "text": [
      "7 8 1\n",
      "0 0 0 0 0 0 0 0\n",
      "0 0 0 0 4 0 0 0\n",
      "0 0 0 0 0 0 0 0\n",
      "0 0 5 5 0 0 0 0\n",
      "0 0 0 0 0 5 0 0\n",
      "0 0 0 0 0 0 0 0\n",
      "0 0 0 0 3 0 0 0\n",
      "3\n",
      "4 4 1\n",
      "5 4 0\n",
      "5 6 0\n",
      "1\n"
     ]
    }
   ],
   "source": [
    "from collections import deque\n",
    "\n",
    "dx = [-1,0,1,0]\n",
    "dy = [0,1,0,-1]\n",
    "\n",
    "r,c,k = map(int, input().split())\n",
    "temperature = [[[0,0,0] for _ in range(c)] for _ in range(r)]\n",
    "visited = [[0]*c for _ in range(r)]\n",
    "visited_num = 0\n",
    "\n",
    "targets = []\n",
    "heaters = []\n",
    "for x in range(r):\n",
    "    tmp = list(map(int, input().split()))\n",
    "    for y in range(c):\n",
    "        if tmp[y] == 5:\n",
    "            targets.append((x,y))\n",
    "        elif tmp[y] > 0:\n",
    "            if tmp[y] == 1:\n",
    "                typ = 1\n",
    "            elif tmp[y] == 2:\n",
    "                typ = 3\n",
    "            elif tmp[y] == 3:\n",
    "                typ = 0\n",
    "            else:\n",
    "                typ = 2\n",
    "            heaters.append((x,y,typ))\n",
    "\n",
    "w = int(input())\n",
    "wall_board = [[[False]*4 for _ in range(c)] for _ in range(r)]\n",
    "for _ in range(w):\n",
    "    x,y,t = map(int, input().split())\n",
    "    x -= 1\n",
    "    y -= 1\n",
    "    if t == 0:\n",
    "        wall_board[x][y][0] = wall_board[x-1][y][2] = True\n",
    "    else:\n",
    "        wall_board[x][y][1] = wall_board[x][y+1][3] = True\n",
    "\n",
    "def solv():\n",
    "    answer = 0\n",
    "    while True:\n",
    "        spread_heat()\n",
    "        set_temperature()\n",
    "        answer += 1\n",
    "        if check_targets():\n",
    "            print(answer)\n",
    "            return\n",
    "        if answer == 100:\n",
    "            print(101)\n",
    "            return\n",
    "\n",
    "def check_targets():\n",
    "    for x,y in targets:\n",
    "        if temperature[x][y][0] < k:\n",
    "            return False\n",
    "    return True\n",
    "def set_temperature():\n",
    "    global temperature\n",
    "\n",
    "    for x in range(r):\n",
    "        for y in range(c):\n",
    "            if temperature[x][y][0] == 0:\n",
    "                continue\n",
    "            for d in range(4):\n",
    "                nx = x + dx[d]\n",
    "                ny = y + dy[d]\n",
    "                if point_validator(nx,ny,(d+2)%4,False) and temperature[x][y][0] > temperature[nx][ny][0]:\n",
    "                    temperature[nx][ny][1] += (temperature[x][y][0]-temperature[nx][ny][0])//4\n",
    "                    temperature[x][y][2] += (temperature[x][y][0]-temperature[nx][ny][0])//4\n",
    "\n",
    "    for x in range(r):\n",
    "        for y in range(c):\n",
    "            temperature[x][y][0] += temperature[x][y][1]-temperature[x][y][2]\n",
    "            temperature[x][y][1] = temperature[x][y][2] = 0\n",
    "\n",
    "    for x in range(r):\n",
    "        for y in range(c):\n",
    "            if x == 0 or y == 0 or x == r-1 or y == c-1:\n",
    "                if temperature[x][y][0] > 0:\n",
    "                    temperature[x][y][0] -= 1\n",
    "def spread_heat():\n",
    "    global temperature,visited,visited_num\n",
    "\n",
    "    for sx,sy,typ in heaters:\n",
    "        visited_num += 1\n",
    "        sx += dx[typ]\n",
    "        sy += dy[typ]\n",
    "\n",
    "        q = deque([(sx,sy)])\n",
    "        visited[sx][sy] = visited_num\n",
    "\n",
    "        temperature[sx][sy][0] += 5\n",
    "\n",
    "        for amount in range(4,0,-1):\n",
    "            if not q:\n",
    "                break\n",
    "            q_len = len(q)\n",
    "            for idx in range(q_len):\n",
    "                x,y = q.pop()\n",
    "                nx = x + dx[typ] + dx[(typ-1)%4]\n",
    "                ny = y + dy[typ] + dy[(typ-1)%4]\n",
    "                if point_validator(nx,ny,(typ+2)%4) and not wall_board[x][y][(typ-1)%4]:\n",
    "                    temperature[nx][ny][0] += amount\n",
    "                    visited[nx][ny] = visited_num\n",
    "                    q.appendleft((nx,ny))\n",
    "\n",
    "                nx = x + dx[typ]\n",
    "                ny = y + dy[typ]\n",
    "                if point_validator(nx,ny,(typ+2)%4):\n",
    "                    temperature[nx][ny][0] += amount\n",
    "                    visited[nx][ny] = visited_num\n",
    "                    q.appendleft((nx, ny))\n",
    "\n",
    "                nx = x + dx[typ] + dx[(typ+1)%4]\n",
    "                ny = y + dy[typ] + dy[(typ+1)%4]\n",
    "                if point_validator(nx,ny,(typ+2)%4) and not wall_board[x][y][(typ+1)%4]:\n",
    "                    temperature[nx][ny][0] += amount\n",
    "                    visited[nx][ny] = visited_num\n",
    "                    q.appendleft((nx,ny))\n",
    "\n",
    "def point_validator(x,y,typ,flag=True):\n",
    "    if x < 0 or y < 0 or x >= r or y >= c:\n",
    "        return False\n",
    "    elif wall_board[x][y][typ]:\n",
    "        return False\n",
    "    elif flag and visited[x][y] == visited_num:\n",
    "        return False\n",
    "    return True\n",
    "\n",
    "solv()"
   ]
  }
 ],
 "metadata": {
  "kernelspec": {
   "display_name": "Python3.8_spare",
   "language": "python",
   "name": "spare"
  },
  "language_info": {
   "codemirror_mode": {
    "name": "ipython",
    "version": 3
   },
   "file_extension": ".py",
   "mimetype": "text/x-python",
   "name": "python",
   "nbconvert_exporter": "python",
   "pygments_lexer": "ipython3",
   "version": "3.8.12"
  }
 },
 "nbformat": 4,
 "nbformat_minor": 5
}
