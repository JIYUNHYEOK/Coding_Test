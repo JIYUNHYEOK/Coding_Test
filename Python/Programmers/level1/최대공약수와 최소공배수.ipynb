{
 "cells": [
  {
   "cell_type": "code",
   "execution_count": 1,
   "id": "d8064631",
   "metadata": {},
   "outputs": [],
   "source": [
    "def solution(n, m):\n",
    "    answer = []\n",
    "    a,b = m, n\n",
    "    \n",
    "    while (n!=0):\n",
    "        tmp = m%n\n",
    "        m =  n\n",
    "        n = tmp\n",
    "    \n",
    "    gcd = m\n",
    "    lcm = a*b/gcd\n",
    "    \n",
    "    answer.append(gcd)\n",
    "    answer.append(int(lcm))\n",
    "    \n",
    "    return answer"
   ]
  },
  {
   "cell_type": "code",
   "execution_count": 2,
   "id": "adf7416c",
   "metadata": {},
   "outputs": [
    {
     "data": {
      "text/plain": [
       "[3, 12]"
      ]
     },
     "execution_count": 2,
     "metadata": {},
     "output_type": "execute_result"
    }
   ],
   "source": [
    "solution(3,12)"
   ]
  },
  {
   "cell_type": "code",
   "execution_count": 3,
   "id": "e193da8f",
   "metadata": {},
   "outputs": [
    {
     "data": {
      "text/plain": [
       "[1, 10]"
      ]
     },
     "execution_count": 3,
     "metadata": {},
     "output_type": "execute_result"
    }
   ],
   "source": [
    "solution(2,5)"
   ]
  }
 ],
 "metadata": {
  "kernelspec": {
   "display_name": "Python3.8_spare",
   "language": "python",
   "name": "spare"
  },
  "language_info": {
   "codemirror_mode": {
    "name": "ipython",
    "version": 3
   },
   "file_extension": ".py",
   "mimetype": "text/x-python",
   "name": "python",
   "nbconvert_exporter": "python",
   "pygments_lexer": "ipython3",
   "version": "3.8.12"
  }
 },
 "nbformat": 4,
 "nbformat_minor": 5
}
