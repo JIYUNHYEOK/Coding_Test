{
 "cells": [
  {
   "cell_type": "code",
   "execution_count": 1,
   "id": "a5966723",
   "metadata": {},
   "outputs": [
    {
     "name": "stdout",
     "output_type": "stream",
     "text": [
      "2\n",
      "5 6\n",
      "0 0 1 0\n",
      "30\n",
      "30\n"
     ]
    }
   ],
   "source": [
    "n = int(input())\n",
    "\n",
    "# 연산을 수행하고자 하는 수 리스트\n",
    "data = list(map(int, input().split()))\n",
    "\n",
    "# 더하기, 빼기, 곱하기, 나누기 연산자 개수\n",
    "add, sub, mul, div = map(int, input().split())\n",
    "\n",
    "# 최솟값과 최댓값 초기화\n",
    "min_value = 1e9\n",
    "max_value = -1e9\n",
    "\n",
    "# 깊이 우선 탐색 (DFS) 메서드\n",
    "def dfs(i, now):\n",
    "    global min_value, max_value, add, sub, mul, div\n",
    "    \n",
    "    # 모든 연산자를 다 사용한 경우, 최솟값과 최댓값 업데이트\n",
    "    if i == n:\n",
    "        min_value = min(min_value, now)\n",
    "        max_value = max(max_value, now)\n",
    "        \n",
    "    else:\n",
    "        # 각 연산자에 대하여 재귀적으로 수행\n",
    "        if add > 0:\n",
    "            add -= 1\n",
    "            dfs(i+1, now + data[i])\n",
    "            add += 1\n",
    "        if sub > 0:\n",
    "            sub -= 1\n",
    "            dfs(i+1, now - data[i])\n",
    "            sub += 1\n",
    "        if mul > 0:\n",
    "            mul -= 1\n",
    "            dfs(i+1, now * data[i])\n",
    "            mul += 1\n",
    "        if div > 0:\n",
    "            div -= 1\n",
    "            dfs(i+1, now//data[i]) # 나눌 경우에는 나머지를 제거하고 몫만 가져옴\n",
    "            div += 1\n",
    "            \n",
    "# DFS 메서드 호출\n",
    "dfs(1, data[0])\n",
    "\n",
    "# 최댓값과 최솟값 차례대로 출력\n",
    "print(max_value)\n",
    "print(min_value)"
   ]
  },
  {
   "cell_type": "code",
   "execution_count": null,
   "id": "8d592172",
   "metadata": {},
   "outputs": [],
   "source": []
  }
 ],
 "metadata": {
  "kernelspec": {
   "display_name": "Python3.8_spare",
   "language": "python",
   "name": "spare"
  },
  "language_info": {
   "codemirror_mode": {
    "name": "ipython",
    "version": 3
   },
   "file_extension": ".py",
   "mimetype": "text/x-python",
   "name": "python",
   "nbconvert_exporter": "python",
   "pygments_lexer": "ipython3",
   "version": "3.8.12"
  }
 },
 "nbformat": 4,
 "nbformat_minor": 5
}
