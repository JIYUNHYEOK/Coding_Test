{
 "cells": [
  {
   "cell_type": "code",
   "execution_count": 1,
   "id": "cc60a7a3",
   "metadata": {},
   "outputs": [],
   "source": [
    "def solution(phone_number):\n",
    "    answer = ''\n",
    "    for i in range(len(phone_number)):\n",
    "        if i < len(phone_number)-4:\n",
    "            answer += '*'\n",
    "        else:\n",
    "            answer += phone_number[i]\n",
    "    return answer"
   ]
  },
  {
   "cell_type": "code",
   "execution_count": 2,
   "id": "a5a0cb43",
   "metadata": {},
   "outputs": [
    {
     "data": {
      "text/plain": [
       "'*******4444'"
      ]
     },
     "execution_count": 2,
     "metadata": {},
     "output_type": "execute_result"
    }
   ],
   "source": [
    "solution(\"01033334444\")"
   ]
  },
  {
   "cell_type": "code",
   "execution_count": 3,
   "id": "001e196a",
   "metadata": {},
   "outputs": [
    {
     "data": {
      "text/plain": [
       "'*****8888'"
      ]
     },
     "execution_count": 3,
     "metadata": {},
     "output_type": "execute_result"
    }
   ],
   "source": [
    "solution(\"027778888\")"
   ]
  }
 ],
 "metadata": {
  "kernelspec": {
   "display_name": "Python3.8_spare",
   "language": "python",
   "name": "spare"
  },
  "language_info": {
   "codemirror_mode": {
    "name": "ipython",
    "version": 3
   },
   "file_extension": ".py",
   "mimetype": "text/x-python",
   "name": "python",
   "nbconvert_exporter": "python",
   "pygments_lexer": "ipython3",
   "version": "3.8.12"
  }
 },
 "nbformat": 4,
 "nbformat_minor": 5
}
