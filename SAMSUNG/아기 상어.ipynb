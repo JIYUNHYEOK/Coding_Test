{
 "cells": [
  {
   "cell_type": "markdown",
   "id": "ec976415",
   "metadata": {},
   "source": [
    "# 아기 상어"
   ]
  },
  {
   "cell_type": "markdown",
   "id": "dd033101",
   "metadata": {},
   "source": [
    "N×N 크기의 공간에 물고기 M마리와 아기 상어 1마리가 있다. 공간은 1×1 크기의 정사각형 칸으로 나누어져 있다. 한 칸에는 물고기가 최대 1마리 존재한다.\n",
    "\n",
    "아기 상어와 물고기는 모두 크기를 가지고 있고, 이 크기는 자연수이다. 가장 처음에 아기 상어의 크기는 2이고, 아기 상어는 1초에 상하좌우로 인접한 한 칸씩 이동한다.\n",
    "\n",
    "아기 상어는 자신의 크기보다 큰 물고기가 있는 칸은 지나갈 수 없고, 나머지 칸은 모두 지나갈 수 있다. 아기 상어는 자신의 크기보다 작은 물고기만 먹을 수 있다. 따라서, 크기가 같은 물고기는 먹을 수 없지만, 그 물고기가 있는 칸은 지나갈 수 있다.\n",
    "\n",
    "아기 상어가 어디로 이동할지 결정하는 방법은 아래와 같다.\n",
    "\n",
    "- 더 이상 먹을 수 있는 물고기가 공간에 없다면 아기 상어는 엄마 상어에게 도움을 요청한다.\n",
    "- 먹을 수 있는 물고기가 1마리라면, 그 물고기를 먹으러 간다.\n",
    "- 먹을 수 있는 물고기가 1마리보다 많다면, 거리가 가장 가까운 물고기를 먹으러 간다.\n",
    "    - 거리는 아기 상어가 있는 칸에서 물고기가 있는 칸으로 이동할 때, 지나야하는 칸의 개수의 최솟값이다.\n",
    "    - 거리가 가까운 물고기가 많다면, 가장 위에 있는 물고기, 그러한 물고기가 여러마리라면, 가장 왼쪽에 있는 물고기를 먹는다.\n",
    "아기 상어의 이동은 1초 걸리고, 물고기를 먹는데 걸리는 시간은 없다고 가정한다. 즉, 아기 상어가 먹을 수 있는 물고기가 있는 칸으로 이동했다면, 이동과 동시에 물고기를 먹는다. 물고기를 먹으면, 그 칸은 빈 칸이 된다.\n",
    "\n",
    "아기 상어는 자신의 크기와 같은 수의 물고기를 먹을 때 마다 크기가 1 증가한다. 예를 들어, 크기가 2인 아기 상어는 물고기를 2마리 먹으면 크기가 3이 된다.\n",
    "\n",
    "공간의 상태가 주어졌을 때, 아기 상어가 몇 초 동안 엄마 상어에게 도움을 요청하지 않고 물고기를 잡아먹을 수 있는지 구하는 프로그램을 작성하시오."
   ]
  },
  {
   "cell_type": "markdown",
   "id": "62c4774f",
   "metadata": {},
   "source": [
    "첫째 줄에 공간의 크기 N(2 ≤ N ≤ 20)이 주어진다.\n",
    "\n",
    "둘째 줄부터 N개의 줄에 공간의 상태가 주어진다. 공간의 상태는 0, 1, 2, 3, 4, 5, 6, 9로 이루어져 있고, 아래와 같은 의미를 가진다.\n",
    "\n",
    "- 0: 빈 칸\n",
    "- 1, 2, 3, 4, 5, 6: 칸에 있는 물고기의 크기\n",
    "- 9: 아기 상어의 위치\n",
    "아기 상어는 공간에 한 마리 있다."
   ]
  },
  {
   "cell_type": "markdown",
   "id": "dca70c58",
   "metadata": {},
   "source": [
    "첫째 줄에 아기 상어가 엄마 상어에게 도움을 요청하지 않고 물고기를 잡아먹을 수 있는 시간을 출력한다."
   ]
  },
  {
   "cell_type": "code",
   "execution_count": 1,
   "id": "046f1753",
   "metadata": {},
   "outputs": [
    {
     "name": "stdout",
     "output_type": "stream",
     "text": [
      "6\n",
      "6 0 6 0 6 1\n",
      "0 0 0 0 0 2\n",
      "2 3 4 5 6 6\n",
      "0 0 0 0 0 2\n",
      "0 2 0 0 0 0\n",
      "3 9 3 0 0 1\n",
      "48\n"
     ]
    }
   ],
   "source": [
    "from collections import deque\n",
    "\n",
    "# 공간의 크기\n",
    "n = int(input())\n",
    "\n",
    "# 상어의 위치\n",
    "s_x, s_y = -1, -1\n",
    "\n",
    "# 상어의 크기, 아기상어가 먹은 물고기 수\n",
    "s_level, eat = 2, 0\n",
    "\n",
    "# 수조\n",
    "board = []\n",
    "\n",
    "# 방향 설정\n",
    "dx = [-1, 1, 0 , 0]\n",
    "dy = [0, 0, -1, 1]\n",
    "\n",
    "for i in range(n):\n",
    "    data = list(map(int, input().split()))\n",
    "    board.append(data)\n",
    "    for j in range(n):\n",
    "        # 아기 상어의 위치 저장\n",
    "        if data[j] == 9:\n",
    "            s_x, s_y = i, j\n",
    "            \n",
    "board[s_x][s_y] = 0\n",
    "\n",
    "def bfs(s_x, s_y, s_level):\n",
    "    visit = [[False] * n for _ in range(n)]\n",
    "    queue = deque()\n",
    "    queue.append((s_x, s_y, 0))\n",
    "    visit[s_x][s_y] = True\n",
    "    \n",
    "    # 현재 아기 상어가 먹을 수 있는 물고기의 행,열 정보와 그 물고기까지의 이동 거리를 저장\n",
    "    fish = []\n",
    "    \n",
    "    while queue:\n",
    "        x, y, count = queue.popleft()\n",
    "        \n",
    "        for i in range(4):\n",
    "            nx = x + dx[i]\n",
    "            ny = y + dy[i]\n",
    "            \n",
    "            if 0 <= nx < n and 0 <= ny < n and not visit[nx][ny]:\n",
    "                visit[nx][ny] = True\n",
    "                \n",
    "                # 빈칸이 아니고, 상어의 크기보다 작을 경우\n",
    "                if board[nx][ny] != 0 and board[nx][ny] < s_level:\n",
    "                    # 먹을 수 있는 물고기\n",
    "                    fish.append((count+1, nx, ny))\n",
    "                    queue.append((nx, ny, count+1))\n",
    "                    visit[nx][ny] = True\n",
    "                    \n",
    "                # 빈칸이거나, 상어의 크기와 같을 경우\n",
    "                elif board[nx][ny] == 0 or board[nx][ny] == s_level:\n",
    "                    # 지나갈 수 있음\n",
    "                    visit[nx][ny] = True\n",
    "                    queue.append((nx, ny, count+1))\n",
    "                    \n",
    "    fish.sort()\n",
    "    if fish:\n",
    "        # x, y, level 순서로 return\n",
    "        return [fish[0][1], fish[0][2], fish[0][0]]\n",
    "    else:\n",
    "        return []\n",
    "    \n",
    "answer = 0\n",
    "\n",
    "while True:\n",
    "    fish_eat = bfs(s_x, s_y, s_level)\n",
    "    \n",
    "    if fish_eat:\n",
    "        x, y, move = fish_eat\n",
    "        board[x][y] = 0\n",
    "        eat += 1\n",
    "        answer += move\n",
    "        \n",
    "        if eat == s_level:\n",
    "            s_level += 1\n",
    "            eat = 0\n",
    "        s_x, s_y = x, y\n",
    "    else:\n",
    "        break\n",
    "        \n",
    "print(answer)"
   ]
  }
 ],
 "metadata": {
  "kernelspec": {
   "display_name": "Python3.8_spare",
   "language": "python",
   "name": "spare"
  },
  "language_info": {
   "codemirror_mode": {
    "name": "ipython",
    "version": 3
   },
   "file_extension": ".py",
   "mimetype": "text/x-python",
   "name": "python",
   "nbconvert_exporter": "python",
   "pygments_lexer": "ipython3",
   "version": "3.8.12"
  }
 },
 "nbformat": 4,
 "nbformat_minor": 5
}
