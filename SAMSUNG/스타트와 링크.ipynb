{
 "cells": [
  {
   "cell_type": "markdown",
   "id": "9dc6bb4e",
   "metadata": {},
   "source": [
    "# 스타트와 링크"
   ]
  },
  {
   "cell_type": "markdown",
   "id": "733e202c",
   "metadata": {},
   "source": [
    "오늘은 스타트링크에 다니는 사람들이 모여서 축구를 해보려고 한다. 축구는 평일 오후에 하고 의무 참석도 아니다. 축구를 하기 위해 모인 사람은 총 N명이고 신기하게도 N은 짝수이다. 이제 N/2명으로 이루어진 스타트 팀과 링크 팀으로 사람들을 나눠야 한다.\n",
    "\n",
    "BOJ를 운영하는 회사 답게 사람에게 번호를 1부터 N까지로 배정했고, 아래와 같은 능력치를 조사했다. 능력치 Sij는 i번 사람과 j번 사람이 같은 팀에 속했을 때, 팀에 더해지는 능력치이다. 팀의 능력치는 팀에 속한 모든 쌍의 능력치 Sij의 합이다. Sij는 Sji와 다를 수도 있으며, i번 사람과 j번 사람이 같은 팀에 속했을 때, 팀에 더해지는 능력치는 Sij와 Sji이다."
   ]
  },
  {
   "cell_type": "markdown",
   "id": "9ee61baa",
   "metadata": {},
   "source": [
    "예를 들어, 1, 2번이 스타트 팀, 3, 4번이 링크 팀에 속한 경우에 두 팀의 능력치는 아래와 같다.\n",
    "\n",
    "스타트 팀: S12 + S21 = 1 + 4 = 5\n",
    "링크 팀: S34 + S43 = 2 + 5 = 7\n",
    "1, 3번이 스타트 팀, 2, 4번이 링크 팀에 속하면, 두 팀의 능력치는 아래와 같다.\n",
    "\n",
    "스타트 팀: S13 + S31 = 2 + 7 = 9\n",
    "링크 팀: S24 + S42 = 6 + 4 = 10\n",
    "축구를 재미있게 하기 위해서 스타트 팀의 능력치와 링크 팀의 능력치의 차이를 최소로 하려고 한다. 위의 예제와 같은 경우에는 1, 4번이 스타트 팀, 2, 3번 팀이 링크 팀에 속하면 스타트 팀의 능력치는 6, 링크 팀의 능력치는 6이 되어서 차이가 0이 되고 이 값이 최소이다."
   ]
  },
  {
   "cell_type": "markdown",
   "id": "ab2c3536",
   "metadata": {},
   "source": [
    "첫째 줄에 N(4 ≤ N ≤ 20, N은 짝수)이 주어진다. 둘째 줄부터 N개의 줄에 S가 주어진다. 각 줄은 N개의 수로 이루어져 있고, i번 줄의 j번째 수는 Sij 이다. Sii는 항상 0이고, 나머지 Sij는 1보다 크거나 같고, 100보다 작거나 같은 정수이다."
   ]
  },
  {
   "cell_type": "markdown",
   "id": "24c577db",
   "metadata": {},
   "source": [
    "첫째 줄에 스타트 팀과 링크 팀의 능력치의 차이의 최솟값을 출력한다."
   ]
  },
  {
   "cell_type": "code",
   "execution_count": 1,
   "id": "446b46db",
   "metadata": {},
   "outputs": [
    {
     "name": "stdout",
     "output_type": "stream",
     "text": [
      "4\n",
      "0 1 2 3\n",
      "4 0 5 6\n",
      "7 1 0 2\n",
      "3 4 5 0\n",
      "0\n"
     ]
    }
   ],
   "source": [
    "n = int(input())\n",
    "\n",
    "min_diff = 1e9 # 결과값 출력을 위해 result 값을 문제 범위를 벗어난 값으로 초기화\n",
    "graph = [list(map(int, input().split())) for _ in range(n)]\n",
    "visited = [False for _ in range(n)] # 방문여부 확인\n",
    "\n",
    "def dfs(depth, idx):\n",
    "    global min_diff\n",
    "    \n",
    "    if depth == n//2:\n",
    "        start, link = 0, 0\n",
    "        \n",
    "        for i in range(n):\n",
    "            for j in range(n):\n",
    "                if visited[i] and visited[j]:\n",
    "                    start += graph[i][j]\n",
    "                elif not visited[i] and not visited[j]:\n",
    "                    link += graph[i][j]\n",
    "        min_diff = min(min_diff, abs(start-link))\n",
    "        \n",
    "    for i in range(idx, n):\n",
    "        if not visited[i]:\n",
    "            visited[i] = True\n",
    "            dfs(depth+1, i+1)\n",
    "            visited[i] = False\n",
    "            \n",
    "dfs(0,0)\n",
    "print(min_diff)"
   ]
  }
 ],
 "metadata": {
  "kernelspec": {
   "display_name": "Python3.8_spare",
   "language": "python",
   "name": "spare"
  },
  "language_info": {
   "codemirror_mode": {
    "name": "ipython",
    "version": 3
   },
   "file_extension": ".py",
   "mimetype": "text/x-python",
   "name": "python",
   "nbconvert_exporter": "python",
   "pygments_lexer": "ipython3",
   "version": "3.8.12"
  }
 },
 "nbformat": 4,
 "nbformat_minor": 5
}
