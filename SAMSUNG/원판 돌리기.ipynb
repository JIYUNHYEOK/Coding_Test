{
 "cells": [
  {
   "cell_type": "markdown",
   "id": "2905cc6c",
   "metadata": {},
   "source": [
    "# 원판 돌리기"
   ]
  },
  {
   "cell_type": "markdown",
   "id": "adaf0539",
   "metadata": {},
   "source": [
    "반지름이 1, 2, ..., N인 원판이 크기가 작아지는 순으로 바닥에 놓여있고, 원판의 중심은 모두 같다. 원판의 반지름이 i이면, 그 원판을 i번째 원판이라고 한다. 각각의 원판에는 M개의 정수가 적혀있고, i번째 원판에 적힌 j번째 수의 위치는 (i, j)로 표현한다. 수의 위치는 다음을 만족한다.\n",
    "\n",
    "- (i, 1)은 (i, 2), (i, M)과 인접하다.\n",
    "- (i, M)은 (i, M-1), (i, 1)과 인접하다.\n",
    "- (i, j)는 (i, j-1), (i, j+1)과 인접하다. (2 ≤ j ≤ M-1)\n",
    "- (1, j)는 (2, j)와 인접하다.\n",
    "- (N, j)는 (N-1, j)와 인접하다.\n",
    "- (i, j)는 (i-1, j), (i+1, j)와 인접하다. (2 ≤ i ≤ N-1)  \n",
    "아래 그림은 N = 3, M = 4인 경우이다."
   ]
  },
  {
   "cell_type": "markdown",
   "id": "0bf534f6",
   "metadata": {},
   "source": [
    "원판의 회전은 독립적으로 이루어진다. 2번 원판을 회전했을 때, 나머지 원판은 회전하지 않는다. 원판을 회전시킬 때는 수의 위치를 기준으로 하며, 회전시킨 후의 수의 위치는 회전시키기 전과 일치해야 한다."
   ]
  },
  {
   "cell_type": "markdown",
   "id": "c5990115",
   "metadata": {},
   "source": [
    "원판을 아래와 같은 방법으로 총 T번 회전시키려고 한다. 원판의 회전 방법은 미리 정해져 있고, i번째 회전할때 사용하는 변수는 xi, di, ki이다.\n",
    "\n",
    "1. 번호가 xi의 배수인 원판을 di방향으로 ki칸 회전시킨다. di가 0인 경우는 시계 방향, 1인 경우는 반시계 방향이다.\n",
    "2. 원판에 수가 남아 있으면, 인접하면서 수가 같은 것을 모두 찾는다.\n",
    "    1. 그러한 수가 있는 경우에는 원판에서 인접하면서 같은 수를 모두 지운다.\n",
    "    2. 없는 경우에는 원판에 적힌 수의 평균을 구하고, 평균보다 큰 수에서 1을 빼고, 작은 수에는 1을 더한다.\n",
    "원판을 T번 회전시킨 후 원판에 적힌 수의 합을 구해보자."
   ]
  },
  {
   "cell_type": "markdown",
   "id": "a1fb005c",
   "metadata": {},
   "source": [
    "첫째 줄에 N, M, T이 주어진다.\n",
    "\n",
    "둘째 줄부터 N개의 줄에 원판에 적힌 수가 주어진다. i번째 줄의 j번째 수는 (i, j)에 적힌 수를 의미한다.\n",
    "\n",
    "다음 T개의 줄에 xi, di, ki가 주어진다."
   ]
  },
  {
   "cell_type": "markdown",
   "id": "4235dde8",
   "metadata": {},
   "source": [
    "원판을 T번 회전시킨 후 원판에 적힌 수의 합을 출력한다."
   ]
  },
  {
   "cell_type": "code",
   "execution_count": 1,
   "id": "3751338f",
   "metadata": {},
   "outputs": [
    {
     "name": "stdout",
     "output_type": "stream",
     "text": [
      "4 4 3\n",
      "1 1 2 3\n",
      "5 2 4 2\n",
      "3 1 3 5\n",
      "2 1 3 2\n",
      "2 0 1\n",
      "3 1 3\n",
      "2 0 2\n",
      "22\n"
     ]
    }
   ],
   "source": [
    "from collections import deque\n",
    "\n",
    "# 가장 큰 반지름 n, 각 원판에 적혀있는 숫자의 갯수 m, 회전하는 횟수 t\n",
    "n, m, t = map(int, input().split())\n",
    "\n",
    "# 각 원판에 적혀있는 수\n",
    "board = [list(map(int, input().split())) for _ in range(n)]\n",
    "\n",
    "# 동 - 서 - 남 - 북\n",
    "dx = [0, 0, 1, -1]\n",
    "dy = [1, -1, 0, 0]\n",
    "\n",
    "def rotate(x, d, k):\n",
    "    q = deque()\n",
    "    q.extend(board[x])\n",
    "    \n",
    "    # 시계방향일 경우\n",
    "    if d == 0:\n",
    "        # 시계방향으로 k배 만큼 돌리기\n",
    "        q.rotate(k)\n",
    "    else:\n",
    "        # 반시계방향 만큼 k배 돌리기\n",
    "        q.rotate(-k)\n",
    "        \n",
    "    board[x] = list(q)\n",
    "    \n",
    "def change_avg():\n",
    "    avg_count = 0\n",
    "    all_sum = 0\n",
    "    \n",
    "    for i in range(n):\n",
    "        for j in range(m):\n",
    "            if board[i][j] != 0:\n",
    "                avg_count += 1\n",
    "                all_sum += board[i][j]\n",
    "    \n",
    "    if avg_count == 0:\n",
    "        return False\n",
    "    \n",
    "    avg = all_sum / avg_count\n",
    "    \n",
    "    for i in range(n):\n",
    "        for j in range(m):\n",
    "            if board[i][j] != 0:\n",
    "                if board[i][j] > avg:\n",
    "                    board[i][j] -= 1\n",
    "                elif board[i][j] < avg:\n",
    "                    board[i][j] += 1\n",
    "    \n",
    "    return True\n",
    "\n",
    "def solve(x, y):\n",
    "    q = deque()\n",
    "    q.append((x,y))\n",
    "    visit[x][y] = True\n",
    "    value = board[x][y]\n",
    "    board[x][y] = 0\n",
    "    count = 0\n",
    "    \n",
    "    while q:\n",
    "        x, y = q.popleft()\n",
    "        \n",
    "        for i in range(4):\n",
    "            nx = x + dx[i]\n",
    "            # 해당 부분은 원형으로 돌기 때문에 나머지를 통해 순환\n",
    "            ny = (y + dy[i]) % m\n",
    "            \n",
    "            if 0 <= nx < n and 0 <= ny < m:\n",
    "                # 방문하지 않은 인접한 부분 중에서\n",
    "                if not visit[nx][ny]:\n",
    "                    # 서로 같은 값을 가질 경우\n",
    "                    if board[nx][ny] == value:\n",
    "                        count += 1\n",
    "                        # 값을 0으로 바꿈\n",
    "                        board[nx][ny] = 0\n",
    "                        visit[nx][ny] = True\n",
    "                        q.append((nx, ny))\n",
    "    \n",
    "    # 인접한 경우에 대해 같은 값이 없을 경우에는 원래 값 넣어주는 방식\n",
    "    if count == 0:\n",
    "        board[x][y] = value\n",
    "        \n",
    "    return count\n",
    "\n",
    "for _ in range(t):\n",
    "    x, d, k = map(int, input().split())\n",
    "    check_sum = 0\n",
    "    \n",
    "    for i in range(n):\n",
    "        check_sum += sum(board[i])\n",
    "        \n",
    "        if (i+1) % x == 0:\n",
    "            rotate(i, d, k)\n",
    "    \n",
    "    if check_sum == 0:\n",
    "        break\n",
    "    \n",
    "    else:\n",
    "        visit = [[False] * m for _ in range(n)]\n",
    "        count = 0\n",
    "        # 모든 행과 열에 대하여 BFS를 돌린 뒤, 인접한 숫자 제거\n",
    "        for i in range(n):\n",
    "            for j in range(m):\n",
    "                if not visit[i][j] and board[i][j] != 0:\n",
    "                    # 인접하면서 같은 수 탐색\n",
    "                    count += solve(i,j)\n",
    "        \n",
    "        # 인접한 숫자가 하나도 없다면, change_avg()를 통해 원판의 숫자 변경\n",
    "        if count == 0:\n",
    "            change_avg()\n",
    "            \n",
    "answer = 0\n",
    "for i in range(n):\n",
    "    answer += sum(board[i])\n",
    "    \n",
    "print(answer)"
   ]
  }
 ],
 "metadata": {
  "kernelspec": {
   "display_name": "Python3.8_spare",
   "language": "python",
   "name": "spare"
  },
  "language_info": {
   "codemirror_mode": {
    "name": "ipython",
    "version": 3
   },
   "file_extension": ".py",
   "mimetype": "text/x-python",
   "name": "python",
   "nbconvert_exporter": "python",
   "pygments_lexer": "ipython3",
   "version": "3.8.12"
  }
 },
 "nbformat": 4,
 "nbformat_minor": 5
}
