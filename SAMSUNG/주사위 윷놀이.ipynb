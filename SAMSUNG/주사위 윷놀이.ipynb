{
 "cells": [
  {
   "cell_type": "markdown",
   "id": "f58b0e03",
   "metadata": {},
   "source": [
    "# 주사위 윷놀이"
   ]
  },
  {
   "cell_type": "markdown",
   "id": "9ad22aea",
   "metadata": {},
   "source": [
    "주사위 윷놀이는 다음과 같은 게임판에서 하는 게임이다."
   ]
  },
  {
   "cell_type": "markdown",
   "id": "f610ba6c",
   "metadata": {},
   "source": [
    "- 처음에는 시작 칸에 말 4개가 있다.\n",
    "- 말은 게임판에 그려진 화살표의 방향대로만 이동할 수 있다. 말이 파란색 칸에서 이동을 시작하면 파란색 화살표를 타야 하고, 이동하는 도중이거나 파란색이 아닌 칸에서 이동을 시작하면 빨간색 화살표를 타야 한다. 말이 도착 칸으로 이동하면 주사위에 나온 수와 관계 없이 이동을 마친다.\n",
    "- 게임은 10개의 턴으로 이루어진다. 매 턴마다 1부터 5까지 한 면에 하나씩 적혀있는 5면체 주사위를 굴리고, 도착 칸에 있지 않은 말을 하나 골라 주사위에 나온 수만큼 이동시킨다.\n",
    "- 말이 이동을 마치는 칸에 다른 말이 있으면 그 말은 고를 수 없다. 단, 이동을 마치는 칸이 도착 칸이면 고를 수 있다.\n",
    "- 말이 이동을 마칠 때마다 칸에 적혀있는 수가 점수에 추가된다.  \n",
    "주사위에서 나올 수 10개를 미리 알고 있을 때, 얻을 수 있는 점수의 최댓값을 구해보자."
   ]
  },
  {
   "cell_type": "markdown",
   "id": "0624c505",
   "metadata": {},
   "source": [
    "첫째 줄에 주사위에서 나올 수 10개가 순서대로 주어진다."
   ]
  },
  {
   "cell_type": "markdown",
   "id": "eeace5c4",
   "metadata": {},
   "source": [
    "얻을 수 있는 점수의 최댓값을 출력한다."
   ]
  },
  {
   "cell_type": "code",
   "execution_count": 1,
   "id": "70cfeaa2",
   "metadata": {},
   "outputs": [
    {
     "name": "stdout",
     "output_type": "stream",
     "text": [
      "1 2 3 4 1 2 3 4 1 2\n",
      "190\n"
     ]
    }
   ],
   "source": [
    "dice = list(map(int, input().split()))\n",
    "\n",
    "horse = [0, 0, 0, 0]\n",
    "\n",
    "connet = [0 for _ in range(33)]\n",
    "# 외곽(1 ~ 20)\n",
    "for i in range(21):\n",
    "    connet[i] = i+1\n",
    "# 도착\n",
    "connet[21] = 21\n",
    "# 10번 다음 (22 ~ 24)\n",
    "connet[22], connet[23], connet[24] = 23, 24, 30\n",
    "# 20번 다음 (25 ~ 26)\n",
    "connet[25], connet[26] = 26, 30\n",
    "# 30번 다음 (27 ~ 29)\n",
    "connet[27], connet[28], connet[29] = 28, 29, 30\n",
    "# 가운데(25) ~ 40전\n",
    "connet[30], connet[31], connet[32] = 31, 32, 20\n",
    "\n",
    "# 점수\n",
    "board = [0 for _ in range(33)]\n",
    "for i in range(1, 21):\n",
    "    board[i] = i * 2\n",
    "board[21] = 0\n",
    "board[22], board[23], board[24] = 13, 16, 19\n",
    "board[25], board[26] = 22, 24\n",
    "board[27], board[28], board[29] = 28, 27, 26\n",
    "board[30], board[31], board[32] = 25, 30, 35\n",
    "dul = [0 for _ in range(33)]\n",
    "def dfs(depth, score):\n",
    "    global score_max\n",
    "    if depth == 10:\n",
    "        score_max = max(score_max, score)\n",
    "        return\n",
    "\n",
    "    for i in range(4):\n",
    "        # 말 현재 위치에서 주사위 만큼 이동\n",
    "        x, now_x, num = horse[i], horse[i], dice[depth]\n",
    "        if x in [5, 10, 15]:\n",
    "            if x == 5:\n",
    "                x = 22\n",
    "            elif x == 10:\n",
    "                x = 25\n",
    "            else:\n",
    "                x = 27\n",
    "            num -= 1\n",
    "        if x + num <= 21:\n",
    "            x += num\n",
    "        else:\n",
    "            for _ in range(num):\n",
    "                x = connet[x]\n",
    "        if dul[x] and x != 21:\n",
    "            continue\n",
    "        dul[now_x], dul[x], horse[i] = 0, 1, x\n",
    "        dfs(depth+1, score+board[x])\n",
    "        dul[now_x], dul[x], horse[i] = 1, 0, now_x\n",
    "score_max = 0\n",
    "dfs(0, 0)\n",
    "print(score_max)"
   ]
  }
 ],
 "metadata": {
  "kernelspec": {
   "display_name": "Python3.8_spare",
   "language": "python",
   "name": "spare"
  },
  "language_info": {
   "codemirror_mode": {
    "name": "ipython",
    "version": 3
   },
   "file_extension": ".py",
   "mimetype": "text/x-python",
   "name": "python",
   "nbconvert_exporter": "python",
   "pygments_lexer": "ipython3",
   "version": "3.8.12"
  }
 },
 "nbformat": 4,
 "nbformat_minor": 5
}
