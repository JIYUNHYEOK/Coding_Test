{
 "cells": [
  {
   "cell_type": "markdown",
   "id": "6c77397c",
   "metadata": {},
   "source": [
    "# 감시"
   ]
  },
  {
   "cell_type": "markdown",
   "id": "173808f4",
   "metadata": {},
   "source": [
    "스타트링크의 사무실은 1×1크기의 정사각형으로 나누어져 있는 N×M 크기의 직사각형으로 나타낼 수 있다. 사무실에는 총 K개의 CCTV가 설치되어져 있는데, CCTV는 5가지 종류가 있다. 각 CCTV가 감시할 수 있는 방법은 다음과 같다."
   ]
  },
  {
   "cell_type": "markdown",
   "id": "0fcfe4ba",
   "metadata": {},
   "source": [
    "1번 CCTV는 한 쪽 방향만 감시할 수 있다. 2번과 3번은 두 방향을 감시할 수 있는데, 2번은 감시하는 방향이 서로 반대방향이어야 하고, 3번은 직각 방향이어야 한다. 4번은 세 방향, 5번은 네 방향을 감시할 수 있다.\n",
    "\n",
    "CCTV는 감시할 수 있는 방향에 있는 칸 전체를 감시할 수 있다. 사무실에는 벽이 있는데, CCTV는 벽을 통과할 수 없다. CCTV가 감시할 수 없는 영역은 사각지대라고 한다.\n",
    "\n",
    "CCTV는 회전시킬 수 있는데, 회전은 항상 90도 방향으로 해야 하며, 감시하려고 하는 방향이 가로 또는 세로 방향이어야 한다."
   ]
  },
  {
   "cell_type": "markdown",
   "id": "4f43e154",
   "metadata": {},
   "source": [
    "지도에서 0은 빈 칸, 6은 벽, 1~5는 CCTV의 번호이다. 위의 예시에서 1번의 방향에 따라 감시할 수 있는 영역을 '#'로 나타내면 아래와 같다."
   ]
  },
  {
   "cell_type": "markdown",
   "id": "6db36e23",
   "metadata": {},
   "source": [
    "CCTV는 벽을 통과할 수 없기 때문에, 1번이 → 방향을 감시하고 있을 때는 6의 오른쪽에 있는 칸을 감시할 수 없다."
   ]
  },
  {
   "cell_type": "markdown",
   "id": "e59a3231",
   "metadata": {},
   "source": [
    "사무실의 크기와 상태, 그리고 CCTV의 정보가 주어졌을 때, CCTV의 방향을 적절히 정해서, 사각 지대의 최소 크기를 구하는 프로그램을 작성하시오."
   ]
  },
  {
   "cell_type": "markdown",
   "id": "a8822ccf",
   "metadata": {},
   "source": [
    "첫째 줄에 사무실의 세로 크기 N과 가로 크기 M이 주어진다. (1 ≤ N, M ≤ 8)\n",
    "\n",
    "둘째 줄부터 N개의 줄에는 사무실 각 칸의 정보가 주어진다. 0은 빈 칸, 6은 벽, 1~5는 CCTV를 나타내고, 문제에서 설명한 CCTV의 종류이다. \n",
    "\n",
    "CCTV의 최대 개수는 8개를 넘지 않는다."
   ]
  },
  {
   "cell_type": "markdown",
   "id": "0c45a2ed",
   "metadata": {},
   "source": [
    "첫째 줄에 사각 지대의 최소 크기를 출력한다."
   ]
  },
  {
   "cell_type": "code",
   "execution_count": 1,
   "id": "4c9734a2",
   "metadata": {},
   "outputs": [
    {
     "name": "stdout",
     "output_type": "stream",
     "text": [
      "4 6\n",
      "0 0 0 0 0 0\n",
      "0 0 0 0 0 0\n",
      "0 0 1 0 6 0\n",
      "0 0 0 0 0 0\n",
      "20\n"
     ]
    }
   ],
   "source": [
    "n, m = map(int, input().split())\n",
    "cctv = []\n",
    "array = []\n",
    "mode = [\n",
    "    [],\n",
    "    [[0], [1], [2], [3]],\n",
    "    [[0,2], [1,3]],\n",
    "    [[0,1], [1,2], [2,3], [3,0]],\n",
    "    [[0,1,2], [1,2,3], [2,3,0], [3,0,1]],\n",
    "    [[0,1,2,3]]\n",
    "]\n",
    "\n",
    "# 방향 (북 - 동 - 남 - 서)\n",
    "dx = [-1, 0, 1, 0]\n",
    "dy = [0, 1, 0, -1]\n",
    "\n",
    "for i in range(n):\n",
    "    data = list(map(int, input().split()))\n",
    "    array.append(data)\n",
    "    for j in range(m):\n",
    "        if data[j] in [1,2,3,4,5]:\n",
    "            # cctv 종류, 행, 열\n",
    "            cctv.append([data[j], i, j])\n",
    "            \n",
    "def watch(board, cctv, x, y):\n",
    "    for i in cctv:\n",
    "        nx, ny = x, y\n",
    "        \n",
    "        while True:\n",
    "            nx += dx[i]\n",
    "            ny += dy[i]\n",
    "            \n",
    "            if nx >= 0 and nx < n and ny >= 0 and ny < m and board[nx][ny] != 6:\n",
    "                if board[nx][ny] == 0:\n",
    "                    board[nx][ny] = '#'\n",
    "            else:\n",
    "                break\n",
    "                \n",
    "def dfs(depth, arr):\n",
    "    global min_value\n",
    "    \n",
    "    if depth == len(cctv):\n",
    "        count = 0\n",
    "        for i in range(n):\n",
    "            count += arr[i].count(0)\n",
    "        min_value = min(min_value, count)\n",
    "        return\n",
    "    \n",
    "    temp = [item[:] for item in arr]\n",
    "    cctv_num, x, y = cctv[depth]\n",
    "    \n",
    "    for i in mode[cctv_num]:\n",
    "        watch(temp, i, x, y)\n",
    "        dfs(depth+1, temp)\n",
    "        temp = [item[:] for item in arr]\n",
    "        \n",
    "min_value = 1e9\n",
    "dfs(0, array)\n",
    "print(min_value)"
   ]
  }
 ],
 "metadata": {
  "kernelspec": {
   "display_name": "Python3.8_spare",
   "language": "python",
   "name": "spare"
  },
  "language_info": {
   "codemirror_mode": {
    "name": "ipython",
    "version": 3
   },
   "file_extension": ".py",
   "mimetype": "text/x-python",
   "name": "python",
   "nbconvert_exporter": "python",
   "pygments_lexer": "ipython3",
   "version": "3.8.12"
  }
 },
 "nbformat": 4,
 "nbformat_minor": 5
}
