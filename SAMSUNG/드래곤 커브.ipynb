{
 "cells": [
  {
   "cell_type": "markdown",
   "id": "64d9b290",
   "metadata": {},
   "source": [
    "# 드래곤 커브"
   ]
  },
  {
   "cell_type": "markdown",
   "id": "ace40715",
   "metadata": {},
   "source": [
    "드래곤 커브는 다음과 같은 세 가지 속성으로 이루어져 있으며, 이차원 좌표 평면 위에서 정의된다. 좌표 평면의 x축은 → 방향, y축은 ↓ 방향이다.\n",
    "\n",
    "시작 점\n",
    "시작 방향\n",
    "세대\n",
    "0세대 드래곤 커브는 아래 그림과 같은 길이가 1인 선분이다. 아래 그림은 (0, 0)에서 시작하고, 시작 방향은 오른쪽인 0세대 드래곤 커브이다."
   ]
  },
  {
   "cell_type": "markdown",
   "id": "31df19c3",
   "metadata": {},
   "source": [
    "1세대 드래곤 커브는 0세대 드래곤 커브를 끝 점을 기준으로 시계 방향으로 90도 회전시킨 다음 0세대 드래곤 커브의 끝 점에 붙인 것이다. 끝 점이란 시작 점에서 선분을 타고 이동했을 때, 가장 먼 거리에 있는 점을 의미한다."
   ]
  },
  {
   "cell_type": "markdown",
   "id": "645d59b1",
   "metadata": {},
   "source": [
    "2세대 드래곤 커브도 1세대를 만든 방법을 이용해서 만들 수 있다. (파란색 선분은 새로 추가된 선분을 나타낸다)"
   ]
  },
  {
   "cell_type": "markdown",
   "id": "1052d92c",
   "metadata": {},
   "source": [
    "3세대 드래곤 커브도 2세대 드래곤 커브를 이용해 만들 수 있다. 아래 그림은 3세대 드래곤 커브이다."
   ]
  },
  {
   "cell_type": "markdown",
   "id": "e48d1239",
   "metadata": {},
   "source": [
    "즉, K(K > 1)세대 드래곤 커브는 K-1세대 드래곤 커브를 끝 점을 기준으로 90도 시계 방향 회전 시킨 다음, 그것을 끝 점에 붙인 것이다.\n",
    "\n",
    "크기가 100×100인 격자 위에 드래곤 커브가 N개 있다. 이때, 크기가 1×1인 정사각형의 네 꼭짓점이 모두 드래곤 커브의 일부인 정사각형의 개수를 구하는 프로그램을 작성하시오. 격자의 좌표는 (x, y)로 나타내며, 0 ≤ x ≤ 100, 0 ≤ y ≤ 100만 유효한 좌표이다."
   ]
  },
  {
   "cell_type": "markdown",
   "id": "083772ef",
   "metadata": {},
   "source": [
    "첫째 줄에 드래곤 커브의 개수 N(1 ≤ N ≤ 20)이 주어진다. 둘째 줄부터 N개의 줄에는 드래곤 커브의 정보가 주어진다. 드래곤 커브의 정보는 네 정수 x, y, d, g로 이루어져 있다. x와 y는 드래곤 커브의 시작 점, d는 시작 방향, g는 세대이다. (0 ≤ x, y ≤ 100, 0 ≤ d ≤ 3, 0 ≤ g ≤ 10)\n",
    "\n",
    "입력으로 주어지는 드래곤 커브는 격자 밖으로 벗어나지 않는다. 드래곤 커브는 서로 겹칠 수 있다.\n",
    "\n",
    "방향은 0, 1, 2, 3 중 하나이고, 다음을 의미한다.\n",
    "\n",
    "0: x좌표가 증가하는 방향 (→)\n",
    "1: y좌표가 감소하는 방향 (↑)\n",
    "2: x좌표가 감소하는 방향 (←)\n",
    "3: y좌표가 증가하는 방향 (↓)"
   ]
  },
  {
   "cell_type": "markdown",
   "id": "6f03d23c",
   "metadata": {},
   "source": [
    "첫째 줄에 크기가 1×1인 정사각형의 네 꼭짓점이 모두 드래곤 커브의 일부인 것의 개수를 출력한다."
   ]
  },
  {
   "cell_type": "code",
   "execution_count": 1,
   "id": "f215f00a",
   "metadata": {},
   "outputs": [
    {
     "name": "stdout",
     "output_type": "stream",
     "text": [
      "3\n",
      "3 3 0 1\n",
      "4 2 1 3\n",
      "4 2 2 1\n",
      "4\n"
     ]
    }
   ],
   "source": [
    "n = int(input())\n",
    "\n",
    "dx = [1, 0, -1, 0]\n",
    "dy = [0, -1, 0, 1]\n",
    "\n",
    "arr = [[0] * 101 for _ in range(101)]\n",
    "\n",
    "for _ in range(n):\n",
    "    x, y, d, g = map(int, input().split())\n",
    "    arr[x][y] = 1\n",
    "    \n",
    "    move = [d]\n",
    "    \n",
    "    for _ in range(g):\n",
    "        tmp = []\n",
    "        # 원래 길이에 복사붙여 넣기의 의미\n",
    "        for i in range(len(move)):\n",
    "            tmp.append((move[-i-1] + 1) % 4)\n",
    "        move.extend(tmp)\n",
    "        \n",
    "    for i in move:\n",
    "        nx = x + dx[i]\n",
    "        ny = y + dy[i]\n",
    "        arr[nx][ny] = 1\n",
    "        x, y = nx, ny\n",
    "        \n",
    "answer = 0\n",
    "\n",
    "for i in range(100):\n",
    "    for j in range(100):\n",
    "        if arr[i][j] and arr[i+1][j] and arr[i][j+1] and arr[i+1][j+1]:\n",
    "            ans += 1\n",
    "            \n",
    "print(answer)"
   ]
  }
 ],
 "metadata": {
  "kernelspec": {
   "display_name": "Python3.8_spare",
   "language": "python",
   "name": "spare"
  },
  "language_info": {
   "codemirror_mode": {
    "name": "ipython",
    "version": 3
   },
   "file_extension": ".py",
   "mimetype": "text/x-python",
   "name": "python",
   "nbconvert_exporter": "python",
   "pygments_lexer": "ipython3",
   "version": "3.8.12"
  }
 },
 "nbformat": 4,
 "nbformat_minor": 5
}
