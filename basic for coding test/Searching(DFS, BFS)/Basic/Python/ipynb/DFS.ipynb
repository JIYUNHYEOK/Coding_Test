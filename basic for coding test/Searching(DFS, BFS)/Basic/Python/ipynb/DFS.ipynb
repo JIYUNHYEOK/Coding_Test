{
 "cells": [
  {
   "cell_type": "code",
   "execution_count": 1,
   "id": "64b92f9b",
   "metadata": {},
   "outputs": [],
   "source": [
    "def dfs(graph, v, visited):\n",
    "    visited[v] = True\n",
    "    print(v, end = ' ')\n",
    "    \n",
    "    for i in graph[v]: # 현재 노드와 연결된 다른 노드를 재귀적으로 방문\n",
    "        if not visited[i]: # 인접한 노드가 방문되지 않은 상태라면\n",
    "            dfs(graph, i, visited) # 해당 노드에 대해 재귀함수를 이용해 방문"
   ]
  },
  {
   "cell_type": "code",
   "execution_count": 2,
   "id": "14d3915f",
   "metadata": {},
   "outputs": [
    {
     "name": "stdout",
     "output_type": "stream",
     "text": [
      "1 2 7 6 8 3 4 5 "
     ]
    }
   ],
   "source": [
    "graph = [ # 파이썬에서는 그래프를 표현하기 위해 2차원 리스트 사용\n",
    "    [], # 노드번호가 1번 부터 시작하는 경우가 많기 때문에 인덱스 0에 해당하는 부분은 비워둠\n",
    "    [2,3,8], # 1번 노드와 인접한 노드\n",
    "    [1,7], # 2번 노드와 인접한 노드\n",
    "    [1,4,5], # 3번 노드와 인접한 노드\n",
    "    [3,5], # 4번 노드와 인접한 노드\n",
    "    [3,4], # 5번 노드와 인접한 노드\n",
    "    [7], # 6번 노드와 인접한 노드\n",
    "    [2,6,8], # 7번 노드와 인접한 노드\n",
    "    [1,7] # 8번 노드와 인접한 노드\n",
    "] # 인접리스트 방식으로 그래프를 표현\n",
    "\n",
    "visited = [False] * 9 \n",
    "# 방문처리를 위해 하나의 1차원 리스트 생성, 기본적으로 초기에는 False로 초기화\n",
    "# 1번 노드부터 8번 노드까지 사용, 0번 인덱스는 사용하지 않기 위하여 하나 더 큰 크기로 1차원 리스트 초기화\n",
    "\n",
    "dfs(graph, 1, visited) # DFS는 그래프에 대한 정보, 방문처리 여부의 리스트를 이용"
   ]
  }
 ],
 "metadata": {
  "kernelspec": {
   "display_name": "Python3.8_spare",
   "language": "python",
   "name": "spare"
  },
  "language_info": {
   "codemirror_mode": {
    "name": "ipython",
    "version": 3
   },
   "file_extension": ".py",
   "mimetype": "text/x-python",
   "name": "python",
   "nbconvert_exporter": "python",
   "pygments_lexer": "ipython3",
   "version": "3.8.12"
  }
 },
 "nbformat": 4,
 "nbformat_minor": 5
}
