{
 "cells": [
  {
   "cell_type": "markdown",
   "id": "67d69998",
   "metadata": {},
   "source": [
    "# 주사위 굴리기"
   ]
  },
  {
   "cell_type": "markdown",
   "id": "f8aaac6f",
   "metadata": {},
   "source": [
    "크기가 N×M인 지도가 존재한다. 지도의 오른쪽은 동쪽, 위쪽은 북쪽이다. 이 지도의 위에 주사위가 하나 놓여져 있으며, 주사위의 전개도는 아래와 같다. 지도의 좌표는 (r, c)로 나타내며, r는 북쪽으로부터 떨어진 칸의 개수, c는 서쪽으로부터 떨어진 칸의 개수이다. "
   ]
  },
  {
   "cell_type": "markdown",
   "id": "104d8b34",
   "metadata": {},
   "source": [
    "주사위는 지도 위에 윗 면이 1이고, 동쪽을 바라보는 방향이 3인 상태로 놓여져 있으며, 놓여져 있는 곳의 좌표는 (x, y) 이다. 가장 처음에 주사위에는 모든 면에 0이 적혀져 있다.\n",
    "\n",
    "지도의 각 칸에는 정수가 하나씩 쓰여져 있다. 주사위를 굴렸을 때, 이동한 칸에 쓰여 있는 수가 0이면, 주사위의 바닥면에 쓰여 있는 수가 칸에 복사된다. 0이 아닌 경우에는 칸에 쓰여 있는 수가 주사위의 바닥면으로 복사되며, 칸에 쓰여 있는 수는 0이 된다.\n",
    "\n",
    "주사위를 놓은 곳의 좌표와 이동시키는 명령이 주어졌을 때, 주사위가 이동했을 때 마다 상단에 쓰여 있는 값을 구하는 프로그램을 작성하시오.\n",
    "\n",
    "주사위는 지도의 바깥으로 이동시킬 수 없다. 만약 바깥으로 이동시키려고 하는 경우에는 해당 명령을 무시해야 하며, 출력도 하면 안 된다."
   ]
  },
  {
   "cell_type": "markdown",
   "id": "7c049b2e",
   "metadata": {},
   "source": [
    "첫째 줄에 지도의 세로 크기 N, 가로 크기 M (1 ≤ N, M ≤ 20), 주사위를 놓은 곳의 좌표 x, y(0 ≤ x ≤ N-1, 0 ≤ y ≤ M-1), 그리고 명령의 개수 K (1 ≤ K ≤ 1,000)가 주어진다.\n",
    "\n",
    "둘째 줄부터 N개의 줄에 지도에 쓰여 있는 수가 북쪽부터 남쪽으로, 각 줄은 서쪽부터 동쪽 순서대로 주어진다. 주사위를 놓은 칸에 쓰여 있는 수는 항상 0이다. 지도의 각 칸에 쓰여 있는 수는 10 미만의 자연수 또는 0이다.\n",
    "\n",
    "마지막 줄에는 이동하는 명령이 순서대로 주어진다. 동쪽은 1, 서쪽은 2, 북쪽은 3, 남쪽은 4로 주어진다."
   ]
  },
  {
   "cell_type": "markdown",
   "id": "b8c4b6cb",
   "metadata": {},
   "source": [
    "이동할 때마다 주사위의 윗 면에 쓰여 있는 수를 출력한다. 만약 바깥으로 이동시키려고 하는 경우에는 해당 명령을 무시해야 하며, 출력도 하면 안 된다."
   ]
  },
  {
   "cell_type": "code",
   "execution_count": 1,
   "id": "961f3d5b",
   "metadata": {},
   "outputs": [
    {
     "name": "stdout",
     "output_type": "stream",
     "text": [
      "4 2 0 0 8\n",
      "0 2\n",
      "3 4\n",
      "5 6\n",
      "7 8\n",
      "4 4 4 1 3 3 3 2\n",
      "0\n",
      "0\n",
      "3\n",
      "0\n",
      "0\n",
      "8\n",
      "6\n",
      "3\n"
     ]
    }
   ],
   "source": [
    "n, m, x, y, k = map(int, input().split())\n",
    "board = [list(map(int, input().split())) for _ in range(n)]\n",
    "move = list(map(int, input().split()))\n",
    "\n",
    "dx = [0, 0, -1, 1]\n",
    "dy = [1, -1, 0, 0]\n",
    "\n",
    "dice = [0] * 6\n",
    "\n",
    "def changeDiceState(i):\n",
    "    if i == 1:\n",
    "        dice[0], dice[2], dice[3], dice[5] = dice[3], dice[0], dice[5], dice[2]\n",
    "    elif i == 2:\n",
    "        dice[0], dice[2], dice[3], dice[5] = dice[2], dice[5], dice[0], dice[3]\n",
    "    elif i == 3:\n",
    "        dice[0], dice[1], dice[4], dice[5] = dice[4], dice[0], dice[5], dice[1]\n",
    "    else:\n",
    "        dice[0], dice[1], dice[4], dice[5] = dice[1], dice[5], dice[0], dice[4]\n",
    "        \n",
    "for i in move:\n",
    "    nx = x + dx[i-1]\n",
    "    ny = y + dy[i-1]\n",
    "    \n",
    "    # 범위 밖을 넘어갈 경우 명령 건너뛰기\n",
    "    if nx < 0 or nx >= n or ny < 0 or ny >= n:\n",
    "        continue\n",
    "        \n",
    "    # 주사위 전개도 배치 변경\n",
    "    changeDiceState(i)\n",
    "    \n",
    "    # 주사위 아래면 =  index 5\n",
    "    if board[nx][ny] == 0:\n",
    "        board[nx][ny] = dice[5]\n",
    "    else:\n",
    "        dice[5] = board[nx][ny]\n",
    "        board[nx][ny] = 0\n",
    "        \n",
    "    x, y = nx, ny\n",
    "    \n",
    "    # 주사위 윗면(index 0) 출력\n",
    "    print(dice[0])"
   ]
  }
 ],
 "metadata": {
  "kernelspec": {
   "display_name": "Python3.8_spare",
   "language": "python",
   "name": "spare"
  },
  "language_info": {
   "codemirror_mode": {
    "name": "ipython",
    "version": 3
   },
   "file_extension": ".py",
   "mimetype": "text/x-python",
   "name": "python",
   "nbconvert_exporter": "python",
   "pygments_lexer": "ipython3",
   "version": "3.8.12"
  }
 },
 "nbformat": 4,
 "nbformat_minor": 5
}
