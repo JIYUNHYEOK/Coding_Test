{
 "cells": [
  {
   "cell_type": "markdown",
   "id": "6e878b5d",
   "metadata": {},
   "source": [
    "# 연구소"
   ]
  },
  {
   "cell_type": "markdown",
   "id": "44c5dd5a",
   "metadata": {},
   "source": [
    "인체에 치명적인 바이러스를 연구하던 연구소에서 바이러스가 유출되었다. 다행히 바이러스는 아직 퍼지지 않았고, 바이러스의 확산을 막기 위해서 연구소에 벽을 세우려고 한다.\n",
    "\n",
    "연구소는 크기가 N×M인 직사각형으로 나타낼 수 있으며, 직사각형은 1×1 크기의 정사각형으로 나누어져 있다. 연구소는 빈 칸, 벽으로 이루어져 있으며, 벽은 칸 하나를 가득 차지한다. \n",
    "\n",
    "일부 칸은 바이러스가 존재하며, 이 바이러스는 상하좌우로 인접한 빈 칸으로 모두 퍼져나갈 수 있다. 새로 세울 수 있는 벽의 개수는 3개이며, 꼭 3개를 세워야 한다."
   ]
  },
  {
   "cell_type": "markdown",
   "id": "a79b850c",
   "metadata": {},
   "source": [
    "이때, 0은 빈 칸, 1은 벽, 2는 바이러스가 있는 곳이다. 아무런 벽을 세우지 않는다면, 바이러스는 모든 빈 칸으로 퍼져나갈 수 있다."
   ]
  },
  {
   "cell_type": "markdown",
   "id": "32cafec0",
   "metadata": {},
   "source": [
    "벽을 3개 세운 뒤, 바이러스가 퍼질 수 없는 곳을 안전 영역이라고 한다. 위의 지도에서 안전 영역의 크기는 27이다.\n",
    "\n",
    "연구소의 지도가 주어졌을 때 얻을 수 있는 안전 영역 크기의 최댓값을 구하는 프로그램을 작성하시오."
   ]
  },
  {
   "cell_type": "markdown",
   "id": "c2c83b5e",
   "metadata": {},
   "source": [
    "첫째 줄에 지도의 세로 크기 N과 가로 크기 M이 주어진다. (3 ≤ N, M ≤ 8)\n",
    "\n",
    "둘째 줄부터 N개의 줄에 지도의 모양이 주어진다. 0은 빈 칸, 1은 벽, 2는 바이러스가 있는 위치이다. 2의 개수는 2보다 크거나 같고, 10보다 작거나 같은 자연수이다.\n",
    "\n",
    "빈 칸의 개수는 3개 이상이다."
   ]
  },
  {
   "cell_type": "markdown",
   "id": "8b6ef6fc",
   "metadata": {},
   "source": [
    "첫째 줄에 얻을 수 있는 안전 영역의 최대 크기를 출력한다."
   ]
  },
  {
   "cell_type": "code",
   "execution_count": 1,
   "id": "4917969b",
   "metadata": {},
   "outputs": [
    {
     "name": "stdout",
     "output_type": "stream",
     "text": [
      "7 7\n",
      "2 0 0 0 1 1 0\n",
      "0 0 1 0 1 2 0\n",
      "0 1 1 0 1 0 0 \n",
      "0 1 0 0 0 0 0\n",
      "0 0 0 0 0 1 1\n",
      "0 1 0 0 0 0 0 \n",
      "0 1 0 0 0 0 0\n",
      "27\n"
     ]
    }
   ],
   "source": [
    "N, M = map(int, input().split())\n",
    "data = [] # 초기 맵 리스트\n",
    "temp = [[0] * M for _ in range(N)] # 벽을 설치한 뒤의 맵 리스트\n",
    "\n",
    "for _ in range(N):\n",
    "    data.append(list(map(int, input().split())))\n",
    "    \n",
    "# 4가지 이동방향에 대한 리스트\n",
    "dx = [-1, 0, 1, 0]\n",
    "dy = [0, 1, 0, -1]\n",
    "\n",
    "result = 0\n",
    "\n",
    "# 깊이 우선 탐색 (DFS)를 통해 각 바이러스가 사방으로 퍼지도록 함\n",
    "def virus(x, y):\n",
    "    for i in range(4):\n",
    "        nx = x + dx[i]\n",
    "        ny = y + dy[i]\n",
    "        \n",
    "        # 상, 하, 좌, 우 중 바이러스가 퍼질 수도 있는 경우\n",
    "        if nx >= 0 and nx < N and ny >= 0 and ny < M:\n",
    "            if temp[nx][ny] == 0:\n",
    "                # 해당 위치에 바이러스를 배치하고, 다시 재귀적으로 수행\n",
    "                temp[nx][ny] = 2\n",
    "                virus(nx, ny)\n",
    "                \n",
    "# 현재 맵에서 안전 영역의 크기를 계산하는 메서드\n",
    "def get_score():\n",
    "    score = 0\n",
    "    \n",
    "    for i in range(N):\n",
    "        for j in range(M):\n",
    "            if temp[i][j] == 0:\n",
    "                score += 1\n",
    "                \n",
    "    return score\n",
    "\n",
    "# 깊이 우선 탐색 (DFS)를 이용해 울타리를 설치하면서, 매번 안전 영역의 크기 계산\n",
    "def dfs(count):\n",
    "    global result\n",
    "    \n",
    "    # 울타리가 3개 설치된 경우\n",
    "    if count == 3:\n",
    "        for i in range(N):\n",
    "            for j in range(M):\n",
    "                temp[i][j] = data[i][j]\n",
    "        \n",
    "        # 각 바이러스의 위치에서 전파 진행\n",
    "        for i in range(N):\n",
    "            for j in range(M):\n",
    "                if temp[i][j] == 2:\n",
    "                    virus(i, j)\n",
    "                    \n",
    "        # 안전 영역의 최댓값 계산\n",
    "        result = max(result, get_score())\n",
    "        return\n",
    "    \n",
    "    # 빈 공간에 울타리 설치\n",
    "    for i in range(N):\n",
    "        for j in range(M):\n",
    "            if data[i][j] == 0:\n",
    "                data[i][j] = 1\n",
    "                count += 1\n",
    "                dfs(count)\n",
    "                data[i][j] = 0\n",
    "                count -= 1\n",
    "                \n",
    "dfs(0)\n",
    "print(result)"
   ]
  }
 ],
 "metadata": {
  "kernelspec": {
   "display_name": "Python 3 (ipykernel)",
   "language": "python",
   "name": "python3"
  },
  "language_info": {
   "codemirror_mode": {
    "name": "ipython",
    "version": 3
   },
   "file_extension": ".py",
   "mimetype": "text/x-python",
   "name": "python",
   "nbconvert_exporter": "python",
   "pygments_lexer": "ipython3",
   "version": "3.9.7"
  }
 },
 "nbformat": 4,
 "nbformat_minor": 5
}
