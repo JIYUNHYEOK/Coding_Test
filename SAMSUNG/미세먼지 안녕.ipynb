{
 "cells": [
  {
   "cell_type": "markdown",
   "id": "f4d6efff",
   "metadata": {},
   "source": [
    "# 미세먼지 안녕"
   ]
  },
  {
   "cell_type": "markdown",
   "id": "5aaad282",
   "metadata": {},
   "source": [
    "미세먼지를 제거하기 위해 구사과는 공기청정기를 설치하려고 한다. 공기청정기의 성능을 테스트하기 위해 구사과는 집을 크기가 R×C인 격자판으로 나타냈고, 1×1 크기의 칸으로 나눴다. 구사과는 뛰어난 코딩 실력을 이용해 각 칸 (r, c)에 있는 미세먼지의 양을 실시간으로 모니터링하는 시스템을 개발했다. (r, c)는 r행 c열을 의미한다."
   ]
  },
  {
   "cell_type": "markdown",
   "id": "e9892bef",
   "metadata": {},
   "source": [
    "공기청정기는 항상 1번 열에 설치되어 있고, 크기는 두 행을 차지한다. 공기청정기가 설치되어 있지 않은 칸에는 미세먼지가 있고, (r, c)에 있는 미세먼지의 양은 Ar,c이다.\n",
    "\n",
    "1초 동안 아래 적힌 일이 순서대로 일어난다.\n",
    "\n",
    "1. 미세먼지가 확산된다. 확산은 미세먼지가 있는 모든 칸에서 동시에 일어난다.\n",
    "    - (r, c)에 있는 미세먼지는 인접한 네 방향으로 확산된다.\n",
    "    - 인접한 방향에 공기청정기가 있거나, 칸이 없으면 그 방향으로는 확산이 일어나지 않는다.\n",
    "    - 확산되는 양은 Ar,c/5이고 소수점은 버린다.\n",
    "    - (r, c)에 남은 미세먼지의 양은 Ar,c - (Ar,c/5)×(확산된 방향의 개수) 이다.\n",
    "2. 공기청정기가 작동한다.\n",
    "    - 공기청정기에서는 바람이 나온다.\n",
    "    - 위쪽 공기청정기의 바람은 반시계방향으로 순환하고, 아래쪽 공기청정기의 바람은 시계방향으로 순환한다.\n",
    "    - 바람이 불면 미세먼지가 바람의 방향대로 모두 한 칸씩 이동한다.\n",
    "    - 공기청정기에서 부는 바람은 미세먼지가 없는 바람이고, 공기청정기로 들어간 미세먼지는 모두 정화된다."
   ]
  },
  {
   "cell_type": "markdown",
   "id": "fd011196",
   "metadata": {},
   "source": [
    "방의 정보가 주어졌을 때, T초가 지난 후 구사과의 방에 남아있는 미세먼지의 양을 구해보자."
   ]
  },
  {
   "cell_type": "markdown",
   "id": "038e29d8",
   "metadata": {},
   "source": [
    "첫째 줄에 R, C, T (6 ≤ R, C ≤ 50, 1 ≤ T ≤ 1,000) 가 주어진다.\n",
    "\n",
    "둘째 줄부터 R개의 줄에 Ar,c (-1 ≤ Ar,c ≤ 1,000)가 주어진다. 공기청정기가 설치된 곳은 Ar,c가 -1이고, 나머지 값은 미세먼지의 양이다. -1은 2번 위아래로 붙어져 있고, 가장 윗 행, 아랫 행과 두 칸이상 떨어져 있다."
   ]
  },
  {
   "cell_type": "markdown",
   "id": "cb3845f0",
   "metadata": {},
   "source": [
    "첫째 줄에 T초가 지난 후 구사과 방에 남아있는 미세먼지의 양을 출력한다."
   ]
  },
  {
   "cell_type": "code",
   "execution_count": 1,
   "id": "e17b87d0",
   "metadata": {},
   "outputs": [
    {
     "name": "stdout",
     "output_type": "stream",
     "text": [
      "7 8 1\n",
      "0 0 0 0 0 0 0 9\n",
      "0 0 0 0 3 0 0 8\n",
      "-1 0 5 0 0 0 22 0\n",
      "-1 8 0 0 0 0 0 0\n",
      "0 0 0 0 0 10 43 0\n",
      "0 0 5 0 15 0 0 0\n",
      "0 0 40 0 0 0 20 0\n",
      "188\n"
     ]
    }
   ],
   "source": [
    "r, c, t = map(int, input().split())\n",
    "\n",
    "arr = [list(map(int, input().split())) for _ in range(r)]\n",
    "\n",
    "up, down = -1, -1\n",
    "\n",
    "# 공기청정기 위치 찾기\n",
    "for i in range(r):\n",
    "    # 공기청정기는 항상 1번 열에 설치\n",
    "    if arr[i][0] == -1:\n",
    "        # 크기는 두 행을 차지\n",
    "        up, down = i, i+1\n",
    "        break\n",
    "        \n",
    "# 미세먼지 확산\n",
    "def spread():\n",
    "    dx = [-1, 0, 0, 1]\n",
    "    dy = [0, -1, 1, 0]\n",
    "    \n",
    "    tmp_arr = [[0] * c for _ in range(r)]\n",
    "    for i in range(r):\n",
    "        for j in range(c):\n",
    "            if arr[i][j] != 0 and arr[i][j] != -1:\n",
    "                tmp = 0\n",
    "                for k in range(4):\n",
    "                    nx = i + dx[k]\n",
    "                    ny = j + dy[k]\n",
    "                    if 0 <= nx < r and 0 <= ny < c and arr[nx][ny] != -1:\n",
    "                        tmp_arr[nx][ny] += arr[i][j] // 5\n",
    "                        tmp += arr[i][j] // 5\n",
    "                arr[i][j] -= tmp\n",
    "                \n",
    "    for i in range(r):\n",
    "        for j in range(c):\n",
    "            arr[i][j] += tmp_arr[i][j]\n",
    "            \n",
    "# 공기청정기 위쪽 이동\n",
    "def air_up():\n",
    "    # 오른쪽, 위, 왼쪽, 아래 순서\n",
    "    dx = [0, -1, 0, 1]\n",
    "    dy = [1, 0, -1, 0]\n",
    "    direction = 0\n",
    "    before = 0\n",
    "    x, y = up, 1\n",
    "    \n",
    "    while True:\n",
    "        nx = x + dx[direction]\n",
    "        ny = y + dy[direction]\n",
    "        \n",
    "        # 다시 공기청정기 위치로 돌아왔을 경우 종료\n",
    "        if x == up and y == 0:\n",
    "            break\n",
    "            \n",
    "        # 범위를 벗어나게 될 경우 방향 전환\n",
    "        if nx < 0 or nx >= r or ny < 0 or ny >= c:\n",
    "            direction += 1\n",
    "            continue\n",
    "            \n",
    "        arr[x][y], before = before, arr[x][y]\n",
    "        x = nx\n",
    "        y = ny\n",
    "\n",
    "# 공기청정기 아래쪽 이동\n",
    "def air_down():\n",
    "    # 오른쪽, 아래, 왼쪽, 위 순서\n",
    "    dx = [0, 1, 0, -1]\n",
    "    dy = [1, 0, -1, 0]\n",
    "    direction = 0\n",
    "    before = 0\n",
    "    x, y = down, 1\n",
    "    \n",
    "    while True:\n",
    "        nx = x + dx[direction]\n",
    "        ny = y + dy[direction]\n",
    "        \n",
    "        # 다시 공기청정기 위치로 돌아왔을 경우 종료\n",
    "        if x == down and y == 0:\n",
    "            break\n",
    "            \n",
    "        # 범위를 벗어나게 될 경우 방향 전환\n",
    "        if nx < 0 or nx >= r or ny < 0 or ny >= c:\n",
    "            direction += 1\n",
    "            continue\n",
    "            \n",
    "        arr[x][y], before = before, arr[x][y]\n",
    "        x = nx\n",
    "        y = ny\n",
    "        \n",
    "for _ in range(t):\n",
    "    spread()\n",
    "    air_up()\n",
    "    air_down()\n",
    "    \n",
    "answer = 0\n",
    "\n",
    "for i in range(r):\n",
    "    for j in range(c):\n",
    "        if arr[i][j] > 0:\n",
    "            answer += arr[i][j]\n",
    "            \n",
    "# T초가 지난 후 구사과 방에 남아있는 미세먼지의 양\n",
    "print(answer)"
   ]
  }
 ],
 "metadata": {
  "kernelspec": {
   "display_name": "Python3.8_spare",
   "language": "python",
   "name": "spare"
  },
  "language_info": {
   "codemirror_mode": {
    "name": "ipython",
    "version": 3
   },
   "file_extension": ".py",
   "mimetype": "text/x-python",
   "name": "python",
   "nbconvert_exporter": "python",
   "pygments_lexer": "ipython3",
   "version": "3.8.12"
  }
 },
 "nbformat": 4,
 "nbformat_minor": 5
}
