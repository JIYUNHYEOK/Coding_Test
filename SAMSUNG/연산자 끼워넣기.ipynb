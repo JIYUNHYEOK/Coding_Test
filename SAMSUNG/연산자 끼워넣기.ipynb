{
 "cells": [
  {
   "cell_type": "code",
   "execution_count": 1,
   "id": "a1de0ff8",
   "metadata": {},
   "outputs": [
    {
     "name": "stdout",
     "output_type": "stream",
     "text": [
      "2\n",
      "5 6\n",
      "0 0 1 0\n",
      "30\n",
      "30\n"
     ]
    }
   ],
   "source": [
    "n = int(input())\n",
    "data = list(map(int, input().split()))\n",
    "add, sub, mul, div = map(int, input().split())\n",
    "\n",
    "max_value = -1e9\n",
    "min_value = 1e9\n",
    "\n",
    "def solution(num, idx, add, sub, mul, div):\n",
    "    global max_value, min_value\n",
    "    \n",
    "    if idx == n:\n",
    "        max_value = max(max_value, num)\n",
    "        min_value = min(min_value, num)\n",
    "        return\n",
    "    \n",
    "    if add > 0:\n",
    "        solution(num + data[idx], idx+1, add-1, sub, mul, div)\n",
    "    if sub > 0:\n",
    "        solution(num - data[idx], idx+1, add, sub-1, mul, div)\n",
    "    if mul > 0:\n",
    "        solution(num * data[idx], idx+1, add, sub, mul-1, div)\n",
    "    if div > 0:\n",
    "        solution(num // data[idx], idx+1, add, sub, mul, div-1)\n",
    "        \n",
    "solution(data[0], 1, add, sub, mul, div)\n",
    "print(max_value)\n",
    "print(min_value)"
   ]
  },
  {
   "cell_type": "code",
   "execution_count": 2,
   "id": "1a6d8d32",
   "metadata": {},
   "outputs": [
    {
     "name": "stdout",
     "output_type": "stream",
     "text": [
      "3\n",
      "3 4 5\n",
      "1 0 1 0\n",
      "35\n",
      "17\n"
     ]
    }
   ],
   "source": [
    "n = int(input())\n",
    "data = list(map(int, input().split()))\n",
    "add, sub, mul, div = map(int, input().split())\n",
    "\n",
    "max_value = -1e9\n",
    "min_value = 1e9\n",
    "\n",
    "def solution(num, idx, add, sub, mul, div):\n",
    "    global max_value, min_value\n",
    "    \n",
    "    if idx == n:\n",
    "        max_value = max(max_value, num)\n",
    "        min_value = min(min_value, num)\n",
    "        return\n",
    "    \n",
    "    if add > 0:\n",
    "        solution(num + data[idx], idx+1, add-1, sub, mul, div)\n",
    "    if sub > 0:\n",
    "        solution(num - data[idx], idx+1, add, sub-1, mul, div)\n",
    "    if mul > 0:\n",
    "        solution(num * data[idx], idx+1, add, sub, mul-1, div)\n",
    "    if div > 0:\n",
    "        solution(num // data[idx], idx+1, add, sub, mul, div-1)\n",
    "        \n",
    "solution(data[0], 1, add, sub, mul, div)\n",
    "print(max_value)\n",
    "print(min_value)"
   ]
  },
  {
   "cell_type": "code",
   "execution_count": 3,
   "id": "87cc0dc0",
   "metadata": {},
   "outputs": [
    {
     "name": "stdout",
     "output_type": "stream",
     "text": [
      "6\n",
      "1 2 3 4 5 6\n",
      "2 1 1 1\n",
      "48\n",
      "-24\n"
     ]
    }
   ],
   "source": [
    "n = int(input())\n",
    "data = list(map(int, input().split()))\n",
    "add, sub, mul, div = map(int, input().split())\n",
    "\n",
    "max_value = -1e9\n",
    "min_value = 1e9\n",
    "\n",
    "def solution(num, idx, add, sub, mul, div):\n",
    "    global max_value, min_value\n",
    "    \n",
    "    if idx == n:\n",
    "        max_value = max(max_value, num)\n",
    "        min_value = min(min_value, num)\n",
    "        return\n",
    "    \n",
    "    if add > 0:\n",
    "        solution(num + data[idx], idx+1, add-1, sub, mul, div)\n",
    "    if sub > 0:\n",
    "        solution(num - data[idx], idx+1, add, sub-1, mul, div)\n",
    "    if mul > 0:\n",
    "        solution(num * data[idx], idx+1, add, sub, mul-1, div)\n",
    "    if div > 0:\n",
    "        solution(num // data[idx], idx+1, add, sub, mul, div-1)\n",
    "        \n",
    "solution(data[0], 1, add, sub, mul, div)\n",
    "print(max_value)\n",
    "print(min_value)"
   ]
  }
 ],
 "metadata": {
  "kernelspec": {
   "display_name": "Python3.8_spare",
   "language": "python",
   "name": "spare"
  },
  "language_info": {
   "codemirror_mode": {
    "name": "ipython",
    "version": 3
   },
   "file_extension": ".py",
   "mimetype": "text/x-python",
   "name": "python",
   "nbconvert_exporter": "python",
   "pygments_lexer": "ipython3",
   "version": "3.8.12"
  }
 },
 "nbformat": 4,
 "nbformat_minor": 5
}
