{
 "cells": [
  {
   "cell_type": "markdown",
   "id": "139e5e44",
   "metadata": {},
   "source": [
    "# 큐빙"
   ]
  },
  {
   "cell_type": "markdown",
   "id": "d9789271",
   "metadata": {},
   "source": [
    "루빅스 큐브는 삼차원 퍼즐이다. 보통 루빅스 큐브는 3×3×3개의 작은 정육면체로 이루어져 있다. 퍼즐을 풀려면 각 면에 있는 아홉 개의 작은 정육면체의 색이 동일해야 한다.\n",
    "\n",
    "큐브는 각 면을 양방향으로 90도 만큼 돌릴 수 있도록 만들어져 있다. 회전이 마친 이후에는, 다른 면을 돌릴 수 있다. 이렇게 큐브의 서로 다른 면을 돌리다 보면, 색을 섞을 수 있다.\n",
    "\n",
    "이 문제에서는 루빅스 큐브가 모두 풀린 상태에서 시작한다. 윗 면은 흰색, 아랫 면은 노란색, 앞 면은 빨간색, 뒷 면은 오렌지색, 왼쪽 면은 초록색, 오른쪽 면은 파란색이다.\n",
    "\n",
    "루빅스 큐브를 돌린 방법이 순서대로 주어진다. 이때, 모두 돌린 다음에 가장 윗 면의 색상을 구하는 프로그램을 작성하시오."
   ]
  },
  {
   "cell_type": "markdown",
   "id": "4e915812",
   "metadata": {},
   "source": [
    "위의 그림은 루빅스 큐브를 푼 그림이다. 왼쪽 면은 시계방향으로 조금 돌려져 있는 상태이다."
   ]
  },
  {
   "cell_type": "markdown",
   "id": "d9d6a6c8",
   "metadata": {},
   "source": [
    "첫째 줄에 테스트 케이스의 개수가 주어진다. 테스트 케이스는 최대 100개이다. 각 테스트 케이스는 다음과 같이 구성되어져 있다.\n",
    "\n",
    "- 첫째 줄에 큐브를 돌린 횟수 n이 주어진다. (1 ≤ n ≤ 1000)\n",
    "- 둘째 줄에는 큐브를 돌린 방법이 주어진다. 각 방법은 공백으로 구분되어져 있으며, 첫 번째 문자는 돌린 면이다. U: 윗 면, D: 아랫 면, F: 앞 면, B: 뒷 면, L: 왼쪽 면, R: 오른쪽 면이다. 두 번째 문자는 돌린 방향이다. +인 경우에는 시계 방향 (그 면을 바라봤을 때가 기준), -인 경우에는 반시계 방향이다."
   ]
  },
  {
   "cell_type": "markdown",
   "id": "5fafcba7",
   "metadata": {},
   "source": [
    "각 테스트 케이스에 대해서 큐브를 모두 돌린 후의 윗 면의 색상을 출력한다. 첫 번째 줄에는 뒷 면과 접하는 칸의 색을 출력하고, 두 번째, 세 번째 줄은 순서대로 출력하면 된다. 흰색은 w, 노란색은 y, 빨간색은 r, 오렌지색은 o, 초록색은 g, 파란색은 b."
   ]
  },
  {
   "cell_type": "code",
   "execution_count": 1,
   "id": "39d63fc6",
   "metadata": {},
   "outputs": [
    {
     "name": "stdout",
     "output_type": "stream",
     "text": [
      "4\n",
      "1\n",
      "L-\n",
      "rww\n",
      "rww\n",
      "rww\n",
      "2\n",
      "F+ B+\n",
      "bbb\n",
      "www\n",
      "ggg\n",
      "4\n",
      "U- D- L+ R+\n",
      "gwg\n",
      "owr\n",
      "bwb\n",
      "10\n",
      "L- U- L+ U- L- U- U- L+ U+ U+\n",
      "gwo\n",
      "www\n",
      "rww\n"
     ]
    }
   ],
   "source": [
    "# ufl : 큐브별로 UFL 회전시 각면이 바라보는 방향 변화\n",
    "# cw : 시계방향으로 돌리는 경우 3 * 3에서 변화되는 내용\n",
    "ufl, cw = ['015423', '452310', '320145'], '258147036'\n",
    "\n",
    "# 3 * 3 * 3에서 한 변을 뽑는 방법\n",
    "# 한 변의 숫자는 반드시 순서대로 등차수열임을 활용\n",
    "def side_(ith, st, a, b):\n",
    "    return [st+a*(i % 3)+b*(i//3)-1 for i in range(9)]\n",
    "\n",
    "# UDFBLR 순서에서 각 변을 얻기 위한 상수값 사용\n",
    "side = [side_(i, *stab) for i, stab in enumerate([(1, 1, 3),\n",
    "                                                  (19, 3, 1), (7, 1, 9), (1, 9, 1), (1, 3, 9), (3, 9, 3)])]\n",
    "\n",
    "# 기존의 배치에서 바뀐 부분만 재배치\n",
    "# a, st, ed : 배열, 기존위치, 바뀐위치\n",
    "def realign(a, st, ed):\n",
    "    ret = a[:]\n",
    "    for s, e in zip(st, ed):\n",
    "        ret[int(e)] = a[int(s)]\n",
    "    return ret\n",
    "\n",
    "# 한 변을 돌리는 함수 / 큐브의 위치와 상태 변경\n",
    "# 시계방향 또는 반시계방향 중 하나만 정의 => 반시계 == 시계*3\n",
    "def rotate(op, pos, state):\n",
    "    idx, ccw = 'UDFBLR'.index(op[0]), op[1]  # 변확인 및 시계/반시계 방향 확인\n",
    "    blocks = side[idx]  # 볼 변의 번호들만 선택\n",
    "    # 큐브의 위치 변경\n",
    "    for i in range(1+(ccw == '+')*2):\n",
    "        blocks = realign(blocks, range(9), cw)\n",
    "    pos = realign(pos, side[idx], blocks)\n",
    "\n",
    "    # 큐브의 상태 변경\n",
    "    for i in range(1+((ccw == '+') ^ (idx % 2))*2):\n",
    "        for j in range(9):  # 한변당 큐브의 개수 9개\n",
    "            state[pos[blocks[j]]] = realign(\n",
    "                state[pos[blocks[j]]], range(6), ufl[idx//2])\n",
    "\n",
    "    return pos, state\n",
    "\n",
    "# 초기 상태 pos, state 정의\n",
    "# pos[i] : 매 상태에서 3 * 3 * 3에서 순서대로 넘버링했을 때, i번쨰 큐브의 번호\n",
    "# state[i] : 초기 i번 큐브의 상태\n",
    "def init():\n",
    "    pos, state = [i for i in range(27)], [\n",
    "        [0 for _ in range(6)] for i in range(27)]\n",
    "    for idx, col in enumerate('wyrogb'):\n",
    "        for block in side[idx]:\n",
    "            state[block][idx] = col\n",
    "    return pos, state\n",
    "\n",
    "# 각 과정별 함수\n",
    "def process():\n",
    "    N = input()\n",
    "    # 회전 별로 pos, state 변경\n",
    "    pos, state = init()  # 초기화\n",
    "    for order in input().split():\n",
    "        pos, state = rotate(order, pos, state)\n",
    "\n",
    "    # 윗면 큐브들에서 위만 출력\n",
    "    for i, idx in enumerate(side[0]):\n",
    "        print(state[pos[idx]][0], end=''+(i % 3 == 2)*'\\n')\n",
    "\n",
    "TC = int(input())\n",
    "for _ in range(TC):\n",
    "    process()"
   ]
  }
 ],
 "metadata": {
  "kernelspec": {
   "display_name": "Python3.8_spare",
   "language": "python",
   "name": "spare"
  },
  "language_info": {
   "codemirror_mode": {
    "name": "ipython",
    "version": 3
   },
   "file_extension": ".py",
   "mimetype": "text/x-python",
   "name": "python",
   "nbconvert_exporter": "python",
   "pygments_lexer": "ipython3",
   "version": "3.8.12"
  }
 },
 "nbformat": 4,
 "nbformat_minor": 5
}
