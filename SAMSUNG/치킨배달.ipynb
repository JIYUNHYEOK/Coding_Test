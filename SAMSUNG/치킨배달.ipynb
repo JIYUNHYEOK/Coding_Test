{
 "cells": [
  {
   "cell_type": "markdown",
   "id": "7397be42",
   "metadata": {},
   "source": [
    "# 치킨배달"
   ]
  },
  {
   "cell_type": "markdown",
   "id": "61a38183",
   "metadata": {},
   "source": [
    "크기가 N×N인 도시가 있다. 도시는 1×1크기의 칸으로 나누어져 있다. 도시의 각 칸은 빈 칸, 치킨집, 집 중 하나이다. 도시의 칸은 (r, c)와 같은 형태로 나타내고, r행 c열 또는 위에서부터 r번째 칸, 왼쪽에서부터 c번째 칸을 의미한다. r과 c는 1부터 시작한다.\n",
    "\n",
    "이 도시에 사는 사람들은 치킨을 매우 좋아한다. 따라서, 사람들은 \"치킨 거리\"라는 말을 주로 사용한다. 치킨 거리는 집과 가장 가까운 치킨집 사이의 거리이다. 즉, 치킨 거리는 집을 기준으로 정해지며, 각각의 집은 치킨 거리를 가지고 있다. 도시의 치킨 거리는 모든 집의 치킨 거리의 합이다.\n",
    "\n",
    "임의의 두 칸 (r1, c1)과 (r2, c2) 사이의 거리는 |r1-r2| + |c1-c2|로 구한다."
   ]
  },
  {
   "cell_type": "markdown",
   "id": "c927ded8",
   "metadata": {},
   "source": [
    "0은 빈 칸, 1은 집, 2는 치킨집이다.\n",
    "\n",
    "(2, 1)에 있는 집과 (1, 2)에 있는 치킨집과의 거리는 |2-1| + |1-2| = 2, (5, 5)에 있는 치킨집과의 거리는 |2-5| + |1-5| = 7이다. 따라서, (2, 1)에 있는 집의 치킨 거리는 2이다.\n",
    "\n",
    "(5, 4)에 있는 집과 (1, 2)에 있는 치킨집과의 거리는 |5-1| + |4-2| = 6, (5, 5)에 있는 치킨집과의 거리는 |5-5| + |4-5| = 1이다. 따라서, (5, 4)에 있는 집의 치킨 거리는 1이다.\n",
    "\n",
    "이 도시에 있는 치킨집은 모두 같은 프랜차이즈이다. 프렌차이즈 본사에서는 수익을 증가시키기 위해 일부 치킨집을 폐업시키려고 한다. 오랜 연구 끝에 이 도시에서 가장 수익을 많이 낼 수 있는  치킨집의 개수는 최대 M개라는 사실을 알아내었다.\n",
    "\n",
    "도시에 있는 치킨집 중에서 최대 M개를 고르고, 나머지 치킨집은 모두 폐업시켜야 한다. 어떻게 고르면, 도시의 치킨 거리가 가장 작게 될지 구하는 프로그램을 작성하시오."
   ]
  },
  {
   "cell_type": "markdown",
   "id": "ff45876a",
   "metadata": {},
   "source": [
    "첫째 줄에 N(2 ≤ N ≤ 50)과 M(1 ≤ M ≤ 13)이 주어진다.\n",
    "\n",
    "둘째 줄부터 N개의 줄에는 도시의 정보가 주어진다.\n",
    "\n",
    "도시의 정보는 0, 1, 2로 이루어져 있고, 0은 빈 칸, 1은 집, 2는 치킨집을 의미한다. 집의 개수는 2N개를 넘지 않으며, 적어도 1개는 존재한다. 치킨집의 개수는 M보다 크거나 같고, 13보다 작거나 같다."
   ]
  },
  {
   "cell_type": "markdown",
   "id": "8e648ebc",
   "metadata": {},
   "source": [
    "첫째 줄에 폐업시키지 않을 치킨집을 최대 M개를 골랐을 때, 도시의 치킨 거리의 최솟값을 출력한다."
   ]
  },
  {
   "cell_type": "code",
   "execution_count": 1,
   "id": "c79b99f0",
   "metadata": {},
   "outputs": [
    {
     "name": "stdout",
     "output_type": "stream",
     "text": [
      "5 3\n",
      "0 0 1 0 0\n",
      "0 0 2 0 1\n",
      "0 1 2 0 0\n",
      "0 0 1 0 0\n",
      "0 0 0 0 2\n",
      "5\n"
     ]
    }
   ],
   "source": [
    "from itertools import combinations\n",
    "\n",
    "N, M = map(int, input().split())\n",
    "chicken, house = [], []\n",
    "\n",
    "for r in range(N):\n",
    "    data = list(map(int, input().split()))\n",
    "    \n",
    "    for c in range(N):\n",
    "        if data[c] == 1: # 일반집\n",
    "            house.append((r, c))\n",
    "            \n",
    "        elif data[c] == 2: # 치킨집\n",
    "            chicken.append((r, c))\n",
    "            \n",
    "            \n",
    "# 모든 치킨집 중에서 M개의 치킨집을 뽑는 조합 계산\n",
    "candidates = list(combinations(chicken, M))\n",
    "\n",
    "# 치킨거리의 합을 계산하는 함수\n",
    "def get_sum(candidate):\n",
    "    result = 0\n",
    "    \n",
    "    # 모든 집에 대하여\n",
    "    for hx, hy in house:\n",
    "        # 가장 가까운 치킨집을 찾기\n",
    "        temp = 1e9\n",
    "        \n",
    "        for cx, cy in candidate:\n",
    "            temp = min(temp, abs(hx-cx) + abs(hy-cy))\n",
    "            \n",
    "        # 가장 가까운 치킨집까지의 거리를 더하기\n",
    "        result += temp\n",
    "        \n",
    "    # 치킨거리의 합 반환\n",
    "    return result\n",
    "    \n",
    "# 치킨거리의 합의 최소를 찾아서 출력\n",
    "result = 1e9\n",
    "\n",
    "for candidate in candidates:\n",
    "    result = min(result, get_sum(candidate))\n",
    "    \n",
    "print(result)"
   ]
  }
 ],
 "metadata": {
  "kernelspec": {
   "display_name": "Python3.8_spare",
   "language": "python",
   "name": "spare"
  },
  "language_info": {
   "codemirror_mode": {
    "name": "ipython",
    "version": 3
   },
   "file_extension": ".py",
   "mimetype": "text/x-python",
   "name": "python",
   "nbconvert_exporter": "python",
   "pygments_lexer": "ipython3",
   "version": "3.8.12"
  }
 },
 "nbformat": 4,
 "nbformat_minor": 5
}
