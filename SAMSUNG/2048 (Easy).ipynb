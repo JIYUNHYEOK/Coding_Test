{
 "cells": [
  {
   "cell_type": "markdown",
   "id": "23e88461",
   "metadata": {},
   "source": [
    "# 2048 (Easy)"
   ]
  },
  {
   "cell_type": "markdown",
   "id": "4effebf0",
   "metadata": {},
   "source": [
    "2048 게임은 4×4 크기의 보드에서 혼자 즐기는 재미있는 게임이다. 이 링크를 누르면 게임을 해볼 수 있다.\n",
    "\n",
    "이 게임에서 한 번의 이동은 보드 위에 있는 전체 블록을 상하좌우 네 방향 중 하나로 이동시키는 것이다. 이때, 같은 값을 갖는 두 블록이 충돌하면 두 블록은 하나로 합쳐지게 된다. 한 번의 이동에서 이미 합쳐진 블록은 또 다른 블록과 다시 합쳐질 수 없다. (실제 게임에서는 이동을 한 번 할 때마다 블록이 추가되지만, 이 문제에서 블록이 추가되는 경우는 없다)"
   ]
  },
  {
   "cell_type": "markdown",
   "id": "4442ab2a",
   "metadata": {},
   "source": [
    "<그림 1>의 경우에서 위로 블록을 이동시키면 <그림 2>의 상태가 된다. 여기서, 왼쪽으로 블록을 이동시키면 <그림 3>의 상태가 된다."
   ]
  },
  {
   "cell_type": "markdown",
   "id": "68acac78",
   "metadata": {},
   "source": [
    "<그림 4>의 상태에서 블록을 오른쪽으로 이동시키면 <그림 5>가 되고, 여기서 다시 위로 블록을 이동시키면 <그림 6>이 된다. 여기서 오른쪽으로 블록을 이동시켜 <그림 7>을 만들 수 있다."
   ]
  },
  {
   "cell_type": "markdown",
   "id": "18960031",
   "metadata": {},
   "source": [
    "<그림 8>의 상태에서 왼쪽으로 블록을 옮기면 어떻게 될까? 2가 충돌하기 때문에, 4로 합쳐지게 되고 <그림 9>의 상태가 된다."
   ]
  },
  {
   "cell_type": "markdown",
   "id": "493e4334",
   "metadata": {},
   "source": [
    "<그림 10>에서 위로 블록을 이동시키면 <그림 11>의 상태가 된다. \n",
    "\n",
    "<그림 12>의 경우에 위로 블록을 이동시키면 <그림 13>의 상태가 되는데, 그 이유는 한 번의 이동에서 이미 합쳐진 블록은 또 합쳐질 수 없기 때문이다."
   ]
  },
  {
   "cell_type": "markdown",
   "id": "6657f097",
   "metadata": {},
   "source": [
    "마지막으로, 똑같은 수가 세 개가 있는 경우에는 이동하려고 하는 쪽의 칸이 먼저 합쳐진다. 예를 들어, 위로 이동시키는 경우에는 위쪽에 있는 블록이 먼저 합쳐지게 된다. <그림 14>의 경우에 위로 이동하면 <그림 15>를 만든다.\n",
    "\n",
    "이 문제에서 다루는 2048 게임은 보드의 크기가 N×N 이다. 보드의 크기와 보드판의 블록 상태가 주어졌을 때, 최대 5번 이동해서 만들 수 있는 가장 큰 블록의 값을 구하는 프로그램을 작성하시오."
   ]
  },
  {
   "cell_type": "markdown",
   "id": "933990ed",
   "metadata": {},
   "source": [
    "첫째 줄에 보드의 크기 N (1 ≤ N ≤ 20)이 주어진다. 둘째 줄부터 N개의 줄에는 게임판의 초기 상태가 주어진다. 0은 빈 칸을 나타내며, 이외의 값은 모두 블록을 나타낸다. 블록에 쓰여 있는 수는 2보다 크거나 같고, 1024보다 작거나 같은 2의 제곱꼴이다. 블록은 적어도 하나 주어진다."
   ]
  },
  {
   "cell_type": "markdown",
   "id": "aa43f5dd",
   "metadata": {},
   "source": [
    "최대 5번 이동시켜서 얻을 수 있는 가장 큰 블록을 출력한다."
   ]
  },
  {
   "cell_type": "code",
   "execution_count": 1,
   "id": "e5f8fc7a",
   "metadata": {},
   "outputs": [
    {
     "name": "stdout",
     "output_type": "stream",
     "text": [
      "3\n",
      "2 2 2\n",
      "4 4 4\n",
      "8 8 8\n",
      "16\n"
     ]
    }
   ],
   "source": [
    "from collections import deque\n",
    "\n",
    "n = int(input())\n",
    "board = [list(map(int, input().split())) for _ in range(n)]\n",
    "answer = 0\n",
    "\n",
    "q = deque()\n",
    "\n",
    "def get(i, j):\n",
    "    # 0이 아닌 값이라면\n",
    "    if board[i][j]: \n",
    "        # queue에 board의 값을 넣는다.\n",
    "        q.append(board[i][j]) \n",
    "        # 처리가 된 빈 자리는 0으로 값 업데이트\n",
    "        board[i][j] = 0 \n",
    "        \n",
    "        \n",
    "# merge(row index, column index, y방향, x방향 )\n",
    "def merge(i, j, di, dj): \n",
    "    while q:\n",
    "        # 움직이려는 블록 값을 가져온다. Fist In First Out \n",
    "        x = q.popleft() \n",
    "        if not board[i][j]: \n",
    "            # 0이라면 그대로 놓는다.\n",
    "            board[i][j] = x\n",
    "        # 값이 일치한다면\n",
    "        elif board[i][j] == x: \n",
    "            board[i][j] = x*2 \n",
    "            # 합쳐지므로 2배로 증가\n",
    "            i, j = i+di, j+dj \n",
    "        # 값이 일치하지 않으면\n",
    "        else: \n",
    "            i, j = i+di, j+dj\n",
    "            board[i][j] = x \n",
    "\n",
    "def move(k):\n",
    "    # board[i][j]\n",
    "    # 위로 이동, 블락들이 위로 모두 이동하면 row index는 0\n",
    "    if k == 0: \n",
    "        for j in range(n):\n",
    "            for i in range(n):\n",
    "                get(i, j)\n",
    "            # row index 1씩 증가하면서 아래쪽 블락들을 합쳐감\n",
    "            merge(0, j, 1, 0) \n",
    "    # 아래로 이동, 블락들이 아래로 모두 이동하면 row index는 n-1\n",
    "    elif k == 1: \n",
    "        for j in range(n):\n",
    "            for i in range(n-1, -1, -1):\n",
    "                get(i, j)\n",
    "            # row 인덱스 1씩 감소하면서 위쪽들을 합쳐감\n",
    "            merge(n-1, j, -1, 0) \n",
    "    # 오른쪽으로 이동, column index는 0\n",
    "    elif k == 2: \n",
    "        for i in range(n):\n",
    "            for j in range(n):\n",
    "                get(i, j)\n",
    "            # column 인덱스 증가 오른쪽으로 이동\n",
    "            merge(i, 0, 0, 1)\n",
    "    # 왼쪽으로 이동, column index는 n-1\n",
    "    else: \n",
    "        for i in range(n):\n",
    "            for j in range(n-1, -1, -1):\n",
    "                get(i, j)\n",
    "            # column 인덱스 감소 왼쪽으로 이동\n",
    "            merge(i, n-1, 0, -1) \n",
    "            \n",
    "def solve(count):\n",
    "    global board, answer\n",
    "    # 최대 5번까지 움직였다면\n",
    "    if count == 5: \n",
    "        for i in range(n):\n",
    "            # 가장 큰 값이 answer\n",
    "            answer = max(answer, max(board[i])) \n",
    "        return\n",
    "    # 방향을 바꾸기 전에 원래의 보드를 기억해야 한다.\n",
    "    b = [x[:] for x in board] \n",
    "    \n",
    "    # 4방향으로 움직인다.\n",
    "    for k in range(4): \n",
    "        # 움직인다.\n",
    "        move(k) \n",
    "        # 재귀적으로 호출한다.\n",
    "        solve(count+1) \n",
    "        board = [x[:] for x in b]\n",
    "\n",
    "solve(0)\n",
    "print(answer)"
   ]
  }
 ],
 "metadata": {
  "kernelspec": {
   "display_name": "Python3.8_spare",
   "language": "python",
   "name": "spare"
  },
  "language_info": {
   "codemirror_mode": {
    "name": "ipython",
    "version": 3
   },
   "file_extension": ".py",
   "mimetype": "text/x-python",
   "name": "python",
   "nbconvert_exporter": "python",
   "pygments_lexer": "ipython3",
   "version": "3.8.12"
  }
 },
 "nbformat": 4,
 "nbformat_minor": 5
}
