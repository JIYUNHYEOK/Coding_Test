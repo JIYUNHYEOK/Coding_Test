{
 "cells": [
  {
   "cell_type": "code",
   "execution_count": 1,
   "id": "3fc0a764",
   "metadata": {},
   "outputs": [],
   "source": [
    "# 현재 설치된 구조물이 '가능한' 구조물인지 확인하는 함수\n",
    "def possible(answer):\n",
    "    for x, y, stuff in answer:\n",
    "        # 설치한 것이 '기둥'인 경우\n",
    "        if stuff == 0: \n",
    "            # '바닥 위' or '보의 한쪽 끝 부분 위' or '다른 기둥 위' 라면 정상\n",
    "            if y == 0 or [x-1, y, 1] in answer or [x, y, 1] in answer or [x, y-1, 0] in answer:\n",
    "                continue\n",
    "            \n",
    "            return False\n",
    "        \n",
    "        # 설치한 것이 '보'인 경우\n",
    "        elif stuff == 1: \n",
    "            # '한쪽 끝부분이 기둥 위' or '양쪽 끝 부분이 다른 보와 동시에 연결' 이라면 정상\n",
    "            if [x, y-1, 0] in answer or [x+1, y-1, 0] in answer or ([x-1, y, 1] in answer and [x+1, y, 1] in answer):\n",
    "                continue\n",
    "                \n",
    "            return False\n",
    "        \n",
    "    return True\n",
    "\n",
    "def solution(n, build_frame):\n",
    "    answer = []\n",
    "    \n",
    "    for frame in build_frame:\n",
    "        x, y, stuff, operate = frame\n",
    "        \n",
    "        # 삭제하려는 경우\n",
    "        if operate == 0:\n",
    "            # 우선 삭제 후에\n",
    "            answer.remove([x, y, stuff])\n",
    "            \n",
    "            # 가능한 구조물인지 확인\n",
    "            if not possible(answer):\n",
    "                # 가능한 구조물이 아닐 경우 재설치\n",
    "                answer.append([x, y, stuff])\n",
    "        \n",
    "        # 설치하려는 경우\n",
    "        if operate == 1:\n",
    "            # 우선 설치 후에\n",
    "            answer.append([x, y, stuff])\n",
    "            \n",
    "            # 가능한 구조물인지 확인\n",
    "            if not possible(answer):\n",
    "                # 가능한 구조물이 아닐 경우 다시 제거\n",
    "                answer.remove([x, y, stuff])\n",
    "                \n",
    "    # 정렬된 결과를 반환\n",
    "    return sorted(answer)\n",
    "            "
   ]
  },
  {
   "cell_type": "code",
   "execution_count": 2,
   "id": "854c1f77",
   "metadata": {},
   "outputs": [
    {
     "data": {
      "text/plain": [
       "[[1, 0, 0], [1, 1, 1], [2, 1, 0], [2, 2, 1], [4, 2, 2], [5, 0, 0], [5, 1, 0]]"
      ]
     },
     "execution_count": 2,
     "metadata": {},
     "output_type": "execute_result"
    }
   ],
   "source": [
    "solution(5, [[1,0,0,1], [1,1,1,1], [2,1,0,1], [2,2,1,1], [5,0,0,1], [5,1,0,1], [4,2,2,1], [3,2,1,1]])"
   ]
  }
 ],
 "metadata": {
  "kernelspec": {
   "display_name": "Python3.8_spare",
   "language": "python",
   "name": "spare"
  },
  "language_info": {
   "codemirror_mode": {
    "name": "ipython",
    "version": 3
   },
   "file_extension": ".py",
   "mimetype": "text/x-python",
   "name": "python",
   "nbconvert_exporter": "python",
   "pygments_lexer": "ipython3",
   "version": "3.8.12"
  }
 },
 "nbformat": 4,
 "nbformat_minor": 5
}
