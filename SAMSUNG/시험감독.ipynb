{
 "cells": [
  {
   "cell_type": "markdown",
   "id": "54e081ce",
   "metadata": {},
   "source": [
    "# 시험 감독"
   ]
  },
  {
   "cell_type": "markdown",
   "id": "4ad4223f",
   "metadata": {},
   "source": [
    "총 N개의 시험장이 있고, 각각의 시험장마다 응시자들이 있다. i번 시험장에 있는 응시자의 수는 Ai명이다.\n",
    "\n",
    "감독관은 총감독관과 부감독관으로 두 종류가 있다. 총감독관은 한 시험장에서 감시할 수 있는 응시자의 수가 B명이고, 부감독관은 한 시험장에서 감시할 수 있는 응시자의 수가 C명이다.\n",
    "\n",
    "각각의 시험장에 총감독관은 오직 1명만 있어야 하고, 부감독관은 여러 명 있어도 된다.\n",
    "\n",
    "각 시험장마다 응시생들을 모두 감시해야 한다. 이때, 필요한 감독관 수의 최솟값을 구하는 프로그램을 작성하시오."
   ]
  },
  {
   "cell_type": "markdown",
   "id": "662e732f",
   "metadata": {},
   "source": [
    "첫째 줄에 시험장의 개수 N(1 ≤ N ≤ 1,000,000)이 주어진다.\n",
    "\n",
    "둘째 줄에는 각 시험장에 있는 응시자의 수 Ai (1 ≤ Ai ≤ 1,000,000)가 주어진다.\n",
    "\n",
    "셋째 줄에는 B와 C가 주어진다. (1 ≤ B, C ≤ 1,000,000)"
   ]
  },
  {
   "cell_type": "code",
   "execution_count": 1,
   "id": "04642d08",
   "metadata": {},
   "outputs": [
    {
     "name": "stdout",
     "output_type": "stream",
     "text": [
      "1\n",
      "1 1\n",
      "1 1\n",
      "1\n"
     ]
    }
   ],
   "source": [
    "N = int(input()) # 시험장의 갯수\n",
    "applicant = list(map(int, input().split())) # 시험장 각각의 응시생 수\n",
    "B, C = map(int, input().split()) # 총감독관, 부감독관\n",
    "answer = 0\n",
    "\n",
    "for num in applicant:\n",
    "    if num >= B: # 한 고사장 당 B명을 감독\n",
    "        num -= B\n",
    "        if num % C == 0:\n",
    "            answer += num // C\n",
    "        else:\n",
    "            answer += (num //C) + 1\n",
    "            \n",
    "print(answer + N) # 한 고사장 당 총 감독관 한 명을 무조건 배치해야하기 때문"
   ]
  },
  {
   "cell_type": "code",
   "execution_count": 2,
   "id": "c3b7df9b",
   "metadata": {},
   "outputs": [
    {
     "name": "stdout",
     "output_type": "stream",
     "text": [
      "3\n",
      "3 4 5\n",
      "2 2\n",
      "7\n"
     ]
    }
   ],
   "source": [
    "N = int(input()) # 시험장의 갯수\n",
    "applicant = list(map(int, input().split())) # 시험장 각각의 응시생 수\n",
    "B, C = map(int, input().split()) # 총감독관, 부감독관\n",
    "answer = 0\n",
    "\n",
    "for num in applicant:\n",
    "    if num >= B: # 한 고사장 당 B명을 감독\n",
    "        num -= B\n",
    "        if num % C == 0:\n",
    "            answer += num // C\n",
    "        else:\n",
    "            answer += (num //C) + 1\n",
    "            \n",
    "print(answer + N) # 한 고사장 당 총 감독관 한 명을 무조건 배치해야하기 때문"
   ]
  },
  {
   "cell_type": "code",
   "execution_count": 3,
   "id": "a763829a",
   "metadata": {},
   "outputs": [
    {
     "name": "stdout",
     "output_type": "stream",
     "text": [
      "5\n",
      "1000000 1000000 1000000 1000000 1000000\n",
      "5 7\n",
      "714290\n"
     ]
    }
   ],
   "source": [
    "N = int(input()) # 시험장의 갯수\n",
    "applicant = list(map(int, input().split())) # 시험장 각각의 응시생 수\n",
    "B, C = map(int, input().split()) # 총감독관, 부감독관\n",
    "answer = 0\n",
    "\n",
    "for num in applicant:\n",
    "    if num >= B: # 한 고사장 당 B명을 감독\n",
    "        num -= B\n",
    "        if num % C == 0:\n",
    "            answer += num // C\n",
    "        else:\n",
    "            answer += (num //C) + 1\n",
    "            \n",
    "print(answer + N) # 한 고사장 당 총 감독관 한 명을 무조건 배치해야하기 때문"
   ]
  },
  {
   "cell_type": "code",
   "execution_count": 4,
   "id": "2c85a246",
   "metadata": {},
   "outputs": [
    {
     "name": "stdout",
     "output_type": "stream",
     "text": [
      "5\n",
      "10 9 10 9 10\n",
      "7 20\n",
      "10\n"
     ]
    }
   ],
   "source": [
    "N = int(input()) # 시험장의 갯수\n",
    "applicant = list(map(int, input().split())) # 시험장 각각의 응시생 수\n",
    "B, C = map(int, input().split()) # 총감독관, 부감독관\n",
    "answer = 0\n",
    "\n",
    "for num in applicant:\n",
    "    if num >= B: # 한 고사장 당 B명을 감독\n",
    "        num -= B\n",
    "        if num % C == 0:\n",
    "            answer += num // C\n",
    "        else:\n",
    "            answer += (num //C) + 1\n",
    "            \n",
    "print(answer + N) # 한 고사장 당 총 감독관 한 명을 무조건 배치해야하기 때문"
   ]
  },
  {
   "cell_type": "code",
   "execution_count": 5,
   "id": "5a824488",
   "metadata": {},
   "outputs": [
    {
     "name": "stdout",
     "output_type": "stream",
     "text": [
      "5\n",
      "10 9 10 9 10\n",
      "7 2\n",
      "13\n"
     ]
    }
   ],
   "source": [
    "N = int(input()) # 시험장의 갯수\n",
    "applicant = list(map(int, input().split())) # 시험장 각각의 응시생 수\n",
    "B, C = map(int, input().split()) # 총감독관, 부감독관\n",
    "answer = 0\n",
    "\n",
    "for num in applicant:\n",
    "    if num >= B: # 한 고사장 당 B명을 감독\n",
    "        num -= B\n",
    "        if num % C == 0:\n",
    "            answer += num // C\n",
    "        else:\n",
    "            answer += (num //C) + 1\n",
    "            \n",
    "print(answer + N) # 한 고사장 당 총 감독관 한 명을 무조건 배치해야하기 때문"
   ]
  }
 ],
 "metadata": {
  "kernelspec": {
   "display_name": "Python3.8_spare",
   "language": "python",
   "name": "spare"
  },
  "language_info": {
   "codemirror_mode": {
    "name": "ipython",
    "version": 3
   },
   "file_extension": ".py",
   "mimetype": "text/x-python",
   "name": "python",
   "nbconvert_exporter": "python",
   "pygments_lexer": "ipython3",
   "version": "3.8.12"
  }
 },
 "nbformat": 4,
 "nbformat_minor": 5
}
