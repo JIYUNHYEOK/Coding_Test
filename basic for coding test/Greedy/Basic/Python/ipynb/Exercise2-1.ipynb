{
 "cells": [
  {
   "cell_type": "code",
   "execution_count": 1,
   "id": "edc72d20",
   "metadata": {},
   "outputs": [
    {
     "name": "stdout",
     "output_type": "stream",
     "text": [
      "5 8 3\n",
      "2 4 5 4 6\n",
      "46\n"
     ]
    }
   ],
   "source": [
    "N, M, K = map(int, input().split()) # 배열의 크기, 숫자가 더해지는 횟수, 연속으로 더할 수 있는 최대 횟수\n",
    "data = list(map(int, input().split()))\n",
    "\n",
    "data.sort()\n",
    "\n",
    "result = 0\n",
    "\n",
    "while True:\n",
    "    for i in range(K):\n",
    "        if M == 0:\n",
    "            break\n",
    "        result += data[N-1]\n",
    "        M -= 1\n",
    "    \n",
    "    if M == 0:\n",
    "        break\n",
    "    result += data[N-2]\n",
    "    M -= 1\n",
    "\n",
    "print(result)"
   ]
  }
 ],
 "metadata": {
  "kernelspec": {
   "display_name": "Python3.8_spare",
   "language": "python",
   "name": "spare"
  },
  "language_info": {
   "codemirror_mode": {
    "name": "ipython",
    "version": 3
   },
   "file_extension": ".py",
   "mimetype": "text/x-python",
   "name": "python",
   "nbconvert_exporter": "python",
   "pygments_lexer": "ipython3",
   "version": "3.8.12"
  }
 },
 "nbformat": 4,
 "nbformat_minor": 5
}
