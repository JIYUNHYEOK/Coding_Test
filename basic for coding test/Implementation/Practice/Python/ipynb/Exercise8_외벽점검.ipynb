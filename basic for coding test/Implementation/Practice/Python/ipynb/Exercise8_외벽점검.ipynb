{
 "cells": [
  {
   "cell_type": "code",
   "execution_count": null,
   "id": "a00179e8",
   "metadata": {},
   "outputs": [],
   "source": [
    "from itertools import permutations\n",
    "\n",
    "def solution(n, weak, dist):\n",
    "    length = len(weak)\n",
    "    \n",
    "    # 길이를 2배로 늘려서 '원형'을 일자 형태로 변형\n",
    "    for i in range(length):\n",
    "        weak.append(weak[i] + n)\n",
    "        \n",
    "    # 투입할 친구 수를 찾아야 하기 때문에 len(dist) + 1로 초기화\n",
    "    answer = len(dist) + 1\n",
    "    \n",
    "    # 0부터 length-1 까지의 위치를 각각 시작점으로 설정\n",
    "    for start in range(length):\n",
    "        # 친구를 나열하는 모든 경우의 수 각각에 대해서 확인\n",
    "        for friends in list(permutations(dist, len(dist))):\n",
    "            # 투입할 친구 수\n",
    "            count = 1\n",
    "            # 해당 친구가 점검할 수 있는 마지막 위치\n",
    "            position = weak[start] + friends[count-1]\n",
    "            # 시작점부터 모든 취약 지점을 확인\n",
    "            for index in range(start, start+length):\n",
    "                # 점검할 수 있는 위치를 벗어나는 경우\n",
    "                if position < weak[index]:\n",
    "                    # 새로운 친구를 투입\n",
    "                    count += 1\n",
    "                    # 더 투입이 불가능할 경우 종료\n",
    "                    if count > len(dist):\n",
    "                        break\n",
    "                    position = weak[index] + friends[count-1]\n",
    "                    \n",
    "            # 최솟값 계산\n",
    "            answer = min(answer, count)\n",
    "        \n",
    "    if answer > len(dist):\n",
    "        return -1\n",
    "    \n",
    "    return answer"
   ]
  }
 ],
 "metadata": {
  "kernelspec": {
   "display_name": "Python3.8_spare",
   "language": "python",
   "name": "spare"
  },
  "language_info": {
   "codemirror_mode": {
    "name": "ipython",
    "version": 3
   },
   "file_extension": ".py",
   "mimetype": "text/x-python",
   "name": "python",
   "nbconvert_exporter": "python",
   "pygments_lexer": "ipython3",
   "version": "3.8.12"
  }
 },
 "nbformat": 4,
 "nbformat_minor": 5
}
