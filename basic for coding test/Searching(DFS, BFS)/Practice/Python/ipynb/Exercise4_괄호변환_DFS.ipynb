{
 "cells": [
  {
   "cell_type": "code",
   "execution_count": 1,
   "id": "58a7b0bf",
   "metadata": {},
   "outputs": [],
   "source": [
    "# \"균형잡힌 괄호 문자열\"의 인덱스 반환\n",
    "def balanced_index(p):\n",
    "    # 왼쪽 괄호의 갯수\n",
    "    count = 0\n",
    "    for i in range(len(p)):\n",
    "        if p[i] == '(':\n",
    "            count += 1\n",
    "        else:\n",
    "            count -= 1\n",
    "            \n",
    "        if count == 0:\n",
    "            return i\n",
    "        \n",
    "# \"올바른 괄호 문자열\"인지 판단\n",
    "def check_proper(p):\n",
    "    # 왼쪽 괄호의 갯수\n",
    "    count = 0\n",
    "    for i in p:\n",
    "        if i == '(':\n",
    "            count += 1\n",
    "        else:\n",
    "            # 쌍이 맞지 않은 경우에는\n",
    "            if count == 0:\n",
    "                # False 반환\n",
    "                return False\n",
    "            count -= 1\n",
    "    # 쌍이 맞는 경우에는 True 반환\n",
    "    return True\n",
    "\n",
    "def solution(p):\n",
    "    answer = ''\n",
    "    \n",
    "    if p == '':\n",
    "        return answer\n",
    "    \n",
    "    index = balanced_index(p)\n",
    "    # 균형잡힌 문자열 w를 균형잡힌 괄호 문자열 두개로 분리\n",
    "    u = p[:index+1]\n",
    "    v = p[index+1:] \n",
    "    \n",
    "    # \"올바른 괄호 문자열\"이면, v에 대해 함수를 수행한 결과를 붙여 반환\n",
    "    if check_proper(u):\n",
    "        answer = u + solution(v)\n",
    "        \n",
    "    # \"올바른 괄호 문자열\"이 아니라면, 아래의 과정을 수행\n",
    "    else:\n",
    "        answer = '('\n",
    "        answer += solution(v)\n",
    "        answer += ')'\n",
    "        \n",
    "        # 첫번째와 마지막 문자를 제거\n",
    "        u = list(u[1:-1])\n",
    "        \n",
    "        for i in range(len(u)):\n",
    "            if u[i] == '(':\n",
    "                u[i] = ')'\n",
    "            else:\n",
    "                u[i] = '('\n",
    "                \n",
    "        answer += \"\".join(u)\n",
    "        \n",
    "    return answer\n",
    "                    "
   ]
  },
  {
   "cell_type": "code",
   "execution_count": 2,
   "id": "87bd55a4",
   "metadata": {},
   "outputs": [
    {
     "data": {
      "text/plain": [
       "'(()())()'"
      ]
     },
     "execution_count": 2,
     "metadata": {},
     "output_type": "execute_result"
    }
   ],
   "source": [
    "solution(\"(()())()\")"
   ]
  },
  {
   "cell_type": "code",
   "execution_count": 3,
   "id": "5e193de3",
   "metadata": {},
   "outputs": [
    {
     "data": {
      "text/plain": [
       "'()'"
      ]
     },
     "execution_count": 3,
     "metadata": {},
     "output_type": "execute_result"
    }
   ],
   "source": [
    "solution(\")(\")"
   ]
  },
  {
   "cell_type": "code",
   "execution_count": 4,
   "id": "ac9361f3",
   "metadata": {},
   "outputs": [
    {
     "data": {
      "text/plain": [
       "'()(())()'"
      ]
     },
     "execution_count": 4,
     "metadata": {},
     "output_type": "execute_result"
    }
   ],
   "source": [
    "solution(\"()))((()\")"
   ]
  }
 ],
 "metadata": {
  "kernelspec": {
   "display_name": "Python3.8_spare",
   "language": "python",
   "name": "spare"
  },
  "language_info": {
   "codemirror_mode": {
    "name": "ipython",
    "version": 3
   },
   "file_extension": ".py",
   "mimetype": "text/x-python",
   "name": "python",
   "nbconvert_exporter": "python",
   "pygments_lexer": "ipython3",
   "version": "3.8.12"
  }
 },
 "nbformat": 4,
 "nbformat_minor": 5
}
