{
 "cells": [
  {
   "cell_type": "markdown",
   "id": "0a4b656a",
   "metadata": {},
   "source": [
    "# 톱니바퀴"
   ]
  },
  {
   "cell_type": "markdown",
   "id": "06add016",
   "metadata": {},
   "source": [
    "총 8개의 톱니를 가지고 있는 톱니바퀴 4개가 아래 그림과 같이 일렬로 놓여져 있다. 또, 톱니는 N극 또는 S극 중 하나를 나타내고 있다. 톱니바퀴에는 번호가 매겨져 있는데, 가장 왼쪽 톱니바퀴가 1번, 그 오른쪽은 2번, 그 오른쪽은 3번, 가장 오른쪽 톱니바퀴는 4번이다."
   ]
  },
  {
   "cell_type": "markdown",
   "id": "4ba46df2",
   "metadata": {},
   "source": [
    "이때, 톱니바퀴를 총 K번 회전시키려고 한다. 톱니바퀴의 회전은 한 칸을 기준으로 한다. 회전은 시계 방향과 반시계 방향이 있고, 아래 그림과 같이 회전한다."
   ]
  },
  {
   "cell_type": "markdown",
   "id": "f2405b67",
   "metadata": {},
   "source": [
    "톱니바퀴를 회전시키려면, 회전시킬 톱니바퀴와 회전시킬 방향을 결정해야 한다. 톱니바퀴가 회전할 때, 서로 맞닿은 극에 따라서 옆에 있는 톱니바퀴를 회전시킬 수도 있고, 회전시키지 않을 수도 있다. 톱니바퀴 A를 회전할 때, 그 옆에 있는 톱니바퀴 B와 서로 맞닿은 톱니의 극이 다르다면, B는 A가 회전한 방향과 반대방향으로 회전하게 된다. 예를 들어, 아래와 같은 경우를 살펴보자."
   ]
  },
  {
   "cell_type": "markdown",
   "id": "03f48f11",
   "metadata": {},
   "source": [
    "두 톱니바퀴의 맞닿은 부분은 초록색 점선으로 묶여있는 부분이다. 여기서, 3번 톱니바퀴를 반시계 방향으로 회전했다면, 4번 톱니바퀴는 시계 방향으로 회전하게 된다. 2번 톱니바퀴는 맞닿은 부분이 S극으로 서로 같기 때문에, 회전하지 않게 되고, 1번 톱니바퀴는 2번이 회전하지 않았기 때문에, 회전하지 않게 된다. 따라서, 아래 그림과 같은 모양을 만들게 된다."
   ]
  },
  {
   "cell_type": "markdown",
   "id": "a7ac140e",
   "metadata": {},
   "source": [
    "위와 같은 상태에서 1번 톱니바퀴를 시계 방향으로 회전시키면, 2번 톱니바퀴가 반시계 방향으로 회전하게 되고, 2번이 회전하기 때문에, 3번도 동시에 시계 방향으로 회전하게 된다. 4번은 3번이 회전하지만, 맞닿은 극이 같기 때문에 회전하지 않는다. 따라서, 아래와 같은 상태가 된다."
   ]
  },
  {
   "cell_type": "markdown",
   "id": "2d1bdd01",
   "metadata": {},
   "source": [
    "톱니바퀴의 초기 상태와 톱니바퀴를 회전시킨 방법이 주어졌을 때, 최종 톱니바퀴의 상태를 구하는 프로그램을 작성하시오."
   ]
  },
  {
   "cell_type": "markdown",
   "id": "3bfac41a",
   "metadata": {},
   "source": [
    "첫째 줄에 1번 톱니바퀴의 상태, 둘째 줄에 2번 톱니바퀴의 상태, 셋째 줄에 3번 톱니바퀴의 상태, 넷째 줄에 4번 톱니바퀴의 상태가 주어진다. 상태는 8개의 정수로 이루어져 있고, 12시방향부터 시계방향 순서대로 주어진다. N극은 0, S극은 1로 나타나있다.\n",
    "\n",
    "다섯째 줄에는 회전 횟수 K(1 ≤ K ≤ 100)가 주어진다. 다음 K개 줄에는 회전시킨 방법이 순서대로 주어진다. 각 방법은 두 개의 정수로 이루어져 있고, 첫 번째 정수는 회전시킨 톱니바퀴의 번호, 두 번째 정수는 방향이다. 방향이 1인 경우는 시계 방향이고, -1인 경우는 반시계 방향이다."
   ]
  },
  {
   "cell_type": "markdown",
   "id": "9b51adaa",
   "metadata": {},
   "source": [
    "총 K번 회전시킨 이후에 네 톱니바퀴의 점수의 합을 출력한다. 점수란 다음과 같이 계산한다.\n",
    "\n",
    "1번 톱니바퀴의 12시방향이 N극이면 0점, S극이면 1점\n",
    "2번 톱니바퀴의 12시방향이 N극이면 0점, S극이면 2점\n",
    "3번 톱니바퀴의 12시방향이 N극이면 0점, S극이면 4점\n",
    "4번 톱니바퀴의 12시방향이 N극이면 0점, S극이면 8점"
   ]
  },
  {
   "cell_type": "code",
   "execution_count": 1,
   "id": "60695bf2",
   "metadata": {},
   "outputs": [
    {
     "name": "stdout",
     "output_type": "stream",
     "text": [
      "10101111\n",
      "01111101\n",
      "11001110\n",
      "00000010\n",
      "2\n",
      "3 -1\n",
      "1 1\n",
      "7\n"
     ]
    }
   ],
   "source": [
    "from collections import deque\n",
    "\n",
    "def rotation(n, d):\n",
    "    # 시계방향으로 회전\n",
    "    if d == 1:\n",
    "        # 맨 뒤의 값을 제일 앞에 삽입\n",
    "        gear_list[n].appendleft(gear_list[n].pop())\n",
    "    # 반시계방향으로 회전\n",
    "    else:\n",
    "        # 맨 앞의 값을 제일 뒤에 추가\n",
    "        gear_list[n].append(gear_list[n].popleft())\n",
    "\n",
    "gear_list = []\n",
    "for _ in range(4):\n",
    "    gear_list.append(deque(list(map(int, input()))))\n",
    "            \n",
    "k = int(input())\n",
    "for _ in range(k):\n",
    "    gear_num, direction = map(int, input().split())\n",
    "    # 인덱스 맞춰주기\n",
    "    cur = gear_num - 1\n",
    "    left, right = cur-1, cur+1\n",
    "    # 방향 및 회전 정보 저장\n",
    "    rotate_idx = []\n",
    "    # 왼쪽 방향정보 저장\n",
    "    tmp_dir_1 = direction\n",
    "    # 오른쪽 방향정보 저장\n",
    "    tmp_dir_2 = direction\n",
    "    \n",
    "    while left >= 0:\n",
    "        if gear_list[left][2] != gear_list[cur][6]:\n",
    "            rotate_idx.append((left, tmp_dir_1 * -1))\n",
    "            cur = left\n",
    "            left -= 1\n",
    "            tmp_dir_1 *= -1\n",
    "        else:\n",
    "            break\n",
    "\n",
    "    cur = gear_num - 1\n",
    "    while right <= 3:\n",
    "        if gear_list[cur][2] != gear_list[right][6]:\n",
    "            rotate_idx.append((right, tmp_dir_2 * -1))\n",
    "            cur = right\n",
    "            right += 1\n",
    "            tmp_dir_2 *= -1\n",
    "        else:\n",
    "            break\n",
    "\n",
    "    # 제일 처음에 정보에 대해 회전\n",
    "    rotation(gear_num-1, direction)\n",
    "\n",
    "    # 처음에 정보에 의해 회전된 것들에 영향 받은 톱니바퀴 회전\n",
    "    for idx, dir in rotate_idx:\n",
    "        rotation(idx, dir)\n",
    "\n",
    "answer = 0\n",
    "\n",
    "for i in range(4):\n",
    "    if gear_list[i][0] == 1:\n",
    "        answer += (2**i)\n",
    "\n",
    "print(answer)"
   ]
  }
 ],
 "metadata": {
  "kernelspec": {
   "display_name": "Python3.8_spare",
   "language": "python",
   "name": "spare"
  },
  "language_info": {
   "codemirror_mode": {
    "name": "ipython",
    "version": 3
   },
   "file_extension": ".py",
   "mimetype": "text/x-python",
   "name": "python",
   "nbconvert_exporter": "python",
   "pygments_lexer": "ipython3",
   "version": "3.8.12"
  }
 },
 "nbformat": 4,
 "nbformat_minor": 5
}
