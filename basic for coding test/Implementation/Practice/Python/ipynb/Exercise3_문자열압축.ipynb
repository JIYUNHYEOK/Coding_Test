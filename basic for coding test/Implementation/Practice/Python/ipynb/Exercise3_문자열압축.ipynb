{
 "cells": [
  {
   "cell_type": "code",
   "execution_count": 1,
   "id": "b5fa6bc1",
   "metadata": {},
   "outputs": [],
   "source": [
    "def solution(s):\n",
    "    answer = len(s)\n",
    "    \n",
    "    for step in range(1, (len(s)//2) + 1): # 1개 단위붙터 압축을 늘려가면서 확인\n",
    "        compressed = \"\"\n",
    "        prev = s[0:step] # 앞에서부터 step 만큼의 문자열 추출\n",
    "        count = 1\n",
    "        \n",
    "        for j in range(step, len(s), step): # 단위(step) 만큼 증가시키면서 이전 문자열과 비교\n",
    "            if prev == s[j:j+step]:\n",
    "                count += 1\n",
    "            else: # 다른 문자열이 나왔을 경우, 더 이상 압축 불가\n",
    "                compressed += str(count) + prev if count >= 2 else prev\n",
    "                prev = s[j:j+step] # 다시 초기화\n",
    "                count = 1\n",
    "        \n",
    "        compressed += str(count) + prev if count >= 2 else prev # 남아 있는 문자열에 대해 처리\n",
    "        answer = min(answer, len(compressed)) # 만들어진 압축 중 가장 짧은 것이 정답\n",
    "        \n",
    "    return answer"
   ]
  },
  {
   "cell_type": "code",
   "execution_count": 2,
   "id": "d8e04de1",
   "metadata": {},
   "outputs": [
    {
     "data": {
      "text/plain": [
       "7"
      ]
     },
     "execution_count": 2,
     "metadata": {},
     "output_type": "execute_result"
    }
   ],
   "source": [
    "solution(\"aabbacc\")"
   ]
  },
  {
   "cell_type": "code",
   "execution_count": 3,
   "id": "dfc830ce",
   "metadata": {},
   "outputs": [
    {
     "data": {
      "text/plain": [
       "9"
      ]
     },
     "execution_count": 3,
     "metadata": {},
     "output_type": "execute_result"
    }
   ],
   "source": [
    "solution(\"ababcdcdababcdcd\")"
   ]
  },
  {
   "cell_type": "code",
   "execution_count": 4,
   "id": "b9c7a02d",
   "metadata": {},
   "outputs": [
    {
     "data": {
      "text/plain": [
       "8"
      ]
     },
     "execution_count": 4,
     "metadata": {},
     "output_type": "execute_result"
    }
   ],
   "source": [
    "solution(\"abcabcdede\")"
   ]
  },
  {
   "cell_type": "code",
   "execution_count": 5,
   "id": "d1779f92",
   "metadata": {},
   "outputs": [
    {
     "data": {
      "text/plain": [
       "14"
      ]
     },
     "execution_count": 5,
     "metadata": {},
     "output_type": "execute_result"
    }
   ],
   "source": [
    "solution(\"abcabcabcabcdededededede\")"
   ]
  },
  {
   "cell_type": "code",
   "execution_count": 6,
   "id": "e239b279",
   "metadata": {},
   "outputs": [
    {
     "data": {
      "text/plain": [
       "17"
      ]
     },
     "execution_count": 6,
     "metadata": {},
     "output_type": "execute_result"
    }
   ],
   "source": [
    "solution(\"xababcdcdababcdcd\")"
   ]
  }
 ],
 "metadata": {
  "kernelspec": {
   "display_name": "Python3.8_spare",
   "language": "python",
   "name": "spare"
  },
  "language_info": {
   "codemirror_mode": {
    "name": "ipython",
    "version": 3
   },
   "file_extension": ".py",
   "mimetype": "text/x-python",
   "name": "python",
   "nbconvert_exporter": "python",
   "pygments_lexer": "ipython3",
   "version": "3.8.12"
  }
 },
 "nbformat": 4,
 "nbformat_minor": 5
}
