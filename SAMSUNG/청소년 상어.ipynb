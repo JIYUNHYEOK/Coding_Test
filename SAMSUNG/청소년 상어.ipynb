{
 "cells": [
  {
   "cell_type": "markdown",
   "id": "163dd746",
   "metadata": {},
   "source": [
    "# 청소년 상어"
   ]
  },
  {
   "cell_type": "markdown",
   "id": "43a10b73",
   "metadata": {},
   "source": [
    "아기 상어가 성장해 청소년 상어가 되었다.\n",
    "\n",
    "4×4크기의 공간이 있고, 크기가 1×1인 정사각형 칸으로 나누어져 있다. 공간의 각 칸은 (x, y)와 같이 표현하며, x는 행의 번호, y는 열의 번호이다. 한 칸에는 물고기가 한 마리 존재한다. 각 물고기는 번호와 방향을 가지고 있다. 번호는 1보다 크거나 같고, 16보다 작거나 같은 자연수이며, 두 물고기가 같은 번호를 갖는 경우는 없다. 방향은 8가지 방향(상하좌우, 대각선) 중 하나이다.\n",
    "\n",
    "오늘은 청소년 상어가 이 공간에 들어가 물고기를 먹으려고 한다. 청소년 상어는 (0, 0)에 있는 물고기를 먹고, (0, 0)에 들어가게 된다. 상어의 방향은 (0, 0)에 있던 물고기의 방향과 같다. 이후 물고기가 이동한다.\n",
    "\n",
    "물고기는 번호가 작은 물고기부터 순서대로 이동한다. 물고기는 한 칸을 이동할 수 있고, 이동할 수 있는 칸은 빈 칸과 다른 물고기가 있는 칸, 이동할 수 없는 칸은 상어가 있거나, 공간의 경계를 넘는 칸이다. 각 물고기는 방향이 이동할 수 있는 칸을 향할 때까지 방향을 45도 반시계 회전시킨다. 만약, 이동할 수 있는 칸이 없으면 이동을 하지 않는다. 그 외의 경우에는 그 칸으로 이동을 한다. 물고기가 다른 물고기가 있는 칸으로 이동할 때는 서로의 위치를 바꾸는 방식으로 이동한다.\n",
    "\n",
    "물고기의 이동이 모두 끝나면 상어가 이동한다. 상어는 방향에 있는 칸으로 이동할 수 있는데, 한 번에 여러 개의 칸을 이동할 수 있다. 상어가 물고기가 있는 칸으로 이동했다면, 그 칸에 있는 물고기를 먹고, 그 물고기의 방향을 가지게 된다. 이동하는 중에 지나가는 칸에 있는 물고기는 먹지 않는다. 물고기가 없는 칸으로는 이동할 수 없다. 상어가 이동할 수 있는 칸이 없으면 공간에서 벗어나 집으로 간다. 상어가 이동한 후에는 다시 물고기가 이동하며, 이후 이 과정이 계속해서 반복된다."
   ]
  },
  {
   "cell_type": "markdown",
   "id": "cdf3c323",
   "metadata": {},
   "source": [
    "<그림 1>은 청소년 상어가 공간에 들어가기 전 초기 상태이다. 상어가 공간에 들어가면 (0, 0)에 있는 7번 물고기를 먹고, 상어의 방향은 ↘이 된다. <그림 2>는 상어가 들어간 직후의 상태를 나타낸다."
   ]
  },
  {
   "cell_type": "markdown",
   "id": "0560603c",
   "metadata": {},
   "source": [
    "이제 물고기가 이동해야 한다. 1번 물고기의 방향은 ↗이다. ↗ 방향에는 칸이 있고, 15번 물고기가 들어있다. 물고기가 있는 칸으로 이동할 때는 그 칸에 있는 물고기와 위치를 서로 바꿔야 한다. 따라서, 1번 물고기가 이동을 마치면 <그림 3>과 같아진다."
   ]
  },
  {
   "cell_type": "markdown",
   "id": "5902dcdf",
   "metadata": {},
   "source": [
    "2번 물고기의 방향은 ←인데, 그 방향에는 상어가 있으니 이동할 수 없다. 방향을 45도 반시계 회전을 하면 ↙가 되고, 이 칸에는 3번 물고기가 있다. 물고기가 있는 칸이니 서로 위치를 바꾸고, <그림 4>와 같아지게 된다."
   ]
  },
  {
   "cell_type": "markdown",
   "id": "3f10a8cf",
   "metadata": {},
   "source": [
    "3번 물고기의 방향은 ↑이고, 존재하지 않는 칸이다. 45도 반시계 회전을 한 방향 ↖도 존재하지 않으니, 다시 회전을 한다. ← 방향에는 상어가 있으니 또 회전을 해야 한다. ↙ 방향에는 2번 물고기가 있으니 서로의 위치를 교환하면 된다. 이런 식으로 모든 물고기가 이동하면 <그림 5>와 같아진다."
   ]
  },
  {
   "cell_type": "markdown",
   "id": "2f804403",
   "metadata": {},
   "source": [
    "물고기가 모두 이동했으니 이제 상어가 이동할 순서이다. 상어의 방향은 ↘이고, 이동할 수 있는 칸은 12번 물고기가 있는 칸, 15번 물고기가 있는 칸, 8번 물고기가 있는 칸 중에 하나이다. 만약, 8번 물고기가 있는 칸으로 이동하면, <그림 6>과 같아지게 된다."
   ]
  },
  {
   "cell_type": "markdown",
   "id": "cf748e46",
   "metadata": {},
   "source": [
    "상어가 먹을 수 있는 물고기 번호의 합의 최댓값을 구해보자."
   ]
  },
  {
   "cell_type": "markdown",
   "id": "1943101a",
   "metadata": {},
   "source": [
    "첫째 줄부터 4개의 줄에 각 칸의 들어있는 물고기의 정보가 1번 행부터 순서대로 주어진다. 물고기의 정보는 두 정수 ai, bi로 이루어져 있고, ai는 물고기의 번호, bi는 방향을 의미한다. 방향 bi는 8보다 작거나 같은 자연수를 의미하고, 1부터 순서대로 ↑, ↖, ←, ↙, ↓, ↘, →, ↗ 를 의미한다."
   ]
  },
  {
   "cell_type": "markdown",
   "id": "179a4892",
   "metadata": {},
   "source": [
    "상어가 먹을 수 있는 물고기 번호의 합의 최댓값을 출력한다."
   ]
  },
  {
   "cell_type": "code",
   "execution_count": 1,
   "id": "ac1d4a3b",
   "metadata": {},
   "outputs": [
    {
     "name": "stdout",
     "output_type": "stream",
     "text": [
      "12 6 14 5 4 5 6 7\n",
      "15 1 11 7 3 7 7 5\n",
      "10 3 8 3 16 6 1 1\n",
      "5 8 2 7 13 6 9 2\n",
      "76\n"
     ]
    }
   ],
   "source": [
    "import copy\n",
    "\n",
    "board = [[] for _ in range(4)]\n",
    "\n",
    "dx = [-1, -1, 0, 1, 1, 1, 0, -1]\n",
    "dy = [0, -1, -1, -1, 0, 1, 1, 1]\n",
    "\n",
    "for i in range(4):\n",
    "    data = list(map(int, input().split()))\n",
    "    fish = []\n",
    "    for j in range(4):\n",
    "        # 물고기 번호, 방향\n",
    "        fish.append([data[2*j], data[2*j+1]-1])\n",
    "    board[i] = fish\n",
    "\n",
    "\n",
    "max_score = 0\n",
    "\n",
    "\n",
    "def dfs(sx, sy, score, board):\n",
    "    global max_score\n",
    "    score += board[sx][sy][0]\n",
    "    max_score = max(max_score, score)\n",
    "    board[sx][sy][0] = 0\n",
    "\n",
    "    # 물고기 움직임\n",
    "    for f in range(1, 17):\n",
    "        f_x, f_y = -1, -1\n",
    "        for x in range(4):\n",
    "            for y in range(4):\n",
    "                if board[x][y][0] == f:\n",
    "                    f_x, f_y = x, y\n",
    "                    break\n",
    "        if f_x == -1 and f_y == -1:\n",
    "            continue\n",
    "        f_d = board[f_x][f_y][1]\n",
    "\n",
    "        for i in range(8):\n",
    "            nd = (f_d+i) % 8\n",
    "            nx = f_x + dx[nd]\n",
    "            ny = f_y + dy[nd]\n",
    "            if not (0 <= nx < 4 and 0 <= ny < 4) or (nx == sx and ny == sy):\n",
    "                continue\n",
    "            board[f_x][f_y][1] = nd\n",
    "            board[f_x][f_y], board[nx][ny] = board[nx][ny], board[f_x][f_y]\n",
    "            break\n",
    "\n",
    "    # 상어 먹음\n",
    "    s_d = board[sx][sy][1]\n",
    "    for i in range(1, 5):\n",
    "        nx = sx + dx[s_d]*i\n",
    "        ny = sy + dy[s_d]*i\n",
    "        if (0<= nx < 4 and 0<= ny < 4) and board[nx][ny][0] > 0:\n",
    "            dfs(nx, ny, score, copy.deepcopy(board))\n",
    "\n",
    "dfs(0, 0, 0, board)\n",
    "print(max_score)"
   ]
  }
 ],
 "metadata": {
  "kernelspec": {
   "display_name": "Python3.8_spare",
   "language": "python",
   "name": "spare"
  },
  "language_info": {
   "codemirror_mode": {
    "name": "ipython",
    "version": 3
   },
   "file_extension": ".py",
   "mimetype": "text/x-python",
   "name": "python",
   "nbconvert_exporter": "python",
   "pygments_lexer": "ipython3",
   "version": "3.8.12"
  }
 },
 "nbformat": 4,
 "nbformat_minor": 5
}
