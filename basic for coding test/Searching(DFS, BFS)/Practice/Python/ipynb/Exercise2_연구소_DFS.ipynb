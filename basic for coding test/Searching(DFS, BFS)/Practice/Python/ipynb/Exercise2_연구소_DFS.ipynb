{
 "cells": [
  {
   "cell_type": "code",
   "execution_count": 1,
   "id": "fc5abc03",
   "metadata": {},
   "outputs": [
    {
     "name": "stdout",
     "output_type": "stream",
     "text": [
      "7 7\n",
      "2 0 0 0 1 1 0\n",
      "0 0 1 0 1 2 0\n",
      "0 1 1 0 1 0 0\n",
      "0 1 0 0 0 0 0\n",
      "0 0 0 0 0 1 1\n",
      "0 1 0 0 0 0 0\n",
      "0 1 0 0 0 0 0\n",
      "27\n"
     ]
    }
   ],
   "source": [
    "N, M = map(int, input().split())\n",
    "data = [] # 초기 맵 리스트\n",
    "temp = [[0] * M for _ in range(N)] # 벽을 설치한 뒤의 맵 리스트\n",
    "\n",
    "for _ in range(N):\n",
    "    data.append(list(map(int, input().split())))\n",
    "    \n",
    "# 4가지 이동방향에 대한 리스트\n",
    "dx = [-1, 0, 1, 0]\n",
    "dy = [0, 1, 0, -1]\n",
    "\n",
    "result = 0\n",
    "\n",
    "# 깊이 우선 탐색 (DFS)를 통해 각 바이러스가 사방으로 퍼지도록 함\n",
    "def virus(x, y):\n",
    "    for i in range(4):\n",
    "        nx = x + dx[i]\n",
    "        ny = y + dy[i]\n",
    "        \n",
    "        # 상, 하, 좌, 우 중 바이러스가 퍼질 수도 있는 경우\n",
    "        if nx >= 0 and nx < N and ny >=0 and ny < M:\n",
    "            if temp[nx][ny] == 0:\n",
    "                # 해당 위치에 바이러스를 배치하고, 다시 재귀적으로 수행\n",
    "                temp[nx][ny] = 2\n",
    "                virus(nx, ny)\n",
    "                \n",
    "# 현재 맵에서 안전 영역의 크기를 계산하는 메서드\n",
    "def get_score():\n",
    "    score = 0\n",
    "    \n",
    "    for i in range(N):\n",
    "        for j in range(M):\n",
    "            if temp[i][j] == 0:\n",
    "                score += 1\n",
    "                \n",
    "    return score\n",
    "\n",
    "# 깊이 우선 탐색 (DFS)를 이용해 울타리를 설치하면서, 매번 안전 영역의 크기 계산\n",
    "def dfs(count):\n",
    "    global result\n",
    "    \n",
    "    # 울타리가 3개 설치된 경우\n",
    "    if count == 3:\n",
    "        for i in range(N):\n",
    "            for j in range(M):\n",
    "                temp[i][j] = data[i][j]\n",
    "        \n",
    "        # 각 바이러스의 위치에서 전파 진행\n",
    "        for i in range(N):\n",
    "            for j in range(M):\n",
    "                if temp[i][j] == 2:\n",
    "                    virus(i, j)\n",
    "                    \n",
    "        # 안전 영역의 최댓값 계산\n",
    "        result = max(result, get_score())\n",
    "        return\n",
    "    \n",
    "    # 빈 공간에 울타리 설치\n",
    "    for i in range(N):\n",
    "        for j in range(M):\n",
    "            if data[i][j] == 0:\n",
    "                data[i][j] = 1\n",
    "                count += 1\n",
    "                dfs(count)\n",
    "                data[i][j] = 0\n",
    "                count -= 1\n",
    "                \n",
    "dfs(0)\n",
    "print(result)"
   ]
  }
 ],
 "metadata": {
  "kernelspec": {
   "display_name": "Python3.8_spare",
   "language": "python",
   "name": "spare"
  },
  "language_info": {
   "codemirror_mode": {
    "name": "ipython",
    "version": 3
   },
   "file_extension": ".py",
   "mimetype": "text/x-python",
   "name": "python",
   "nbconvert_exporter": "python",
   "pygments_lexer": "ipython3",
   "version": "3.8.12"
  }
 },
 "nbformat": 4,
 "nbformat_minor": 5
}
