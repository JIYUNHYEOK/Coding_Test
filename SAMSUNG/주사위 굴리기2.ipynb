{
 "cells": [
  {
   "cell_type": "markdown",
   "id": "b3c97880",
   "metadata": {},
   "source": [
    "# 주사위 굴리기2"
   ]
  },
  {
   "cell_type": "markdown",
   "id": "393077c0",
   "metadata": {},
   "source": [
    "크기가 N×M인 지도가 존재한다. 지도의 오른쪽은 동쪽, 위쪽은 북쪽이다. 지도의 좌표는 (r, c)로 나타내며, r는 북쪽으로부터 떨어진 칸의 개수, c는 서쪽으로부터 떨어진 칸의 개수이다. 가장 왼쪽 위에 있는 칸의 좌표는 (1, 1)이고, 가장 오른쪽 아래에 있는 칸의 좌표는 (N, M)이다. 이 지도의 위에 주사위가 하나 놓여져 있으며, 주사위의 각 면에는 1보다 크거나 같고, 6보다 작거나 같은 정수가 하나씩 있다. 주사위 한 면의 크기와 지도 한 칸의 크기는 같고, 주사위의 전개도는 아래와 같다."
   ]
  },
  {
   "cell_type": "markdown",
   "id": "a1310e65",
   "metadata": {},
   "source": [
    "주사위는 지도 위에 윗 면이 1이고, 동쪽을 바라보는 방향이 3인 상태로 놓여져 있으며, 놓여져 있는 곳의 좌표는 (1, 1) 이다. 지도의 각 칸에도 정수가 하나씩 있다. 가장 처음에 주사위의 이동 방향은 동쪽이다. 주사위의 이동 한 번은 다음과 같은 방식으로 이루어진다.\n",
    "\n",
    "1. 주사위가 이동 방향으로 한 칸 굴러간다. 만약, 이동 방향에 칸이 없다면, 이동 방향을 반대로 한 다음 한 칸 굴러간다.\n",
    "2. 주사위가 도착한 칸 (x, y)에 대한 점수를 획득한다.\n",
    "3. 주사위의 아랫면에 있는 정수 A와 주사위가 있는 칸 (x, y)에 있는 정수 B를 비교해 이동 방향을 결정한다.\n",
    "    - A > B인 경우 이동 방향을 90도 시계 방향으로 회전시킨다.\n",
    "    - A < B인 경우 이동 방향을 90도 반시계 방향으로 회전시킨다.\n",
    "    - A = B인 경우 이동 방향에 변화는 없다.\n",
    "칸 (x, y)에 대한 점수는 다음과 같이 구할 수 있다. (x, y)에 있는 정수를 B라고 했을때, (x, y)에서 동서남북 방향으로 연속해서 이동할 수 있는 칸의 수 C를 모두 구한다. 이때 이동할 수 있는 칸에는 모두 정수 B가 있어야 한다. 여기서 점수는 B와 C를 곱한 값이다.\n",
    "\n",
    "보드의 크기와 각 칸에 있는 정수, 주사위의 이동 횟수 K가 주어졌을때, 각 이동에서 획득하는 점수의 합을 구해보자.\n",
    "\n",
    "이 문제의 예제 1부터 7은 같은 지도에서 이동하는 횟수만 증가시키는 방식으로 구성되어 있다. 예제 8은 같은 지도에서 이동하는 횟수를 매우 크게 만들었다."
   ]
  },
  {
   "cell_type": "markdown",
   "id": "3e0a939c",
   "metadata": {},
   "source": [
    "첫째 줄에 지도의 세로 크기 N, 가로 크기 M (2 ≤ N, M ≤ 20), 그리고 이동하는 횟수 K (1 ≤ K ≤ 1,000)가 주어진다. \n",
    "\n",
    "둘째 줄부터 N개의 줄에 지도에 쓰여 있는 수가 북쪽부터 남쪽으로, 각 줄은 서쪽부터 동쪽 순서대로 주어진다. 지도의 각 칸에 쓰여 있는 수는 10 미만의 자연수이다."
   ]
  },
  {
   "cell_type": "markdown",
   "id": "6a83bf05",
   "metadata": {},
   "source": [
    "첫째 줄에 각 이동에서 획득하는 점수의 합을 출력한다."
   ]
  },
  {
   "cell_type": "code",
   "execution_count": 1,
   "id": "232a865e",
   "metadata": {},
   "outputs": [
    {
     "name": "stdout",
     "output_type": "stream",
     "text": [
      "4 5 1\n",
      "4 1 2 3 3\n",
      "6 1 1 3 3\n",
      "5 6 1 3 2\n",
      "5 5 6 5 5\n",
      "4\n"
     ]
    }
   ],
   "source": [
    "from collections import deque\n",
    "\n",
    "# 세로 크기: n, 가로 크기: m, 이동하는 횟수: k\n",
    "n, m, k = map(int, input().split())\n",
    "board = [list(map(int, input().split())) for _ in range(n)]\n",
    "dice = [1,2,3,4,5,6]\n",
    "\n",
    "dx = [0, 1, 0, -1]\n",
    "dy = [1, 0, -1, 0]\n",
    "\n",
    "\n",
    "def bfs(x, y, k):\n",
    "    c[x][y] = 1\n",
    "    q.append([x, y])\n",
    "    cnt = 0\n",
    "    while q:\n",
    "        x, y = q.popleft()\n",
    "        for i in range(4):\n",
    "            nx, ny = x + dx[i], y + dy[i]\n",
    "            if 0 <= nx < n and 0 <= ny < m:\n",
    "                if c[nx][ny] == 0 and board[nx][ny] == k:\n",
    "                    cnt += 1\n",
    "                    c[nx][ny] = 1\n",
    "                    q.append([nx, ny])\n",
    "    return cnt\n",
    "\n",
    "x, y, dir, ans = 0, 0, 0, 0\n",
    "for _ in range(k):\n",
    "    if not 0 <= x + dx[dir] < n or not 0 <= y + dy[dir] < m:\n",
    "        dir = (dir + 2) % 4\n",
    "\n",
    "    x, y = x + dx[dir], y + dy[dir]\n",
    "\n",
    "    q = deque()\n",
    "    c = [[0] * m for _ in range(n)]\n",
    "\n",
    "    ans += (bfs(x, y, board[x][y]) + 1) * board[x][y]\n",
    "\n",
    "    if dir == 0:\n",
    "        dice[0], dice[2], dice[3], dice[5] = dice[3], dice[0], dice[5], dice[2]\n",
    "    elif dir == 1:\n",
    "        dice[0], dice[1], dice[4], dice[5] = dice[1], dice[5], dice[0], dice[4]\n",
    "    elif dir == 2:\n",
    "        dice[0], dice[2], dice[3], dice[5] = dice[2], dice[5], dice[0], dice[3]\n",
    "    else:\n",
    "        dice[0], dice[1], dice[4], dice[5] = dice[4], dice[0], dice[5], dice[1]\n",
    "\n",
    "    if dice[5] > board[x][y]:\n",
    "        dir = (dir + 1) % 4\n",
    "    elif dice[5] < board[x][y]:\n",
    "        dir = (dir + 3) % 4\n",
    "\n",
    "print(ans)"
   ]
  }
 ],
 "metadata": {
  "kernelspec": {
   "display_name": "Python3.8_spare",
   "language": "python",
   "name": "spare"
  },
  "language_info": {
   "codemirror_mode": {
    "name": "ipython",
    "version": 3
   },
   "file_extension": ".py",
   "mimetype": "text/x-python",
   "name": "python",
   "nbconvert_exporter": "python",
   "pygments_lexer": "ipython3",
   "version": "3.8.12"
  }
 },
 "nbformat": 4,
 "nbformat_minor": 5
}
