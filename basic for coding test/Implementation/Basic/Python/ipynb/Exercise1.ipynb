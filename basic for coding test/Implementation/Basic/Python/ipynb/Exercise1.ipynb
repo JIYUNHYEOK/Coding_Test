{
 "cells": [
  {
   "cell_type": "code",
   "execution_count": 1,
   "id": "2eb7091c",
   "metadata": {},
   "outputs": [
    {
     "name": "stdout",
     "output_type": "stream",
     "text": [
      "5\n",
      "R R R U D D\n",
      "3 4\n"
     ]
    }
   ],
   "source": [
    "N = int(input())\n",
    "x, y = 1, 1\n",
    "plans = input().split()\n",
    "\n",
    "dx = [0, 0, -1, 1]\n",
    "dy = [-1, 1, 0, 0]\n",
    "move_types = ['L', 'R', 'U', 'D']\n",
    "\n",
    "for plan in plans:\n",
    "    for i in range(len(move_types)):\n",
    "        if plan == move_types[i]:\n",
    "            nx = x + dx[i]\n",
    "            ny = y + dy[i]\n",
    "            \n",
    "    if nx < 1 or ny < 1 or nx > N or ny > N:\n",
    "        continue\n",
    "    x, y = nx, ny\n",
    "\n",
    "print(x,y)"
   ]
  }
 ],
 "metadata": {
  "kernelspec": {
   "display_name": "Python3.8_spare",
   "language": "python",
   "name": "spare"
  },
  "language_info": {
   "codemirror_mode": {
    "name": "ipython",
    "version": 3
   },
   "file_extension": ".py",
   "mimetype": "text/x-python",
   "name": "python",
   "nbconvert_exporter": "python",
   "pygments_lexer": "ipython3",
   "version": "3.8.12"
  }
 },
 "nbformat": 4,
 "nbformat_minor": 5
}
