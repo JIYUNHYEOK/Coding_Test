{
 "cells": [
  {
   "cell_type": "markdown",
   "id": "0f3946e9",
   "metadata": {},
   "source": [
    "# 퇴사"
   ]
  },
  {
   "cell_type": "markdown",
   "id": "c4103ba3",
   "metadata": {},
   "source": [
    "상담원으로 일하고 있는 백준이는 퇴사를 하려고 한다.\n",
    "\n",
    "오늘부터 N+1일째 되는 날 퇴사를 하기 위해서, 남은 N일 동안 최대한 많은 상담을 하려고 한다.\n",
    "\n",
    "백준이는 비서에게 최대한 많은 상담을 잡으라고 부탁을 했고, 비서는 하루에 하나씩 서로 다른 사람의 상담을 잡아놓았다.\n",
    "\n",
    "각각의 상담은 상담을 완료하는데 걸리는 기간 Ti와 상담을 했을 때 받을 수 있는 금액 Pi로 이루어져 있다.\n",
    "\n",
    "N = 7인 경우에 다음과 같은 상담 일정표를 보자."
   ]
  },
  {
   "cell_type": "markdown",
   "id": "c5a8370c",
   "metadata": {},
   "source": [
    "1일에 잡혀있는 상담은 총 3일이 걸리며, 상담했을 때 받을 수 있는 금액은 10이다. 5일에 잡혀있는 상담은 총 2일이 걸리며, 받을 수 있는 금액은 15이다.\n",
    "\n",
    "상담을 하는데 필요한 기간은 1일보다 클 수 있기 때문에, 모든 상담을 할 수는 없다. 예를 들어서 1일에 상담을 하게 되면, 2일, 3일에 있는 상담은 할 수 없게 된다. 2일에 있는 상담을 하게 되면, 3, 4, 5, 6일에 잡혀있는 상담은 할 수 없다.\n",
    "\n",
    "또한, N+1일째에는 회사에 없기 때문에, 6, 7일에 있는 상담을 할 수 없다.\n",
    "\n",
    "퇴사 전에 할 수 있는 상담의 최대 이익은 1일, 4일, 5일에 있는 상담을 하는 것이며, 이때의 이익은 10+20+15=45이다.\n",
    "\n",
    "상담을 적절히 했을 때, 백준이가 얻을 수 있는 최대 수익을 구하는 프로그램을 작성하시오."
   ]
  },
  {
   "cell_type": "markdown",
   "id": "e2831d2f",
   "metadata": {},
   "source": [
    "첫째 줄에 N (1 ≤ N ≤ 15)이 주어진다.\n",
    "\n",
    "둘째 줄부터 N개의 줄에 Ti와 Pi가 공백으로 구분되어서 주어지며, 1일부터 N일까지 순서대로 주어진다. (1 ≤ Ti ≤ 5, 1 ≤ Pi ≤ 1,000)"
   ]
  },
  {
   "cell_type": "code",
   "execution_count": 5,
   "id": "abb1002b",
   "metadata": {},
   "outputs": [
    {
     "name": "stdout",
     "output_type": "stream",
     "text": [
      "7\n",
      "3 10\n",
      "5 20\n",
      "1 10\n",
      "1 20\n",
      "2 15\n",
      "4 40\n",
      "2 200\n",
      "[45, 45, 45, 35, 15, 0, 0, 0]\n"
     ]
    }
   ],
   "source": [
    "n = int(input())\n",
    "day = []\n",
    "cost = []\n",
    "dp=[]\n",
    "\n",
    "for i in range(n):\n",
    "    x,y = map(int, input().split())\n",
    "    day.append(x)\n",
    "    cost.append(y)\n",
    "    dp.append(y)\n",
    "#뒤에 0을 추가해서 인덱스초과 오류 방지\n",
    "dp.append(0)  \n",
    "\n",
    "#뒤에서부터 확인\n",
    "for i in range(n-1, -1, -1):\n",
    "    # 상담을 진행 시, 퇴사일을 넘기는 경우\n",
    "    if day[i] + i > n:\n",
    "        dp[i] = dp[i+1]\n",
    "    else:\n",
    "        # i번째 일을 할때의 이익 ( = i번째일의 이익 + i번째일을 하는데 걸리는시간후의 이익)  : cost[i]+dp[i+day[i]])\n",
    "        # i번째 일을 건너뛰고 i+1번째 일을 할때의 이익 : dp[i+1]\n",
    "        dp[i] = max(dp[i+1], cost[i] + dp[i+day[i]])\n",
    "\n",
    "print(dp)"
   ]
  },
  {
   "cell_type": "code",
   "execution_count": 1,
   "id": "ecea09fb",
   "metadata": {},
   "outputs": [
    {
     "name": "stdout",
     "output_type": "stream",
     "text": [
      "7\n",
      "3 10\n",
      "5 20\n",
      "1 10\n",
      "1 20\n",
      "2 15\n",
      "4 40\n",
      "2 200\n",
      "45\n"
     ]
    }
   ],
   "source": [
    "n = int(input())\n",
    "day = []\n",
    "cost = []\n",
    "dp=[]\n",
    "\n",
    "for i in range(n):\n",
    "    x,y = map(int, input().split())\n",
    "    day.append(x)\n",
    "    cost.append(y)\n",
    "    dp.append(y)\n",
    "#뒤에 0을 추가해서 인덱스초과 오류 방지\n",
    "dp.append(0)  \n",
    "\n",
    "#뒤에서부터 확인\n",
    "for i in range(n-1, -1, -1):\n",
    "    # 상담을 진행 시, 퇴사일을 넘기는 경우\n",
    "    if day[i] + i > n:\n",
    "        dp[i] = dp[i+1]\n",
    "    else:\n",
    "        # i번째 일을 할때의 이익 (= i번째일의 이익 + i번째일을 하는데 걸리는시간 후의 이익)  : cost[i] + dp[i+day[i]])\n",
    "        # i번째 일을 건너뛰고 i+1번째 일을 할때의 이익 : dp[i+1]\n",
    "        dp[i] = max(dp[i+1], cost[i] + dp[i+day[i]])\n",
    "\n",
    "print(dp[0])"
   ]
  },
  {
   "cell_type": "code",
   "execution_count": 2,
   "id": "b537ed89",
   "metadata": {},
   "outputs": [
    {
     "name": "stdout",
     "output_type": "stream",
     "text": [
      "10\n",
      "1 1\n",
      "1 2\n",
      "1 3\n",
      "1 4\n",
      "1 5\n",
      "1 6\n",
      "1 7\n",
      "1 8\n",
      "1 9\n",
      "1 10\n",
      "55\n"
     ]
    }
   ],
   "source": [
    "n = int(input())\n",
    "day = []\n",
    "cost = []\n",
    "dp=[]\n",
    "\n",
    "for i in range(n):\n",
    "    x,y = map(int, input().split())\n",
    "    day.append(x)\n",
    "    cost.append(y)\n",
    "    dp.append(y)\n",
    "#뒤에 0을 추가해서 인덱스초과 오류 방지\n",
    "dp.append(0)  \n",
    "\n",
    "#뒤에서부터 확인\n",
    "for i in range(n-1, -1, -1):\n",
    "    # 상담을 진행 시, 퇴사일을 넘기는 경우\n",
    "    if day[i] + i > n:\n",
    "        dp[i] = dp[i+1]\n",
    "    else:\n",
    "        dp[i] = max(dp[i+1], cost[i] + dp[i+day[i]])\n",
    "\n",
    "print(dp[0])"
   ]
  },
  {
   "cell_type": "code",
   "execution_count": 3,
   "id": "16a5c7e2",
   "metadata": {},
   "outputs": [
    {
     "name": "stdout",
     "output_type": "stream",
     "text": [
      "10\n",
      "5 10\n",
      "5 9\n",
      "5 8\n",
      "5 7\n",
      "5 6\n",
      "5 10\n",
      "5 9\n",
      "5 8\n",
      "5 7\n",
      "5 6\n",
      "20\n"
     ]
    }
   ],
   "source": [
    "n = int(input())\n",
    "day = []\n",
    "cost = []\n",
    "dp=[]\n",
    "\n",
    "for i in range(n):\n",
    "    x,y = map(int, input().split())\n",
    "    day.append(x)\n",
    "    cost.append(y)\n",
    "    dp.append(y)\n",
    "#뒤에 0을 추가해서 인덱스초과 오류 방지\n",
    "dp.append(0)  \n",
    "\n",
    "#뒤에서부터 확인\n",
    "for i in range(n-1, -1, -1):\n",
    "    # 상담을 진행 시, 퇴사일을 넘기는 경우\n",
    "    if day[i] + i > n:\n",
    "        dp[i] = dp[i+1]\n",
    "    else:\n",
    "        dp[i] = max(dp[i+1], cost[i] + dp[i+day[i]])\n",
    "\n",
    "print(dp[0])"
   ]
  },
  {
   "cell_type": "code",
   "execution_count": 4,
   "id": "fc17c48e",
   "metadata": {},
   "outputs": [
    {
     "name": "stdout",
     "output_type": "stream",
     "text": [
      "10\n",
      "5 50\n",
      "4 40\n",
      "3 30\n",
      "2 20\n",
      "1 10\n",
      "1 10\n",
      "2 20\n",
      "3 30\n",
      "4 40\n",
      "5 50\n",
      "90\n"
     ]
    }
   ],
   "source": [
    "n = int(input())\n",
    "day = []\n",
    "cost = []\n",
    "dp=[]\n",
    "\n",
    "for i in range(n):\n",
    "    x,y = map(int, input().split())\n",
    "    day.append(x)\n",
    "    cost.append(y)\n",
    "    dp.append(y)\n",
    "#뒤에 0을 추가해서 인덱스초과 오류 방지\n",
    "dp.append(0)  \n",
    "\n",
    "#뒤에서부터 확인\n",
    "for i in range(n-1, -1, -1):\n",
    "    # 상담을 진행 시, 퇴사일을 넘기는 경우\n",
    "    if day[i] + i > n:\n",
    "        dp[i] = dp[i+1]\n",
    "    else:\n",
    "        dp[i] = max(dp[i+1], cost[i] + dp[i+day[i]])\n",
    "\n",
    "print(dp[0])"
   ]
  }
 ],
 "metadata": {
  "kernelspec": {
   "display_name": "Python3.8_spare",
   "language": "python",
   "name": "spare"
  },
  "language_info": {
   "codemirror_mode": {
    "name": "ipython",
    "version": 3
   },
   "file_extension": ".py",
   "mimetype": "text/x-python",
   "name": "python",
   "nbconvert_exporter": "python",
   "pygments_lexer": "ipython3",
   "version": "3.8.12"
  }
 },
 "nbformat": 4,
 "nbformat_minor": 5
}
