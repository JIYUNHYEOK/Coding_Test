{
 "cells": [
  {
   "cell_type": "code",
   "execution_count": 1,
   "id": "df157a82",
   "metadata": {},
   "outputs": [],
   "source": [
    "from collections import deque\n",
    "\n",
    "def get_next_pos(pos, board):\n",
    "    # 반환 결과 (이동 가능한 위치들)\n",
    "    next_pos = []\n",
    "    # 현재 위치 정보를 리스트로 변환 (집합 -> 리스트)\n",
    "    pos = list(pos)\n",
    "    pos1_x, pos1_y, pos2_x, pos2_y = pos[0][0], pos[0][1], pos[1][0], pos[1][1]\n",
    "    \n",
    "    # (상, 하, 좌, 우)로 이동하는 경우에 대한 처리\n",
    "    dx = [-1, 1, 0, 0]\n",
    "    dy = [0, 0, -1, 1]\n",
    "    \n",
    "    for i in range(4):\n",
    "        pos1_nx, pos1_ny, pos2_nx, pos2_ny = pos[0][0] + dx[i], pos[0][1] + dy[i], pos[1][0] + dx[i], pos[1][1] + dy[i]\n",
    "    \n",
    "        # 이동하고자 하는 두 칸이 모두 비어있을 경우\n",
    "        if board[pos1_nx][pos1_ny] == 0 and board[pos2_nx][pos2_ny] == 0:\n",
    "            next_pos.append({(pos1_nx, pos1_ny), (pos2_nx, pos2_ny)})\n",
    "        \n",
    "    # 현재 로봇이 가로로 놓여 있는 경우\n",
    "    if pos1_x == pos2_x:\n",
    "        # 위쪽으로 회전하거나, 아래쪽으로 회전\n",
    "        for i in [-1, 1]:\n",
    "            # 위쪽 혹은 아래쪽 두 칸이 모두 비어있을 경우에만 가능\n",
    "            if board[pos1_x + i][pos1_y] == 0 and board[pos2_x + i][pos2_y] == 0:\n",
    "                next_pos.append({(pos1_x, pos1_y), (pos1_x + i, pos1_y)})\n",
    "                next_pos.append({(pos2_x, pos2_y), (pos2_x + i, pos2_y)})\n",
    "                \n",
    "    # 현재 로봇이 세로로 놓여 있는 경우\n",
    "    elif pos1_y == pos2_y:\n",
    "        # 왼쪽으로 회전하거나, 오른쪽으로 회전\n",
    "        for i in [-1, 1]:\n",
    "            # 왼쪽 혹은 오른쪽 두 칸이 모두 비어있을 경우에만 가능\n",
    "            if board[pos1_x][pos1_y + i] == 0 and board[pos2_x][pos2_y + i] == 0:\n",
    "                next_pos.append({(pos1_x, pos1_y), (pos1_x, pos1_y + i)})\n",
    "                next_pos.append({(pos2_x, pos2_y), (pos2_x, pos2_y + i)})\n",
    "    \n",
    "    return next_pos\n",
    "\n",
    "\n",
    "def solution(board):\n",
    "    \n",
    "    # 맵의 외곽에 벽을 두는 형태로 맵을 변형 -> 인덱스를 0,0을 1,1로 변경하기 위해서\n",
    "    n = len(board)\n",
    "    new_board = [[1] * (n+2) for _ in range(n+2)]\n",
    "    \n",
    "    for i in range(n):\n",
    "        for j in range(n):\n",
    "            new_board[i+1][j+1] = board[i][j]\n",
    "            \n",
    "    # 너비 우선 탐색 (BFS) 수행\n",
    "    q = deque()\n",
    "    visited = []\n",
    "    # 시작 위치 설정\n",
    "    pos = {(1,1), (1,2)}\n",
    "    # 큐에 삽입한 뒤에\n",
    "    q.append((pos, 0))\n",
    "    # 방문처리\n",
    "    visited.append(pos)\n",
    "        \n",
    "    # 큐가 빌 때까지 처리\n",
    "    while q:\n",
    "        pos, cost = q.popleft()\n",
    "        \n",
    "        # (n, n) 위치에 로봇이 도달했다면, 최단거리이므로 반환\n",
    "        if (n, n) in pos:\n",
    "            return cost\n",
    "        \n",
    "        # 현재 위치에서 이동할 수 있는 위치 확인\n",
    "        for next_pos in get_next_pos(pos, new_board):\n",
    "            # 아직 방문하지 않은 위치라면, 큐에 삽입하고 방문처리\n",
    "            if next_pos not in visited:\n",
    "                q.append((next_pos, cost+1))\n",
    "                visited.append(next_pos)\n",
    "                \n",
    "    return 0"
   ]
  },
  {
   "cell_type": "code",
   "execution_count": 2,
   "id": "113a50ba",
   "metadata": {},
   "outputs": [
    {
     "data": {
      "text/plain": [
       "7"
      ]
     },
     "execution_count": 2,
     "metadata": {},
     "output_type": "execute_result"
    }
   ],
   "source": [
    "solution([[0,0,0,1,1], [0,0,0,1,0], [0,1,0,1,1], [1,1,0,0,1], [0,0,0,0,0]])"
   ]
  }
 ],
 "metadata": {
  "kernelspec": {
   "display_name": "Python3.8_spare",
   "language": "python",
   "name": "spare"
  },
  "language_info": {
   "codemirror_mode": {
    "name": "ipython",
    "version": 3
   },
   "file_extension": ".py",
   "mimetype": "text/x-python",
   "name": "python",
   "nbconvert_exporter": "python",
   "pygments_lexer": "ipython3",
   "version": "3.8.12"
  }
 },
 "nbformat": 4,
 "nbformat_minor": 5
}
