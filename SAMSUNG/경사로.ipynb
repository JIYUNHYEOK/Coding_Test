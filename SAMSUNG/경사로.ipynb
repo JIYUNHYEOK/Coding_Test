{
 "cells": [
  {
   "cell_type": "markdown",
   "id": "67b51088",
   "metadata": {},
   "source": [
    "# 경사로"
   ]
  },
  {
   "cell_type": "markdown",
   "id": "4851c659",
   "metadata": {},
   "source": [
    "크기가 N×N인 지도가 있다. 지도의 각 칸에는 그 곳의 높이가 적혀져 있다. \n",
    "\n",
    "오늘은 이 지도에서 지나갈 수 있는 길이 몇 개 있는지 알아보려고 한다. 길이란 한 행 또는 한 열 전부를 나타내며, 한쪽 끝에서 다른쪽 끝까지 지나가는 것이다. \n",
    "\n",
    "다음과 같은 N=6인 경우 지도를 살펴보자."
   ]
  },
  {
   "cell_type": "markdown",
   "id": "e12e6494",
   "metadata": {},
   "source": [
    "이때, 길은 총 2N개가 있으며, 아래와 같다."
   ]
  },
  {
   "cell_type": "markdown",
   "id": "cb1cdf18",
   "metadata": {},
   "source": [
    "길을 지나갈 수 있으려면 길에 속한 모든 칸의 높이가 모두 같아야 한다. 또는, 경사로를 놓아서 지나갈 수 있는 길을 만들 수 있다. 경사로는 높이가 항상 1이며, 길이는 L이다. 또, 개수는 매우 많아 부족할 일이 없다. 경사로는 낮은 칸과 높은 칸을 연결하며, 아래와 같은 조건을 만족해야한다.\n",
    "\n",
    "- 경사로는 낮은 칸에 놓으며, L개의 연속된 칸에 경사로의 바닥이 모두 접해야 한다.\n",
    "- 낮은 칸과 높은 칸의 높이 차이는 1이어야 한다.\n",
    "- 경사로를 놓을 낮은 칸의 높이는 모두 같아야 하고, L개의 칸이 연속되어 있어야 한다.\n",
    "아래와 같은 경우에는 경사로를 놓을 수 없다.\n",
    "\n",
    "경사로를 놓은 곳에 또 경사로를 놓는 경우\n",
    "- 낮은 칸과 높은 칸의 높이 차이가 1이 아닌 경우\n",
    "- 낮은 지점의 칸의 높이가 모두 같지 않거나, L개가 연속되지 않은 경우\n",
    "- 경사로를 놓다가 범위를 벗어나는 경우\n",
    "L = 2인 경우에 경사로를 놓을 수 있는 경우를 그림으로 나타내면 아래와 같다."
   ]
  },
  {
   "cell_type": "markdown",
   "id": "0f7c6b7e",
   "metadata": {},
   "source": [
    "경사로를 놓을 수 없는 경우는 아래와 같다."
   ]
  },
  {
   "cell_type": "markdown",
   "id": "900fc3d5",
   "metadata": {},
   "source": [
    "위의 그림의 가장 왼쪽부터 1번, 2번, 3번, 4번 예제라고 했을 때, 1번은 높이 차이가 1이 아니라서, 2번은 경사로를 바닥과 접하게 놓지 않아서, 3번은 겹쳐서 놓아서, 4번은 기울이게 놓아서 불가능한 경우이다.\n",
    "\n",
    "가장 위에 주어진 그림 예의 경우에 지나갈 수 있는 길은 파란색으로, 지나갈 수 없는 길은 빨간색으로 표시되어 있으며, 아래와 같다. 경사로의 길이 L = 2이다."
   ]
  },
  {
   "cell_type": "markdown",
   "id": "f9ddd346",
   "metadata": {},
   "source": [
    "지도가 주어졌을 때, 지나갈 수 있는 길의 개수를 구하는 프로그램을 작성하시오."
   ]
  },
  {
   "cell_type": "markdown",
   "id": "a3290226",
   "metadata": {},
   "source": [
    "첫째 줄에 N (2 ≤ N ≤ 100)과 L (1 ≤ L ≤ N)이 주어진다. 둘째 줄부터 N개의 줄에 지도가 주어진다. 각 칸의 높이는 10보다 작거나 같은 자연수이다."
   ]
  },
  {
   "cell_type": "markdown",
   "id": "feb53200",
   "metadata": {},
   "source": [
    "첫째 줄에 지나갈 수 있는 길의 개수를 출력한다."
   ]
  },
  {
   "cell_type": "code",
   "execution_count": 3,
   "id": "1ed3129e",
   "metadata": {},
   "outputs": [
    {
     "name": "stdout",
     "output_type": "stream",
     "text": [
      "6 2\n",
      "3 3 3 3 3 3\n",
      "2 3 3 3 3 3\n",
      "2 2 2 3 2 3\n",
      "1 1 1 2 2 2\n",
      "1 1 1 3 3 1\n",
      "1 1 2 3 3 2\n",
      "3\n"
     ]
    }
   ],
   "source": [
    "n, l = map(int, input().split())\n",
    "board = [list(map(int, input().split())) for _ in range(n)]\n",
    "\n",
    "# 지나갈 수 있는 길인지 확인하는 함수 (n: 길의 길이, l: 경사로의 길이, route: 길)\n",
    "def check_route(n,l, route):\n",
    "    # 경사로를 세웠는지 확인하기 위한 리스트\n",
    "    rmap = [0] * n\n",
    "    \n",
    "    for i in range(n-1):\n",
    "        # 높이 차이가 있는 경우\n",
    "        if route[i] != route[i+1]:\n",
    "            # 높이 차이가 1이 아닌 경우\n",
    "            if abs(route[i]-route[i+1]) > 1:\n",
    "                return False\n",
    "            # 높이 차이가 1인 경우\n",
    "            else:\n",
    "                # 높은 칸에서 낮은 칸\n",
    "                if route[i] - route[i+1] == 1:\n",
    "                    if i+1+l > n:\n",
    "                        return False\n",
    "                    # 경사로를 세울 수 있는 높이인지 확인\n",
    "                    check = route[i+1]\n",
    "                    \n",
    "                    for j in range(i+1, i+1+l):\n",
    "                        if rmap[j] or route[j] != check:\n",
    "                            return False\n",
    "                        # 경사로\n",
    "                        rmap[j] = 1\n",
    "                    \n",
    "                # 낮은 칸에서 높은칸\n",
    "                elif route[i] - route[i+1] == -1:\n",
    "                    if i-l < -1:\n",
    "                        return False\n",
    "                    check = route[i]\n",
    "                    \n",
    "                    for j in range(i, i-l, -1):\n",
    "                        if rmap[j] or route[j] != check:\n",
    "                            return False\n",
    "                        # 경사로\n",
    "                        rmap[j] = 1\n",
    "    return True\n",
    "\n",
    "cnt = 0\n",
    "\n",
    "# 행 확인\n",
    "for r in board:\n",
    "    if check_route(n, l, r):\n",
    "        cnt += 1\n",
    "        \n",
    "# 열 확인\n",
    "for c in range(n):\n",
    "    if check_route(n, l, [board[r][c] for r in range(n)]):\n",
    "        cnt += 1\n",
    "        \n",
    "print(cnt)"
   ]
  }
 ],
 "metadata": {
  "kernelspec": {
   "display_name": "Python3.8_spare",
   "language": "python",
   "name": "spare"
  },
  "language_info": {
   "codemirror_mode": {
    "name": "ipython",
    "version": 3
   },
   "file_extension": ".py",
   "mimetype": "text/x-python",
   "name": "python",
   "nbconvert_exporter": "python",
   "pygments_lexer": "ipython3",
   "version": "3.8.12"
  }
 },
 "nbformat": 4,
 "nbformat_minor": 5
}
