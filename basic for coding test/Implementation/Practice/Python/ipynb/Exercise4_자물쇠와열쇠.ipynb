{
 "cells": [
  {
   "cell_type": "code",
   "execution_count": 1,
   "id": "cf98095f",
   "metadata": {},
   "outputs": [],
   "source": [
    "# 2차원 리스트를 90도 회전하는 함수\n",
    "def rotate_matrix_90_degree(a):\n",
    "    n = len(a) # 각 행의 길이 = 열의 갯수\n",
    "    m = len(a[0]) # 각 열의 길이 = 행의 갯수\n",
    "    result = [[0] * n for _ in range(m)] # 결과 리스트\n",
    "    \n",
    "    for i in range(n):\n",
    "        for j in range(m):\n",
    "            result[j][n-i-1] = a[i][j] # 행과 열을 바꾸고, 열을 좌우대칭\n",
    "    return result\n",
    "\n",
    "# 자물쇠의 중간부분이 모두 1인지 확인하는 함수\n",
    "def check(new_lock):\n",
    "    lock_length = len(new_lock) // 3\n",
    "    \n",
    "    for i in range(lock_length, lock_length * 2):\n",
    "        for j in range(lock_length, lock_length * 2):\n",
    "            if new_lock[i][j] != 1:\n",
    "                return False\n",
    "    return True\n",
    "\n",
    "def solution(key, lock):\n",
    "    n = len(lock)\n",
    "    m = len(key)\n",
    "    \n",
    "    # 자물쇠의 크기를 기존 크기의 3배로 변환\n",
    "    new_lock = [[0] * (n*3) for _ in range(n*3)]\n",
    "    \n",
    "    # 자물쇠의 중앙에 기존 자물쇠를 채워넣고, 나머지 부분은 0으로\n",
    "    for i in range(n):\n",
    "        for j in range(n):\n",
    "            new_lock[i+n][j+n] = lock[i][j]\n",
    "            \n",
    "    # 4가지 방향에 대해서 확인\n",
    "    for rotation in range(4):\n",
    "        key = rotate_matrix_90_degree(key)\n",
    "        \n",
    "        for x in range(n*2):\n",
    "            for y in range(n*2):\n",
    "                \n",
    "            # 자물쇠에 열쇠를 끼워 넣기\n",
    "                for i in range(m):\n",
    "                    for j in range(m):\n",
    "                        new_lock[x+i][y+j] += key[i][j]\n",
    "                        \n",
    "                # 새로운 자물쇠에 열쇠가 정확히 들어 맞는지를 검사\n",
    "                if check(new_lock) == True:\n",
    "                    return True\n",
    "                \n",
    "                # 자물쇠에서 열쇠를 다시 빼는 과정\n",
    "                for i in range(m):\n",
    "                    for j in range(m):\n",
    "                        new_lock[x+i][y+j] -= key[i][j]\n",
    "        \n",
    "        return False"
   ]
  },
  {
   "cell_type": "code",
   "execution_count": 2,
   "id": "9f88fab4",
   "metadata": {},
   "outputs": [
    {
     "data": {
      "text/plain": [
       "True"
      ]
     },
     "execution_count": 2,
     "metadata": {},
     "output_type": "execute_result"
    }
   ],
   "source": [
    "solution([[0,0,0], [1,0,0], [0,1,1]], [[1,1,1], [1,1,0], [1,0,1]])"
   ]
  }
 ],
 "metadata": {
  "kernelspec": {
   "display_name": "Python3.8_spare",
   "language": "python",
   "name": "spare"
  },
  "language_info": {
   "codemirror_mode": {
    "name": "ipython",
    "version": 3
   },
   "file_extension": ".py",
   "mimetype": "text/x-python",
   "name": "python",
   "nbconvert_exporter": "python",
   "pygments_lexer": "ipython3",
   "version": "3.8.12"
  }
 },
 "nbformat": 4,
 "nbformat_minor": 5
}
