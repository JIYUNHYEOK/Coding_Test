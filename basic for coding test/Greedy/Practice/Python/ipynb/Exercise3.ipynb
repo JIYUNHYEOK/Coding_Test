{
 "cells": [
  {
   "cell_type": "code",
   "execution_count": 1,
   "id": "ec8f37fa",
   "metadata": {},
   "outputs": [
    {
     "name": "stdout",
     "output_type": "stream",
     "text": [
      "0001100\n",
      "1\n"
     ]
    }
   ],
   "source": [
    "data = input()\n",
    "count0 = 0 # 전부 0으로 바꾸는 경우\n",
    "count1 = 1 # 전부 1로 바꾸는 경우\n",
    "\n",
    "if data[0] == '0': # 첫번째 숫자가 0일 경우\n",
    "    count1 += 1 # 1로 바꾸는 경우에 하나 추가\n",
    "else: # 첫번째 숫자가 1일 경우\n",
    "    count0 += 0 # 0으로 바꾸는 경우에 하나 추가\n",
    "    \n",
    "for i in range(len(data)-1): # 전체에서 하나 전까지 탐색\n",
    "    if data[i] != data[i+1]: # 만약 해당 자리의 수가 다음 자리의 수와 다를 경우만 해당\n",
    "        if data[i+1] == '1': # 만약 앞뒤가 다른데 뒤의 경우가 1이라면\n",
    "            count0 += 1 # 0으로 바꾸는 경우 1 추가\n",
    "        else:\n",
    "            count1 += 1\n",
    "            \n",
    "print(min(count0, count1))"
   ]
  }
 ],
 "metadata": {
  "kernelspec": {
   "display_name": "Python3.8_spare",
   "language": "python",
   "name": "spare"
  },
  "language_info": {
   "codemirror_mode": {
    "name": "ipython",
    "version": 3
   },
   "file_extension": ".py",
   "mimetype": "text/x-python",
   "name": "python",
   "nbconvert_exporter": "python",
   "pygments_lexer": "ipython3",
   "version": "3.8.12"
  }
 },
 "nbformat": 4,
 "nbformat_minor": 5
}
