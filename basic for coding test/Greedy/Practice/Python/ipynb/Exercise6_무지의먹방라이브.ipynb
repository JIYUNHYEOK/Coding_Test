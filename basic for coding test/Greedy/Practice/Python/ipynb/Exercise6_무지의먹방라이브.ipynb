{
 "cells": [
  {
   "cell_type": "code",
   "execution_count": null,
   "id": "5bce3371",
   "metadata": {},
   "outputs": [],
   "source": [
    "import heapq\n",
    "\n",
    "def solution(food_times, k):\n",
    "    \n",
    "    if sum(food_times) <= k:\n",
    "        return -1\n",
    "    \n",
    "    q = [] # 시간이 작은 음식부터 제외하기 위하여 우선순위 Queue를 사용\n",
    "    \n",
    "    for i in range(len(food_times)):\n",
    "        heapq.heappush(q, (food_times[i], i+1)) # (음식시간, 음식번호) 형태로 우선순위 Queue에 삽입\n",
    "        \n",
    "    sum_value = 0 # 먹기 위해서 사용한 시간\n",
    "    previous = 0 # 직전에 다 먹은 음식 시간\n",
    "    length = len(food_times) # 남은 음식의 갯수\n",
    "    \n",
    "    # sum_value + (현재 음식 시간 - 이전 음식 시간) * 현재 음식 갯수 와 k 비교\n",
    "    while sum_value + ((q[0][0] - previous) * length) <= k:\n",
    "        now = heapq.heappop(q)[0]\n",
    "        sum_value += (now - previous) * length\n",
    "        length -= 1 # 다 먹은 음식 제외\n",
    "        previous = now # 이전 음식의 시간 재설정\n",
    "        \n",
    "    result = sorted(q, key = lambda x: x[1]) # 음식의 번호 순으로 정렬\n",
    "    return result[(k-sum_value)%length][1]"
   ]
  }
 ],
 "metadata": {
  "kernelspec": {
   "display_name": "Python3.8_spare",
   "language": "python",
   "name": "spare"
  },
  "language_info": {
   "codemirror_mode": {
    "name": "ipython",
    "version": 3
   },
   "file_extension": ".py",
   "mimetype": "text/x-python",
   "name": "python",
   "nbconvert_exporter": "python",
   "pygments_lexer": "ipython3",
   "version": "3.8.12"
  }
 },
 "nbformat": 4,
 "nbformat_minor": 5
}
