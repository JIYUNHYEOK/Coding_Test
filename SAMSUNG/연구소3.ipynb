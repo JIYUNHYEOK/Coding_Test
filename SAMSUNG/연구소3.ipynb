{
 "cells": [
  {
   "cell_type": "markdown",
   "id": "3e7de555",
   "metadata": {},
   "source": [
    "# 연구소3"
   ]
  },
  {
   "cell_type": "markdown",
   "id": "759a299f",
   "metadata": {},
   "source": [
    "인체에 치명적인 바이러스를 연구하던 연구소에 승원이가 침입했고, 바이러스를 유출하려고 한다. 바이러스는 활성 상태와 비활성 상태가 있다. 가장 처음에 모든 바이러스는 비활성 상태이고, 활성 상태인 바이러스는 상하좌우로 인접한 모든 빈 칸으로 동시에 복제되며, 1초가 걸린다. 승원이는 연구소의 바이러스 M개를 활성 상태로 변경하려고 한다.\n",
    "\n",
    "연구소는 크기가 N×N인 정사각형으로 나타낼 수 있으며, 정사각형은 1×1 크기의 정사각형으로 나누어져 있다. 연구소는 빈 칸, 벽, 바이러스로 이루어져 있으며, 벽은 칸 하나를 가득 차지한다. 활성 바이러스가 비활성 바이러스가 있는 칸으로 가면 비활성 바이러스가 활성으로 변한다.\n",
    "\n",
    "예를 들어, 아래와 같이 연구소가 생긴 경우를 살펴보자. 0은 빈 칸, 1은 벽, 2는 바이러스의 위치이다."
   ]
  },
  {
   "cell_type": "markdown",
   "id": "25257a1a",
   "metadata": {},
   "source": [
    "M = 3이고, 바이러스를 아래와 같이 활성 상태로 변경한 경우 6초면 모든 칸에 바이러스를 퍼뜨릴 수 있다. 벽은 -, 비활성 바이러스는 *, 활성 바이러스는 0, 빈 칸은 바이러스가 퍼지는 시간으로 표시했다."
   ]
  },
  {
   "cell_type": "markdown",
   "id": "2412e585",
   "metadata": {},
   "source": [
    "시간이 최소가 되는 방법은 아래와 같고, 4초만에 모든 칸에 바이러스를 퍼뜨릴 수 있다."
   ]
  },
  {
   "cell_type": "markdown",
   "id": "61d0552d",
   "metadata": {},
   "source": [
    "연구소의 상태가 주어졌을 때, 모든 빈 칸에 바이러스를 퍼뜨리는 최소 시간을 구해보자."
   ]
  },
  {
   "cell_type": "markdown",
   "id": "329a72bf",
   "metadata": {},
   "source": [
    "첫째 줄에 연구소의 크기 N(4 ≤ N ≤ 50), 놓을 수 있는 바이러스의 개수 M(1 ≤ M ≤ 10)이 주어진다.\n",
    "\n",
    "둘째 줄부터 N개의 줄에 연구소의 상태가 주어진다. 0은 빈 칸, 1은 벽, 2는 바이러스를 놓을 수 있는 위치이다. 2의 개수는 M보다 크거나 같고, 10보다 작거나 같은 자연수이다."
   ]
  },
  {
   "cell_type": "markdown",
   "id": "4022c316",
   "metadata": {},
   "source": [
    "연구소의 모든 빈 칸에 바이러스가 있게 되는 최소 시간을 출력한다. 바이러스를 어떻게 놓아도 모든 빈 칸에 바이러스를 퍼뜨릴 수 없는 경우에는 -1을 출력한다."
   ]
  },
  {
   "cell_type": "code",
   "execution_count": 1,
   "id": "0b177976",
   "metadata": {},
   "outputs": [
    {
     "name": "stdout",
     "output_type": "stream",
     "text": [
      "7 3\n",
      "2 0 0 0 1 1 0\n",
      "0 0 1 0 1 2 0\n",
      "0 1 1 0 1 0 0\n",
      "0 1 0 0 0 0 0\n",
      "0 0 0 2 0 1 1\n",
      "0 1 0 0 0 0 0\n",
      "2 1 0 0 0 0 2\n",
      "4\n"
     ]
    }
   ],
   "source": [
    "from collections import deque\n",
    "from itertools import combinations\n",
    "\n",
    "n, m = map(int, input().split())\n",
    "board = [list(map(int, input().split())) for _ in range(n)]\n",
    "\n",
    "# 바이러스 위치정보 저장\n",
    "virus_pos = []\n",
    "\n",
    "# 빈칸의 갯수\n",
    "blank_cnt = 0\n",
    "\n",
    "# 완전 탐색을 통해 빈칸의 갯수 구하고, 모든 바이러스의 위치정보를 저장\n",
    "for i in range(n):\n",
    "    for j in range(n):\n",
    "        if board[i][j] == 0:\n",
    "            blank_cnt += 1\n",
    "        elif board[i][j] == 2:\n",
    "            virus_pos.append((i,j))\n",
    "            \n",
    "# BFS를 위한 방향벡터 설정\n",
    "dx = [-1, 1, 0, 0]\n",
    "dy = [0, 0, 1, -1]\n",
    "\n",
    "def bfs(queue, blanks):\n",
    "    visit = [[-1] * n for _ in range(n)]\n",
    "    time = 0\n",
    "    \n",
    "    while True:\n",
    "        # 큐의 길이 = 1초 동안 새롭게 추가된 바이러스의 수\n",
    "        length = len(queue)\n",
    "        \n",
    "        if blanks == 0 or length == 0:\n",
    "            # 모든 빈칸에 바이러스를 퍼뜨리면 종료\n",
    "            if blanks == 0:\n",
    "                return time\n",
    "            # 바이러스를 어떻게 놓아도 전체로 퍼뜨릴 수 없는 경우\n",
    "            else:\n",
    "                return 1e9\n",
    "            \n",
    "        time += 1\n",
    "        \n",
    "        # 큐 길이 만큼 for문을 반복\n",
    "        for i in range(length):\n",
    "            x, y = queue.popleft()\n",
    "            \n",
    "            if visit[x][y] == -1:\n",
    "                visit[x][y] = 1\n",
    "                \n",
    "            for direction in range(4):\n",
    "                nx = x + dx[direction]\n",
    "                ny = y + dy[direction]\n",
    "                \n",
    "                if 0 <= nx < n and 0 <= ny < n:\n",
    "                    # 아직 방문하지 않았다면\n",
    "                    if visit[nx][ny] == -1:\n",
    "                        \n",
    "                        # 빈칸일 경우에\n",
    "                        if board[nx][ny] == 0:\n",
    "                            queue.append((nx, ny))\n",
    "                            visit[nx][ny] = 1\n",
    "                            blanks -= 1\n",
    "                            \n",
    "                        # 비활성화된 바이러스를 만난 경우\n",
    "                        elif board[nx][ny] == 2:\n",
    "                            queue.append((nx, ny))\n",
    "                            visit[nx][ny] = 1\n",
    "                            \n",
    "\n",
    "# 어떤 바이러스를 활성상태로 만들지 조합을 사용하여 계산\n",
    "virus_combi = combinations(virus_pos, m)\n",
    "answer = 1e9\n",
    "\n",
    "# 모든 조합 결과에 대해서\n",
    "for virus_list in virus_combi:\n",
    "    queue = deque()\n",
    "    \n",
    "    for virus in virus_list:\n",
    "        queue.append(virus)\n",
    "    \n",
    "    tmp = bfs(queue, blank_cnt)\n",
    "    answer = min(answer, tmp)\n",
    "    \n",
    "if answer == 1e9:\n",
    "    print(-1)\n",
    "else:\n",
    "    print(answer)"
   ]
  },
  {
   "cell_type": "code",
   "execution_count": null,
   "id": "f1360652",
   "metadata": {},
   "outputs": [],
   "source": []
  }
 ],
 "metadata": {
  "kernelspec": {
   "display_name": "Python3.8_spare",
   "language": "python",
   "name": "spare"
  },
  "language_info": {
   "codemirror_mode": {
    "name": "ipython",
    "version": 3
   },
   "file_extension": ".py",
   "mimetype": "text/x-python",
   "name": "python",
   "nbconvert_exporter": "python",
   "pygments_lexer": "ipython3",
   "version": "3.8.12"
  }
 },
 "nbformat": 4,
 "nbformat_minor": 5
}
