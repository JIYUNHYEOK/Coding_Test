{
 "cells": [
  {
   "cell_type": "markdown",
   "id": "bdc519c5",
   "metadata": {},
   "source": [
    "# 테트로미노"
   ]
  },
  {
   "cell_type": "markdown",
   "id": "8c8de606",
   "metadata": {},
   "source": [
    "폴리오미노란 크기가 1×1인 정사각형을 여러 개 이어서 붙인 도형이며, 다음과 같은 조건을 만족해야 한다.\n",
    "\n",
    "- 정사각형은 서로 겹치면 안 된다.\n",
    "- 도형은 모두 연결되어 있어야 한다.\n",
    "- 정사각형의 변끼리 연결되어 있어야 한다. 즉, 꼭짓점과 꼭짓점만 맞닿아 있으면 안 된다."
   ]
  },
  {
   "cell_type": "markdown",
   "id": "70588395",
   "metadata": {},
   "source": [
    "아름이는 크기가 N×M인 종이 위에 테트로미노 하나를 놓으려고 한다. 종이는 1×1 크기의 칸으로 나누어져 있으며, 각각의 칸에는 정수가 하나 쓰여 있다.\n",
    "\n",
    "테트로미노 하나를 적절히 놓아서 테트로미노가 놓인 칸에 쓰여 있는 수들의 합을 최대로 하는 프로그램을 작성하시오.\n",
    "\n",
    "테트로미노는 반드시 한 정사각형이 정확히 하나의 칸을 포함하도록 놓아야 하며, 회전이나 대칭을 시켜도 된다."
   ]
  },
  {
   "cell_type": "markdown",
   "id": "aeb0045e",
   "metadata": {},
   "source": [
    "첫째 줄에 종이의 세로 크기 N과 가로 크기 M이 주어진다. (4 ≤ N, M ≤ 500)\n",
    "\n",
    "둘째 줄부터 N개의 줄에 종이에 쓰여 있는 수가 주어진다. i번째 줄의 j번째 수는 위에서부터 i번째 칸, 왼쪽에서부터 j번째 칸에 쓰여 있는 수이다. 입력으로 주어지는 수는 1,000을 넘지 않는 자연수이다."
   ]
  },
  {
   "cell_type": "markdown",
   "id": "42a03a71",
   "metadata": {},
   "source": [
    "첫째 줄에 테트로미노가 놓인 칸에 쓰인 수들의 합의 최댓값을 출력한다."
   ]
  },
  {
   "cell_type": "code",
   "execution_count": 1,
   "id": "a5b22de2",
   "metadata": {},
   "outputs": [
    {
     "name": "stdout",
     "output_type": "stream",
     "text": [
      "5 5\n",
      "1 2 3 4 5\n",
      "5 4 3 2 1\n",
      "2 3 4 5 6\n",
      "6 5 4 3 2\n",
      "1 2 1 2 1\n",
      "19\n"
     ]
    }
   ],
   "source": [
    "n, m = map(int, input().split())\n",
    "paper = [list(map(int, input().split())) for _ in range(n)]\n",
    "max_value = 0\n",
    "\n",
    "# 테트로미노 좌표 정보\n",
    "case = [\n",
    "    # case 1\n",
    "    [[0,0], [0,1], [0,2], [0,3]],\n",
    "    [[0,0], [1,0], [2,0], [3,0]],\n",
    "    \n",
    "    # case 2\n",
    "    [[0,0], [0,1], [1,0], [1,1]],\n",
    "    \n",
    "    # case 3\n",
    "    [[0, 0], [1, 0], [2, 0], [2, 1]],\n",
    "    [[0, 0], [1, 0], [0, 1], [0, 2]],\n",
    "    [[0, 0], [0, 1], [1, 1], [2, 1]],\n",
    "    [[0, 0], [0, 1], [0, 2], [-1, 2]],\n",
    "    [[0, 0], [0, 1], [-1, 1], [-2, 1]],\n",
    "    [[0, 0], [1, 0], [1, 1], [1, 2]],\n",
    "    [[0, 0], [0, 1], [1, 0], [2, 0]],\n",
    "    [[0, 0], [0, 1], [0, 2], [1, 2]],\n",
    "    \n",
    "    # case 4\n",
    "    [[0, 0], [1, 0], [1, 1], [2, 1]],\n",
    "    [[0, 0], [0, 1], [-1, 1], [-1, 2]],\n",
    "    [[0, 0], [0, 1], [-1, 1], [1, 0]],\n",
    "    [[0, 0], [0, 1], [1, 1], [1, 2]],\n",
    "    \n",
    "    # case 5\n",
    "    [[0, 0], [0, 1], [0, 2], [1, 1]],\n",
    "    [[0, 0], [-1, 1], [0, 1], [1, 1]],\n",
    "    [[0, 0], [0, 1], [0, 2], [-1, 1]],\n",
    "    [[0, 0], [1, 0], [2, 0], [1, 1]]\n",
    "]\n",
    "\n",
    "# max 값 확인 후 update\n",
    "def check(sum_value):\n",
    "    global max_value\n",
    "    if sum_value > max_value:\n",
    "        max_value = sum_value\n",
    "        \n",
    "# 테트로미노가 놓은 칸에 쓰여 있는 수들의 합 계산\n",
    "def tetromino(i, j):\n",
    "    # 총 19가지의 케이스\n",
    "    for x in range(19):\n",
    "        sum_value = 0\n",
    "        # 각 4개의 정사각형으로 구성\n",
    "        for y in range(4):\n",
    "            try:\n",
    "                sum_value += paper[i+case[x][y][0]][j+case[x][y][1]]\n",
    "            except:\n",
    "                break\n",
    "        check(sum_value)\n",
    "        \n",
    "for i in range(n):\n",
    "    for j in range(m):\n",
    "        tetromino(i,j)\n",
    "        \n",
    "print(max_value)"
   ]
  },
  {
   "cell_type": "code",
   "execution_count": null,
   "id": "a447797d",
   "metadata": {},
   "outputs": [],
   "source": []
  }
 ],
 "metadata": {
  "kernelspec": {
   "display_name": "Python3.8_spare",
   "language": "python",
   "name": "spare"
  },
  "language_info": {
   "codemirror_mode": {
    "name": "ipython",
    "version": 3
   },
   "file_extension": ".py",
   "mimetype": "text/x-python",
   "name": "python",
   "nbconvert_exporter": "python",
   "pygments_lexer": "ipython3",
   "version": "3.8.12"
  }
 },
 "nbformat": 4,
 "nbformat_minor": 5
}
