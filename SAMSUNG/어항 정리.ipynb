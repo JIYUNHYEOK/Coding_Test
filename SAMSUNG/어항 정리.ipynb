{
 "cells": [
  {
   "cell_type": "markdown",
   "id": "9ccb337e",
   "metadata": {},
   "source": [
    "# 어항 정리"
   ]
  },
  {
   "cell_type": "markdown",
   "id": "1a4dc5d9",
   "metadata": {},
   "source": [
    "마법사 상어는 그동안 배운 마법을 이용해 어항을 정리하려고 한다. 어항은 정육면체 모양이고, 한 변의 길이는 모두 1이다. 상어가 가지고 있는 어항은 N개이고, 가장 처음에 어항은 일렬로 바닥 위에 놓여져 있다. 어항에는 물고기가 한 마리 이상 들어있다. <그림 1>은 어항 8개가 바닥 위에 놓여있는 상태이며, 칸에 적힌 값은 그 어항에 들어있는 물고기의 수이다. 편의상 어항은 정사각형으로 표현했다."
   ]
  },
  {
   "cell_type": "markdown",
   "id": "ead48c4d",
   "metadata": {},
   "source": [
    "어항을 한 번 정리하는 과정은 다음과 같이 이루어져 있다."
   ]
  },
  {
   "cell_type": "markdown",
   "id": "318fc01a",
   "metadata": {},
   "source": [
    "먼저, 물고기의 수가 가장 적은 어항에 물고기를 한 마리 넣는다. 만약, 그러한 어항이 여러개라면 물고기의 수가 최소인 어항 모두에 한 마리씩 넣는다. 위의 예시의 경우 물고기의 수가 가장 적은 어항에는 물고기가 2마리 있고, 그러한 어항은 2개가 있다. 따라서, 2개의 어항에 물고기를 한 마리씩 넣어 <그림 2>와 같아진다."
   ]
  },
  {
   "cell_type": "markdown",
   "id": "cbd03260",
   "metadata": {},
   "source": [
    "이제 어항을 쌓는다. 먼저, 가장 왼쪽에 있는 어항을 그 어항의 오른쪽에 있는 어항의 위에 올려 놓아 <그림 3>이 된다."
   ]
  },
  {
   "cell_type": "markdown",
   "id": "bf73637a",
   "metadata": {},
   "source": [
    "이제, 2개 이상 쌓여있는 어항을 모두 공중 부양시킨 다음, 전체를 시계방향으로 90도 회전시킨다. 이후 공중 부양시킨 어항을 바닥에 있는 어항의 위에 올려놓는다. 바닥의 가장 왼쪽에 있는 어항 위에 공중 부양시킨 어항 중 가장 왼쪽에 있는 어항이 있어야 한다. 이 작업은 공중 부양시킨 어항 중 가장 오른쪽에 있는 어항의 아래에 바닥에 있는 어항이 있을때까지 반복한다."
   ]
  },
  {
   "cell_type": "markdown",
   "id": "09731d43",
   "metadata": {},
   "source": [
    "먼저, <그림 4>와 같이 어항이 놓인 상태가 변하고, 한 번 더 변해서 <그림 5>가 된다."
   ]
  },
  {
   "cell_type": "markdown",
   "id": "4eb109f3",
   "metadata": {},
   "source": [
    "<그림 5>에서 한 번 더 어항을 공중 부양시키는 것은 불가능하다. 그 이유는 <그림 6>과 같이 공중 부양시킨 어항 중 가장 오른쪽에 있는 어항의 아래에 바닥에 있는 어항이 없기 때문이다."
   ]
  },
  {
   "cell_type": "markdown",
   "id": "9b472db5",
   "metadata": {},
   "source": [
    "공중 부양 작업이 모두 끝나면, 어항에 있는 물고기의 수를 조절한다."
   ]
  },
  {
   "cell_type": "markdown",
   "id": "7415c639",
   "metadata": {},
   "source": [
    "모든 인접한 두 어항에 대해서, 물고기 수의 차이를 구한다. 이 차이를 5로 나눈 몫을 d라고 하자. d가 0보다 크면, 두 어항 중 물고기의 수가 많은 곳에 있는 물고기 d 마리를 적은 곳에 있는 곳으로 보낸다. 이 과정은 모든 인접한 칸에 대해서 동시에 발생한다. 이 과정이 완료되면 <그림 7>이 된다."
   ]
  },
  {
   "cell_type": "markdown",
   "id": "0f1c8a1a",
   "metadata": {},
   "source": [
    "이제 다시 어항을 바닥에 일렬로 놓아야 한다. 가장 왼쪽에 있는 어항부터, 그리고 아래에 있는 어항부터 가장 위에 있는 어항까지 순서대로 바닥에 놓아야 한다. <그림 8>이 바닥에 다시 일렬로 놓은 상태이다."
   ]
  },
  {
   "cell_type": "markdown",
   "id": "259475aa",
   "metadata": {},
   "source": [
    "다시 공중 부양 작업을 해야 한다. 이번에는 가운데를 중심으로 왼쪽 N/2개를 공중 부양시켜 전체를 시계 방향으로 180도 회전 시킨 다음, 오른쪽 N/2개의 위에 놓아야 한다. 이 작업은 두 번 반복해야한다. 두 번 반복하면 바닥에 있는 어항의 수는 N/4개가 된다. <그림 9>는 이 작업을 1번 했을 때, <그림 10>은 다시 한 번 더 했을 때이다."
   ]
  },
  {
   "cell_type": "markdown",
   "id": "3a451fc7",
   "metadata": {},
   "source": [
    "여기서 다시 위에서 한 물고기 조절 작업을 수행하고, 바닥에 일렬로 놓는 작업을 수행한다. <그림 10>에서 조절 작업을 마친 결과는 <그림 11>이 되고, 여기서 다시 바닥에 일렬로 놓는 작업을 수행하면 <그림 12>가 된다."
   ]
  },
  {
   "cell_type": "markdown",
   "id": "09320b7c",
   "metadata": {},
   "source": [
    "어항의 수 N, 각 어항에 들어있는 물고기의 수가 주어진다. 물고기가 가장 많이 들어있는 어항과 가장 적게 들어있는 어항의 물고기 수 차이가 K 이하가 되려면 어항을 몇 번 정리해야하는지 구해보자."
   ]
  },
  {
   "cell_type": "markdown",
   "id": "a194d43c",
   "metadata": {},
   "source": [
    "첫째 줄에 N, K가 주어진다. 둘째에는 어항에 들어있는 물고기의 수가 가장 왼쪽에 있는 어항부터 순서대로 주어진다."
   ]
  },
  {
   "cell_type": "markdown",
   "id": "3a23cf00",
   "metadata": {},
   "source": [
    " 물고기가 가장 많이 들어있는 어항과 가장 적게 들어있는 어항의 물고기 수 차이가 K 이하가 되려면 어항을 몇 번 정리해야하는지 출력한다."
   ]
  },
  {
   "cell_type": "code",
   "execution_count": 1,
   "id": "85a2cbd8",
   "metadata": {},
   "outputs": [
    {
     "name": "stdout",
     "output_type": "stream",
     "text": [
      "8 1\n",
      "5 2 3 14 9 2 11 8\n",
      "5\n"
     ]
    }
   ],
   "source": [
    "from collections import deque\n",
    "N, K = map(int, input().split())\n",
    "direction = [(-1, 0), (1, 0), (0, -1), (0, 1)]\n",
    "board = list()\n",
    "board.append(deque(list(map(int, input().split()))))\n",
    "\n",
    "\n",
    "# 물고기가 가장 적은 어항에 물고기 한 마리 넣기\n",
    "def push_fish_to_min_bowl(graph):\n",
    "    min_bowl_fish_num = min(graph[0])\n",
    "    for i in range(len(graph[0])):\n",
    "        if graph[0][i] == min_bowl_fish_num:\n",
    "            graph[0][i] += 1\n",
    "\n",
    "\n",
    "# 가장 왼쪽의 어항을 위에 쌓기\n",
    "def popleft_and_stack(graph):\n",
    "    pop = graph[0].popleft()\n",
    "    graph.append(deque([pop]))\n",
    "\n",
    "\n",
    "# 공중에 뜬 어항들을 시계방향 90도 회전하기\n",
    "def rotate_90_clockwise(bowls):\n",
    "    new_bowls = [[0] * len(bowls) for _ in range(len(bowls[0]))]\n",
    "    for i in range(len(bowls[0])):\n",
    "        for j in range(len(bowls)):\n",
    "            new_bowls[i][j] = bowls[j][len(bowls[0])-1-i]\n",
    "\n",
    "    return new_bowls\n",
    "\n",
    "\n",
    "# 2개 이상 쌓인 어항들을 분리해서 공중부양 시키기\n",
    "def fly_blocks(graph):\n",
    "    while True:\n",
    "        if len(graph) > len(graph[0]) - len(graph[-1]):\n",
    "            break\n",
    "\n",
    "        will_fly_blocks = []\n",
    "        will_fly_blocks_row = len(graph)\n",
    "        will_fly_blocks_col = len(graph[-1])\n",
    "\n",
    "        for i in range(will_fly_blocks_row):\n",
    "            new_deque = deque()\n",
    "            for _ in range(will_fly_blocks_col):\n",
    "                new_deque.append(graph[i].popleft())\n",
    "            will_fly_blocks.append(new_deque)\n",
    "\n",
    "        graph = [graph[0]]\n",
    "        rotated_blocks = rotate_90_clockwise(will_fly_blocks)\n",
    "        for row in rotated_blocks:\n",
    "            graph.append(deque(row))\n",
    "\n",
    "    return graph\n",
    "\n",
    "\n",
    "# 공중 부양 작업이 끝난 뒤, 어항의 물고기 수 조절. BFS 수행. 역시 범인은 이 안에 있다. 음수가 나올리가 없다.\n",
    "# 잠깐, 생각해보니 굳이 BFS 를 사용해야 돼? 걍 완탐하는게 목적인데.\n",
    "def fix_fish_num(graph):\n",
    "    dp = [[0] * len(graph[x]) for x in range(len(graph))]\n",
    "    for x in range(len(graph)):\n",
    "        for y in range(len(graph[x])):\n",
    "            for d in direction:\n",
    "                nx = x + d[0]\n",
    "                ny = y + d[1]\n",
    "\n",
    "                if 0 <= nx < len(graph) and 0 <= ny < len(graph[nx]):\n",
    "                    # 현재 칸이 인접 칸보다 크다면\n",
    "                    if graph[x][y] > graph[nx][ny]:\n",
    "                        d = (graph[x][y] - graph[nx][ny]) // 5\n",
    "                        if d >= 1:\n",
    "                            dp[x][y] -= d\n",
    "                    # 현재 칸이 인접 칸보다 작다면\n",
    "                    else:\n",
    "                        d = (graph[nx][ny] - graph[x][y]) // 5\n",
    "                        if d >= 1:\n",
    "                            dp[x][y] += d\n",
    "\n",
    "    for i in range(len(graph)):\n",
    "        for j in range(len(graph[i])):\n",
    "            graph[i][j] += dp[i][j]\n",
    "\n",
    "\n",
    "# 다시 어항을 일렬로 놓는다\n",
    "def put_bowl_in_a_row(graph):\n",
    "    new_graph = deque()\n",
    "\n",
    "    for i in range(len(graph[-1])):\n",
    "        for j in range(len(graph)):\n",
    "            new_graph.append(graph[j][i])\n",
    "\n",
    "    for i in range(len(graph[-1]), len(graph[0])):\n",
    "        new_graph.append(graph[0][i])\n",
    "\n",
    "    result_list = list()\n",
    "    result_list.append(new_graph)\n",
    "\n",
    "    return result_list\n",
    "\n",
    "\n",
    "# 180 도 회전\n",
    "def rotate_180_clockwise(graph):\n",
    "    new_graph = []\n",
    "\n",
    "    for i in reversed(range(len(graph))):\n",
    "        graph[i].reverse()\n",
    "        new_graph.append(graph[i])\n",
    "\n",
    "    return new_graph\n",
    "\n",
    "\n",
    "# 다시 공중부양 작업을 한다. 이번에는 절반을 자르는데 2번 수행한다.\n",
    "def fly_blocks2(graph):\n",
    "    left1 = list()\n",
    "    left2 = list()\n",
    "    new_deque1 = deque()\n",
    "    for i in range(N//2):\n",
    "        new_deque1.append(graph[0].popleft())\n",
    "    left1.append(new_deque1)\n",
    "    rotated_left1 = rotate_180_clockwise(left1)\n",
    "    graph += rotated_left1\n",
    "\n",
    "    for i in range(2):\n",
    "        temp_deque = deque()\n",
    "        for j in range(N//4):\n",
    "            temp_deque.append(graph[i].popleft())\n",
    "        left2.append(temp_deque)\n",
    "    rotated_left2 = rotate_180_clockwise(left2)\n",
    "    graph += rotated_left2\n",
    "\n",
    "\n",
    "# 물고기가 가장 많은 어항과 가장 적은 어항의 차이를 구하는 함수\n",
    "def get_result(graph):\n",
    "    dq = graph[0]\n",
    "    result1 = max(dq) - min(dq)\n",
    "    \n",
    "    return result1\n",
    "\n",
    "\n",
    "answer = 0\n",
    "while True:\n",
    "    result = get_result(board)\n",
    "    if result <= K:\n",
    "        print(answer)\n",
    "        break\n",
    "    push_fish_to_min_bowl(board)\n",
    "    popleft_and_stack(board)\n",
    "    board = fly_blocks(board)\n",
    "    fix_fish_num(board)\n",
    "    board = put_bowl_in_a_row(board)\n",
    "    fly_blocks2(board)\n",
    "    fix_fish_num(board)\n",
    "    board = put_bowl_in_a_row(board)\n",
    "    answer += 1"
   ]
  }
 ],
 "metadata": {
  "kernelspec": {
   "display_name": "Python3.8_spare",
   "language": "python",
   "name": "spare"
  },
  "language_info": {
   "codemirror_mode": {
    "name": "ipython",
    "version": 3
   },
   "file_extension": ".py",
   "mimetype": "text/x-python",
   "name": "python",
   "nbconvert_exporter": "python",
   "pygments_lexer": "ipython3",
   "version": "3.8.12"
  }
 },
 "nbformat": 4,
 "nbformat_minor": 5
}
