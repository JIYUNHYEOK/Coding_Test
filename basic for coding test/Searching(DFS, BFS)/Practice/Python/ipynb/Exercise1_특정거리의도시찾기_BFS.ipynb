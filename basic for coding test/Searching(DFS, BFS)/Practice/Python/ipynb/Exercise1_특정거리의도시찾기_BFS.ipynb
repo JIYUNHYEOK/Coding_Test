{
 "cells": [
  {
   "cell_type": "code",
   "execution_count": 1,
   "id": "11a39f97",
   "metadata": {},
   "outputs": [
    {
     "name": "stdout",
     "output_type": "stream",
     "text": [
      "4 4 2 1\n",
      "1 2\n",
      "1 3\n",
      "2 3\n",
      "2 4\n",
      "4\n"
     ]
    }
   ],
   "source": [
    "from collections import deque\n",
    "\n",
    "# 도시의 개수, 도로의 개수, 거리 정보, 출발 도시 번호\n",
    "N, M, K, X = map(int, input().split())\n",
    "graph = [[] for _ in range(N+1)]\n",
    "\n",
    "# 모든 도로 정보 입력받기\n",
    "for _ in range(M):\n",
    "    a, b = map(int, input().split())\n",
    "    graph[a].append(b)\n",
    "    \n",
    "# 모든 도시에 대한 최단 거리 초기화\n",
    "distance = [-1] * (N+1)\n",
    "distance[X] = 0\n",
    "\n",
    "# 너비 우선 탐색 (BFS) 수행\n",
    "q = deque([X])\n",
    "\n",
    "while q:\n",
    "    now = q.popleft()\n",
    "    \n",
    "    # 현재 도시에서 이동할 수 있는 모든 도시를 확인\n",
    "    for next_node in graph[now]:\n",
    "        # 아직 방문하지 않은 도시라면,\n",
    "        if distance[next_node] == -1:\n",
    "            \n",
    "            # 최단거리 갱신\n",
    "            distance[next_node] = distance[now] + 1\n",
    "            q.append(next_node)\n",
    "            \n",
    "# 최단 거리가 K인 모든 도시의 번호를 오름차순으로 출력\n",
    "check = False\n",
    "\n",
    "for i in range(1, N+1):\n",
    "    if distance[i] == K:\n",
    "        print(i)\n",
    "        check = True\n",
    "        \n",
    "# 만약 최단거리 K인 도시가 없다면, -1 출력\n",
    "if check == False:\n",
    "    print(-1)\n"
   ]
  }
 ],
 "metadata": {
  "kernelspec": {
   "display_name": "Python3.8_spare",
   "language": "python",
   "name": "spare"
  },
  "language_info": {
   "codemirror_mode": {
    "name": "ipython",
    "version": 3
   },
   "file_extension": ".py",
   "mimetype": "text/x-python",
   "name": "python",
   "nbconvert_exporter": "python",
   "pygments_lexer": "ipython3",
   "version": "3.8.12"
  }
 },
 "nbformat": 4,
 "nbformat_minor": 5
}
