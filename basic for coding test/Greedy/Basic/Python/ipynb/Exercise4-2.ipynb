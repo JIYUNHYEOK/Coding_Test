{
 "cells": [
  {
   "cell_type": "code",
   "execution_count": 1,
   "id": "7c7dd51f",
   "metadata": {},
   "outputs": [
    {
     "name": "stdout",
     "output_type": "stream",
     "text": [
      "25 3\n",
      "6\n"
     ]
    }
   ],
   "source": [
    "N, K = map(int, input().split())\n",
    "count = 0\n",
    "\n",
    "while True:\n",
    "    target = (N//K) * K # 나머지를 제외한 배수로 만들기\n",
    "    count += (N - target) # 원래 입력 값에서 배수로 만들기에 빼야하는 값을 더함\n",
    "    N = target\n",
    "    \n",
    "    if N < K:\n",
    "        break\n",
    "    count += 1\n",
    "    N //= K\n",
    "    \n",
    "# K보다 작은 N에 대하여 나눗셈이 불가하므로, 1씩 빼는 방식\n",
    "count += (N-1)\n",
    "print(count)"
   ]
  }
 ],
 "metadata": {
  "kernelspec": {
   "display_name": "Python3.8_spare",
   "language": "python",
   "name": "spare"
  },
  "language_info": {
   "codemirror_mode": {
    "name": "ipython",
    "version": 3
   },
   "file_extension": ".py",
   "mimetype": "text/x-python",
   "name": "python",
   "nbconvert_exporter": "python",
   "pygments_lexer": "ipython3",
   "version": "3.8.12"
  }
 },
 "nbformat": 4,
 "nbformat_minor": 5
}
