{
 "cells": [
  {
   "cell_type": "code",
   "execution_count": 1,
   "id": "44b7cd1a",
   "metadata": {},
   "outputs": [
    {
     "name": "stdout",
     "output_type": "stream",
     "text": [
      "123402\n",
      "LUCKY\n"
     ]
    }
   ],
   "source": [
    "N = input()\n",
    "size = len(N)\n",
    "summary = 0\n",
    "\n",
    "for i in range(size//2): # 왼쪽 부분 자릿수 합\n",
    "    summary += int(N[i])\n",
    "    \n",
    "for i in range(size//2, size): # 오른쪽 부분 자릿수 합\n",
    "    summary -= int(N[i])\n",
    "    \n",
    "if summary == 0:\n",
    "    print(\"LUCKY\")\n",
    "else:\n",
    "    print(\"READY\")"
   ]
  },
  {
   "cell_type": "code",
   "execution_count": 2,
   "id": "876b1fc4",
   "metadata": {},
   "outputs": [
    {
     "name": "stdout",
     "output_type": "stream",
     "text": [
      "7755\n",
      "READY\n"
     ]
    }
   ],
   "source": [
    "N = input()\n",
    "size = len(N)\n",
    "summary = 0\n",
    "\n",
    "for i in range(size//2): # 왼쪽 부분 자릿수 합\n",
    "    summary += int(N[i])\n",
    "    \n",
    "for i in range(size//2, size): # 오른쪽 부분 자릿수 합\n",
    "    summary -= int(N[i])\n",
    "    \n",
    "if summary == 0:\n",
    "    print(\"LUCKY\")\n",
    "else:\n",
    "    print(\"READY\")"
   ]
  }
 ],
 "metadata": {
  "kernelspec": {
   "display_name": "Python3.8_spare",
   "language": "python",
   "name": "spare"
  },
  "language_info": {
   "codemirror_mode": {
    "name": "ipython",
    "version": 3
   },
   "file_extension": ".py",
   "mimetype": "text/x-python",
   "name": "python",
   "nbconvert_exporter": "python",
   "pygments_lexer": "ipython3",
   "version": "3.8.12"
  }
 },
 "nbformat": 4,
 "nbformat_minor": 5
}
