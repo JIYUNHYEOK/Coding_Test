{
 "cells": [
  {
   "cell_type": "markdown",
   "id": "90e27386",
   "metadata": {},
   "source": [
    "# 뱀"
   ]
  },
  {
   "cell_type": "markdown",
   "id": "c88d5b3a",
   "metadata": {},
   "source": [
    "'Dummy' 라는 도스게임이 있다. 이 게임에는 뱀이 나와서 기어다니는데, 사과를 먹으면 뱀 길이가 늘어난다. 뱀이 이리저리 기어다니다가 벽 또는 자기자신의 몸과 부딪히면 게임이 끝난다.\n",
    "\n",
    "게임은 NxN 정사각 보드위에서 진행되고, 몇몇 칸에는 사과가 놓여져 있다. 보드의 상하좌우 끝에 벽이 있다. 게임이 시작할때 뱀은 맨위 맨좌측에 위치하고 뱀의 길이는 1 이다. 뱀은 처음에 오른쪽을 향한다.\n",
    "\n",
    "뱀은 매 초마다 이동을 하는데 다음과 같은 규칙을 따른다.\n",
    "\n",
    "- 먼저 뱀은 몸길이를 늘려 머리를 다음칸에 위치시킨다.\n",
    "- 만약 이동한 칸에 사과가 있다면, 그 칸에 있던 사과가 없어지고 꼬리는 움직이지 않는다.\n",
    "- 만약 이동한 칸에 사과가 없다면, 몸길이를 줄여서 꼬리가 위치한 칸을 비워준다. 즉, 몸길이는 변하지 않는다.\n",
    "사과의 위치와 뱀의 이동경로가 주어질 때 이 게임이 몇 초에 끝나는지 계산하라."
   ]
  },
  {
   "cell_type": "markdown",
   "id": "dbf4da5c",
   "metadata": {},
   "source": [
    "첫째 줄에 보드의 크기 N이 주어진다. (2 ≤ N ≤ 100) 다음 줄에 사과의 개수 K가 주어진다. (0 ≤ K ≤ 100)\n",
    "\n",
    "다음 K개의 줄에는 사과의 위치가 주어지는데, 첫 번째 정수는 행, 두 번째 정수는 열 위치를 의미한다. 사과의 위치는 모두 다르며, 맨 위 맨 좌측 (1행 1열) 에는 사과가 없다.\n",
    "\n",
    "다음 줄에는 뱀의 방향 변환 횟수 L 이 주어진다. (1 ≤ L ≤ 100)\n",
    "\n",
    "다음 L개의 줄에는 뱀의 방향 변환 정보가 주어지는데,  정수 X와 문자 C로 이루어져 있으며. 게임 시작 시간으로부터 X초가 끝난 뒤에 왼쪽(C가 'L') 또는 오른쪽(C가 'D')로 90도 방향을 회전시킨다는 뜻이다. X는 10,000 이하의 양의 정수이며, 방향 전환 정보는 X가 증가하는 순으로 주어진다."
   ]
  },
  {
   "cell_type": "markdown",
   "id": "09b9c639",
   "metadata": {},
   "source": [
    "첫째 줄에 게임이 몇 초에 끝나는지 출력한다."
   ]
  },
  {
   "cell_type": "code",
   "execution_count": 1,
   "id": "19c38266",
   "metadata": {},
   "outputs": [
    {
     "name": "stdout",
     "output_type": "stream",
     "text": [
      "6\n",
      "3\n",
      "3 4\n",
      "2 5\n",
      "5 3\n",
      "3 \n",
      "3 D\n",
      "15 L\n",
      "17 D\n",
      "9\n"
     ]
    }
   ],
   "source": [
    "# 보드의 크기\n",
    "n = int(input())\n",
    "\n",
    "# 사과의 갯수\n",
    "k = int(input())\n",
    "\n",
    "# 맵 정보\n",
    "data = [[0] * (n+1) for _ in range(n+1)] # 1행 1열의 인덱스를 맞춰주기 위해\n",
    "\n",
    "# 방향 회전 정보\n",
    "info = []\n",
    "\n",
    "# 맵 정보 (사과가 있을 경우 1)\n",
    "for _ in range(k):\n",
    "    a, b = map(int, input().split())\n",
    "    data[a][b] = 1\n",
    "    \n",
    "# 방향 회전 정보\n",
    "l = int(input())\n",
    "\n",
    "for _ in range(l):\n",
    "    x, c = input().split()\n",
    "    info.append((int(x), c))\n",
    "    \n",
    "# 처음에 오른쪽을 바라보고 있고, 90도로 회전하기 때문에 (동, 남, 서, 북)\n",
    "dx = [0, 1, 0, -1]\n",
    "dy = [1, 0, -1, 0]\n",
    "\n",
    "def turn(direction, c):\n",
    "    if c == 'L':\n",
    "        direction = (direction - 1) % 4\n",
    "    else:\n",
    "        direction = (direction + 1) % 4\n",
    "        \n",
    "    return direction\n",
    "\n",
    "def simulate():\n",
    "    # 뱀의 머리 위치\n",
    "    x, y = 1, 1\n",
    "    \n",
    "    # 뱀이 존재하는 위치는 2로 표시\n",
    "    data[x][y] = 2\n",
    "    \n",
    "    # 처음에는 동쪽을 바라보고 있음\n",
    "    direction = 0\n",
    "    \n",
    "    # 시작한 뒤에 경과한 시간\n",
    "    time = 0\n",
    "    \n",
    "    # 다음에 회전할 정보\n",
    "    index = 0\n",
    "    \n",
    "    # 뱀이 차지하고 있는 위치 정보 (꼬리가 앞쪽)\n",
    "    q = [(x, y)]\n",
    "    \n",
    "    while True:\n",
    "        nx = x + dx[direction]\n",
    "        ny = y + dy[direction]\n",
    "        \n",
    "        # 맵 범위 내에 있고, 뱀의 몸통이 없는 위치라면\n",
    "        if nx >= 1 and nx <= n and ny >= 1 and ny <= n and data[nx][ny] != 2:\n",
    "            \n",
    "            # 사과가 없을 경우 이동 후에 꼬리 제거\n",
    "            if data[nx][ny] == 0:\n",
    "                data[nx][ny] = 2\n",
    "                q.append((nx, ny))\n",
    "                px, py = q.pop(0)\n",
    "                data[px][py] = 0\n",
    "                \n",
    "            # 사과가 있을 경우 이동 후에 꼬리를 그대로 두기\n",
    "            if data[nx][ny] == 1:\n",
    "                data[nx][ny] = 2\n",
    "                q.append((nx, ny))\n",
    "                \n",
    "        # 벽이나 뱀의 몸통과 부딪혔다면\n",
    "        else:\n",
    "            time += 1\n",
    "            break\n",
    "            \n",
    "        # 다음 위치로 머리 이동\n",
    "        x, y = nx, ny\n",
    "        time += 1\n",
    "        \n",
    "        # 회전할 시간인 경우에 회전\n",
    "        if index < l and time == info[index][0]:\n",
    "            direction = turn(direction, info[index][1])\n",
    "            index += 1\n",
    "            \n",
    "    return time\n",
    "\n",
    "print(simulate())"
   ]
  }
 ],
 "metadata": {
  "kernelspec": {
   "display_name": "Python3.8_spare",
   "language": "python",
   "name": "spare"
  },
  "language_info": {
   "codemirror_mode": {
    "name": "ipython",
    "version": 3
   },
   "file_extension": ".py",
   "mimetype": "text/x-python",
   "name": "python",
   "nbconvert_exporter": "python",
   "pygments_lexer": "ipython3",
   "version": "3.8.12"
  }
 },
 "nbformat": 4,
 "nbformat_minor": 5
}
