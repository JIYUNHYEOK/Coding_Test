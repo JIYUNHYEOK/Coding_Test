{
 "cells": [
  {
   "cell_type": "markdown",
   "id": "5c0e9f2d",
   "metadata": {},
   "source": [
    "# 마법사 상어와 파이어스톰"
   ]
  },
  {
   "cell_type": "markdown",
   "id": "0fd92ecf",
   "metadata": {},
   "source": [
    "마법사 상어는 파이어볼과 토네이도를 조합해 파이어스톰을 시전할 수 있다. 오늘은 파이어스톰을 크기가 2N × 2N인 격자로 나누어진 얼음판에서 연습하려고 한다. 위치 (r, c)는 격자의 r행 c열을 의미하고, A[r][c]는 (r, c)에 있는 얼음의 양을 의미한다. A[r][c]가 0인 경우 얼음이 없는 것이다.\n",
    "\n",
    "파이어스톰을 시전하려면 시전할 때마다 단계 L을 결정해야 한다. 파이어스톰은 먼저 격자를 2L × 2L 크기의 부분 격자로 나눈다. 그 후, 모든 부분 격자를 시계 방향으로 90도 회전시킨다. 이후 얼음이 있는 칸 3개 또는 그 이상과 인접해있지 않은 칸은 얼음의 양이 1 줄어든다. (r, c)와 인접한 칸은 (r-1, c), (r+1, c), (r, c-1), (r, c+1)이다. 아래 그림의 칸에 적힌 정수는 칸을 구분하기 위해 적은 정수이다."
   ]
  },
  {
   "cell_type": "markdown",
   "id": "25ebd085",
   "metadata": {},
   "source": [
    "마법사 상어는 파이어스톰을 총 Q번 시전하려고 한다. 모든 파이어스톰을 시전한 후, 다음 2가지를 구해보자.\n",
    "\n",
    "남아있는 얼음 A[r][c]의 합\n",
    "남아있는 얼음 중 가장 큰 덩어리가 차지하는 칸의 개수\n",
    "얼음이 있는 칸이 얼음이 있는 칸과 인접해 있으면, 두 칸을 연결되어 있다고 한다. 덩어리는 연결된 칸의 집합이다."
   ]
  },
  {
   "cell_type": "markdown",
   "id": "a1019c06",
   "metadata": {},
   "source": [
    "첫째 줄에 N과 Q가 주어진다. 둘째 줄부터 2N개의 줄에는 격자의 각 칸에 있는 얼음의 양이 주어진다. r번째 줄에서 c번째 주어지는 정수는 A[r][c] 이다.\n",
    "\n",
    "마지막 줄에는 마법사 상어가 시전한 단계 L1, L2, ..., LQ가 순서대로 주어진다."
   ]
  },
  {
   "cell_type": "markdown",
   "id": "ac77c678",
   "metadata": {},
   "source": [
    "첫째 줄에 남아있는 얼음 A[r][c]의 합을 출력하고, 둘째 줄에 가장 큰 덩어리가 차지하는 칸의 개수를 출력한다. 단, 덩어리가 없으면 0을 출력한다."
   ]
  },
  {
   "cell_type": "code",
   "execution_count": 1,
   "id": "d551ddd2",
   "metadata": {},
   "outputs": [
    {
     "name": "stdout",
     "output_type": "stream",
     "text": [
      "3 1\n",
      "1 2 3 4 5 6 7 8\n",
      "8 7 6 5 4 3 2 1\n",
      "1 2 3 4 5 6 7 8\n",
      "8 7 6 5 4 3 2 1\n",
      "1 2 3 4 5 6 7 8\n",
      "8 7 6 5 4 3 2 1\n",
      "1 2 3 4 5 6 7 8\n",
      "8 7 6 5 4 3 2 1\n",
      "1\n",
      "56\n",
      "4\n"
     ]
    }
   ],
   "source": [
    "n, q = map(int, input().split())\n",
    "board = [list(map(int, input().split())) for _ in range(2**n)]\n",
    "qlist = list(map(int, input().split()))\n",
    "\n",
    "dx = [0, 0, -1, 1]\n",
    "dy = [-1, 1, 0, 0]\n",
    "\n",
    "for q in qlist:\n",
    "    # 회전\n",
    "    rotate_board = [[0] * (2**n) for _ in range(2**n)]\n",
    "    \n",
    "    for i in range(0, 2**n, 2**q):\n",
    "        for j in range(0, 2**n, 2**q):\n",
    "            for i2 in range(2**q):\n",
    "                for j2 in range(2**q):\n",
    "                    rotate_board[j+j2][j+2**q-i2-1] = board[i+i2][j+j2]\n",
    "    \n",
    "    # 얼음 녹이기\n",
    "    # 회전한 보드 위에서 바로 녹이는 경우 안 녹는 얼음이 존재할 수 있기에 새로 0으로 초기화된 보드에 얼음 수를 저장\n",
    "    board = [[0] * (2**n) for _ in range(2**n)]\n",
    "    \n",
    "    for x in range(2**n):\n",
    "        for y in range(2**n):\n",
    "            cnt = 0\n",
    "            for direction in range(4):\n",
    "                nx, ny = x + dx[direction], y + dy[direction]\n",
    "                \n",
    "                if 0 <= nx < 2**n and 0 <= ny < 2**n and rotate_board[nx][ny] != 0:\n",
    "                    cnt += 1\n",
    "            \n",
    "            if rotate_board[x][y] > 0:\n",
    "                # 얼음이 있는 칸 3개 또는 그 이상과 인접해있지 않은 칸은 얼음의 양이 1 줄어든다\n",
    "                if cnt < 3:\n",
    "                    board[x][y] = rotate_board[x][y] - 1\n",
    "                else:\n",
    "                    board[x][y] = rotate_board[x][y]\n",
    "                    \n",
    "\n",
    "# 첫째 줄에 남아있는 얼음 A[r][c]의 합을 출력\n",
    "# 남아있는 얼음 합에 대한 변수\n",
    "ice_sum = 0\n",
    "\n",
    "# 둘째 줄에 가장 큰 덩어리가 차지하는 칸의 개수를 출력\n",
    "# 얼음 덩어리 개수를 저장할 리스트\n",
    "ice_amount_list = [0]\n",
    "\n",
    "visit = [[False] * (2**n) for _ in range(2**n)]\n",
    "\n",
    "for x in range(2**n):\n",
    "    for y in range(2**n):\n",
    "        temp = []\n",
    "        \n",
    "        if board[x][y] != 0 and visit[x][y] == False:       \n",
    "            temp.append([x, y])\n",
    "            visit[x][y] = True\n",
    "            ice_sum += board[x][y]\n",
    "            cnt = 1\n",
    "            \n",
    "            while temp:\n",
    "                test = temp.pop()\n",
    "                tx, ty = test[0], test[1]\n",
    "                \n",
    "                for direction in range(4):\n",
    "                    ntx, nty =  tx + dx[direction], ty + dy[direction]\n",
    "                    \n",
    "                    if 0 <= ntx < 2**n and 0 <= nty < 2**n and visit[ntx][nty] == False and board[ntx][nty] != 0:\n",
    "                        temp.append([ntx, nty])\n",
    "                        visit[ntx][nty] = True\n",
    "                        ice_sum += board[ntx][nty]\n",
    "                        cnt += 1\n",
    "                        \n",
    "            ice_amount_list.append(cnt)\n",
    "            \n",
    "print(ice_sum)\n",
    "print(max(ice_amount_list))"
   ]
  }
 ],
 "metadata": {
  "kernelspec": {
   "display_name": "Python3.8_spare",
   "language": "python",
   "name": "spare"
  },
  "language_info": {
   "codemirror_mode": {
    "name": "ipython",
    "version": 3
   },
   "file_extension": ".py",
   "mimetype": "text/x-python",
   "name": "python",
   "nbconvert_exporter": "python",
   "pygments_lexer": "ipython3",
   "version": "3.8.12"
  }
 },
 "nbformat": 4,
 "nbformat_minor": 5
}
