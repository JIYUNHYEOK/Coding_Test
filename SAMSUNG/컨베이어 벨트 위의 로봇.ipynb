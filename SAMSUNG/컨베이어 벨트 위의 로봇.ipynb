{
 "cells": [
  {
   "cell_type": "markdown",
   "id": "0ec10978",
   "metadata": {},
   "source": [
    "# 컨베이어 벨트 위의 로봇"
   ]
  },
  {
   "cell_type": "markdown",
   "id": "5e177098",
   "metadata": {},
   "source": [
    "길이가 N인 컨베이어 벨트가 있고, 길이가 2N인 벨트가 이 컨베이어 벨트를 위아래로 감싸며 돌고 있다. 벨트는 길이 1 간격으로 2N개의 칸으로 나뉘어져 있으며, 각 칸에는 아래 그림과 같이 1부터 2N까지의 번호가 매겨져 있다."
   ]
  },
  {
   "cell_type": "markdown",
   "id": "9ddc2b80",
   "metadata": {},
   "source": [
    "벨트가 한 칸 회전하면 1번부터 2N-1번까지의 칸은 다음 번호의 칸이 있는 위치로 이동하고, 2N번 칸은 1번 칸의 위치로 이동한다. i번 칸의 내구도는 Ai이다. 위의 그림에서 1번 칸이 있는 위치를 \"올리는 위치\", N번 칸이 있는 위치를 \"내리는 위치\"라고 한다.\n",
    "\n",
    "컨베이어 벨트에 박스 모양 로봇을 하나씩 올리려고 한다. 로봇은 올리는 위치에만 올릴 수 있다. 언제든지 로봇이 내리는 위치에 도달하면 그 즉시 내린다. 로봇은 컨베이어 벨트 위에서 스스로 이동할 수 있다. 로봇을 올리는 위치에 올리거나 로봇이 어떤 칸으로 이동하면 그 칸의 내구도는 즉시 1만큼 감소한다.\n",
    "\n",
    "컨베이어 벨트를 이용해 로봇들을 건너편으로 옮기려고 한다. 로봇을 옮기는 과정에서는 아래와 같은 일이 순서대로 일어난다.\n",
    "\n",
    "1. 벨트가 각 칸 위에 있는 로봇과 함께 한 칸 회전한다.\n",
    "2. 가장 먼저 벨트에 올라간 로봇부터, 벨트가 회전하는 방향으로 한 칸 이동할 수 있다면 이동한다. 만약 이동할 수 없다면 가만히 있는다.  \n",
    "    1. 로봇이 이동하기 위해서는 이동하려는 칸에 로봇이 없으며, 그 칸의 내구도가 1 이상 남아 있어야 한다.\n",
    "3. 올리는 위치에 있는 칸의 내구도가 0이 아니면 올리는 위치에 로봇을 올린다.\n",
    "4. 내구도가 0인 칸의 개수가 K개 이상이라면 과정을 종료한다. 그렇지 않다면 1번으로 돌아간다.\n",
    "종료되었을 때 몇 번째 단계가 진행 중이었는지 구해보자. 가장 처음 수행되는 단계는 1번째 단계이다."
   ]
  },
  {
   "cell_type": "markdown",
   "id": "8e36da18",
   "metadata": {},
   "source": [
    "첫째 줄에 N, K가 주어진다. 둘째 줄에는 A1, A2, ..., A2N이 주어진다."
   ]
  },
  {
   "cell_type": "markdown",
   "id": "6a9a71ae",
   "metadata": {},
   "source": [
    "몇 번째 단계가 진행 중일때 종료되었는지 출력한다."
   ]
  },
  {
   "cell_type": "code",
   "execution_count": 1,
   "id": "00cd5296",
   "metadata": {},
   "outputs": [
    {
     "name": "stdout",
     "output_type": "stream",
     "text": [
      "3 2\n",
      "1 2 1 2 1 2\n",
      "2\n"
     ]
    }
   ],
   "source": [
    "from collections import deque\n",
    "\n",
    "n, k = map(int, input().split())\n",
    "belt = deque(map(int, input().split()))\n",
    "robot = deque([0]*n)\n",
    "res = 0\n",
    "\n",
    "while True:\n",
    "    belt.rotate(1)\n",
    "    robot.rotate(1)\n",
    "    # 로봇은 n번째 위치에 있을 때, 내려가는 부분이기 때문에 0\n",
    "    robot[-1] = 0\n",
    "    # 로봇이 존재할 경우\n",
    "    if sum(robot) != 0:\n",
    "        # 로봇이 내려가는 부분의 인덱스가 n-1이므로, n-2부터\n",
    "        for i in range(n-2, -1, -1):\n",
    "            # 이동하려는 칸에 로봇이 없으며, 그 칸의 내구도가 1 이상 남아있다면\n",
    "            if robot[i] == 1 and robot[i+1] == 0 and belt[i+1] >= 1:\n",
    "                robot[i+1] = 1\n",
    "                robot[i] = 0\n",
    "                belt[i+1] -= 1\n",
    "        robot[-1] = 0\n",
    "    # 초기에 로봇을 놓는 과정\n",
    "    if robot[0] == 0 and belt[0] >= 1:\n",
    "        robot[0] = 1\n",
    "        belt[0] -= 1\n",
    "    res += 1\n",
    "    # 내구도가 0인 칸의 개수가 K개 이상이라면 과정을 종료\n",
    "    if belt.count(0) >= k:\n",
    "        break\n",
    "    \n",
    "print(res)"
   ]
  }
 ],
 "metadata": {
  "kernelspec": {
   "display_name": "Python3.8_spare",
   "language": "python",
   "name": "spare"
  },
  "language_info": {
   "codemirror_mode": {
    "name": "ipython",
    "version": 3
   },
   "file_extension": ".py",
   "mimetype": "text/x-python",
   "name": "python",
   "nbconvert_exporter": "python",
   "pygments_lexer": "ipython3",
   "version": "3.8.12"
  }
 },
 "nbformat": 4,
 "nbformat_minor": 5
}
