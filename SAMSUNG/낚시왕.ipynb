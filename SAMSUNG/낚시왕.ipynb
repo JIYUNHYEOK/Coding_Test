{
 "cells": [
  {
   "cell_type": "markdown",
   "id": "f36dc8ff",
   "metadata": {},
   "source": [
    "# 낚시왕"
   ]
  },
  {
   "cell_type": "markdown",
   "id": "aad264c8",
   "metadata": {},
   "source": [
    "낚시왕이 상어 낚시를 하는 곳은 크기가 R×C인 격자판으로 나타낼 수 있다. 격자판의 각 칸은 (r, c)로 나타낼 수 있다. r은 행, c는 열이고, (R, C)는 아래 그림에서 가장 오른쪽 아래에 있는 칸이다. 칸에는 상어가 최대 한 마리 들어있을 수 있다. 상어는 크기와 속도를 가지고 있다."
   ]
  },
  {
   "cell_type": "markdown",
   "id": "42ef69e2",
   "metadata": {},
   "source": [
    "낚시왕은 처음에 1번 열의 한 칸 왼쪽에 있다. 다음은 1초 동안 일어나는 일이며, 아래 적힌 순서대로 일어난다. 낚시왕은 가장 오른쪽 열의 오른쪽 칸에 이동하면 이동을 멈춘다.\n",
    "\n",
    "1. 낚시왕이 오른쪽으로 한 칸 이동한다.\n",
    "2. 낚시왕이 있는 열에 있는 상어 중에서 땅과 제일 가까운 상어를 잡는다. 상어를 잡으면 격자판에서 잡은 상어가 사라진다.\n",
    "3. 상어가 이동한다.\n",
    "상어는 입력으로 주어진 속도로 이동하고, 속도의 단위는 칸/초이다. 상어가 이동하려고 하는 칸이 격자판의 경계를 넘는 경우에는 방향을 반대로 바꿔서 속력을 유지한채로 이동한다.\n",
    "\n",
    "왼쪽 그림의 상태에서 1초가 지나면 오른쪽 상태가 된다. 상어가 보고 있는 방향이 속도의 방향, 왼쪽 아래에 적힌 정수는 속력이다. 왼쪽 위에 상어를 구분하기 위해 문자를 적었다."
   ]
  },
  {
   "cell_type": "markdown",
   "id": "ef6cc006",
   "metadata": {},
   "source": [
    "상어가 이동을 마친 후에 한 칸에 상어가 두 마리 이상 있을 수 있다. 이때는 크기가 가장 큰 상어가 나머지 상어를 모두 잡아먹는다.\n",
    "\n",
    "낚시왕이 상어 낚시를 하는 격자판의 상태가 주어졌을 때, 낚시왕이 잡은 상어 크기의 합을 구해보자."
   ]
  },
  {
   "cell_type": "markdown",
   "id": "70641bf6",
   "metadata": {},
   "source": [
    "첫째 줄에 격자판의 크기 R, C와 상어의 수 M이 주어진다. (2 ≤ R, C ≤ 100, 0 ≤ M ≤ R×C)\n",
    "\n",
    "둘째 줄부터 M개의 줄에 상어의 정보가 주어진다. 상어의 정보는 다섯 정수 r, c, s, d, z (1 ≤ r ≤ R, 1 ≤ c ≤ C, 0 ≤ s ≤ 1000, 1 ≤ d ≤ 4, 1 ≤ z ≤ 10000) 로 이루어져 있다. (r, c)는 상어의 위치, s는 속력, d는 이동 방향, z는 크기이다. d가 1인 경우는 위, 2인 경우는 아래, 3인 경우는 오른쪽, 4인 경우는 왼쪽을 의미한다.\n",
    "\n",
    "두 상어가 같은 크기를 갖는 경우는 없고, 하나의 칸에 둘 이상의 상어가 있는 경우는 없다."
   ]
  },
  {
   "cell_type": "markdown",
   "id": "e18d74d2",
   "metadata": {},
   "source": [
    "낚시왕이 잡은 상어 크기의 합을 출력한다.\n",
    "\n"
   ]
  },
  {
   "cell_type": "code",
   "execution_count": 1,
   "id": "c337fa83",
   "metadata": {},
   "outputs": [
    {
     "name": "stdout",
     "output_type": "stream",
     "text": [
      "4 6 8\n",
      "4 1 3 3 8\n",
      "1 3 5 2 9\n",
      "2 4 8 4 1\n",
      "4 5 0 1 4\n",
      "3 3 1 2 7\n",
      "1 5 8 4 3\n",
      "3 6 2 1 2\n",
      "2 2 2 3 5\n",
      "22\n"
     ]
    }
   ],
   "source": [
    "r, c, m = map(int, input().split())                                                   \n",
    "# 북 - 남 - 동 - 서                                                                       \n",
    "dx = [-1, 1, 0, 0]                                                                    \n",
    "dy = [0, 0, 1, -1]                                                                    \n",
    "                                                                                      \n",
    "graph = [[[] for _ in range(c)] for _ in range(r)]                                    \n",
    "                                                                                      \n",
    "for _ in range(m):                                                                    \n",
    "    x, y, s, d, z = map(int, input().split())                                         \n",
    "    graph[x-1][y-1].append([z, s, d-1])                                               \n",
    "                                                                                      \n",
    "def moving():                                                                         \n",
    "    g = [[[] for _ in range(c)] for _ in range(r)]                                    \n",
    "    for i in range(r):                                                                \n",
    "        for j in range(c):                                                            \n",
    "            if graph[i][j]:                                                           \n",
    "                x, y = i, j                                                           \n",
    "                z, s, d = graph[i][j][0]                                              \n",
    "                s_count = s                                                           \n",
    "                while s_count > 0:                                                    \n",
    "                    nx = x + dx[d]                                                    \n",
    "                    ny = y + dy[d]                                                    \n",
    "                    if 0 > nx or nx >= r or ny < 0 or ny >= c:                        \n",
    "                        if d in [0, 2]:                                               \n",
    "                            d += 1                                                    \n",
    "                        elif d in [1, 3]:                                             \n",
    "                            d -= 1                                                    \n",
    "                        continue                                                      \n",
    "                    else:                                                             \n",
    "                        x, y = nx, ny                                                 \n",
    "                        s_count -= 1                                                  \n",
    "                g[x][y].append([z, s, d])                                             \n",
    "    for i in range(r):                                                                \n",
    "        for j in range(c):                                                            \n",
    "            graph[i][j] = g[i][j]                                                     \n",
    "                                                                                      \n",
    "eat_count = 0                                                                         \n",
    "                                                                                      \n",
    "for i in range(c):                                                                    \n",
    "    for j in range(r):                                                                \n",
    "        if graph[j][i]:                                                               \n",
    "            value = graph[j][i][0]                                                    \n",
    "            eat_count += value[0]                                                     \n",
    "            graph[j][i].remove(value)                                                 \n",
    "            break                                                                     \n",
    "                                                                                      \n",
    "    moving()                                                                          \n",
    "                                                                                      \n",
    "    for p in range(r):                                                                \n",
    "        for q in range(c):                                                            \n",
    "            if len(graph[p][q]) >= 2:                                                 \n",
    "                graph[p][q].sort(reverse=True)                                        \n",
    "                while len(graph[p][q]) >= 2:                                          \n",
    "                    graph[p][q].pop()                                                 \n",
    "                                                                                      \n",
    "                                                                                      \n",
    "print(eat_count)"
   ]
  }
 ],
 "metadata": {
  "kernelspec": {
   "display_name": "Python3.8_spare",
   "language": "python",
   "name": "spare"
  },
  "language_info": {
   "codemirror_mode": {
    "name": "ipython",
    "version": 3
   },
   "file_extension": ".py",
   "mimetype": "text/x-python",
   "name": "python",
   "nbconvert_exporter": "python",
   "pygments_lexer": "ipython3",
   "version": "3.8.12"
  }
 },
 "nbformat": 4,
 "nbformat_minor": 5
}
