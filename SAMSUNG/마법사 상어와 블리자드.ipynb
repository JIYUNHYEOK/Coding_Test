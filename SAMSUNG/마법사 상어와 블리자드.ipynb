{
 "cells": [
  {
   "cell_type": "markdown",
   "id": "f2c56963",
   "metadata": {},
   "source": [
    "# 마법사 상어와 블리자드"
   ]
  },
  {
   "cell_type": "markdown",
   "id": "47fd0890",
   "metadata": {},
   "source": [
    "마법사 상어는 파이어볼, 토네이도, 파이어스톰, 물복사버그, 비바라기 마법을 할 수 있다. 오늘 새로 배운 마법은 블리자드이고, 크기가 N×N인 격자에서 연습하려고 한다. N은 항상 홀수이고, (r, c)는 격자의 r행 c열을 의미한다. 격자의 가장 왼쪽 윗 칸은 (1, 1)이고, 가장 오른쪽 아랫 칸은 (N, N)이며 마법사 상어는 ((N+1)/2, (N+1)/2)에 있다.\n",
    "\n",
    "일부 칸과 칸 사이에는 벽이 세워져 있으며, 다음은 N = 3, 5, 7인 경우의 예시이다. 실선은 벽이고, 점선은 벽이 아니다. 칸에 적혀있는 수는 칸의 번호이다."
   ]
  },
  {
   "cell_type": "markdown",
   "id": "faf09495",
   "metadata": {},
   "source": [
    "가장 처음에 상어가 있는 칸을 제외한 나머지 칸에는 구슬이 하나 들어갈 수 있다. 구슬은 1번 구슬, 2번 구슬, 3번 구슬이 있다. 같은 번호를 가진 구슬이 번호가 연속하는 칸에 있으면, 그 구슬을 연속하는 구슬이라고 한다. 다음은 N = 7인 경우 예시이다. "
   ]
  },
  {
   "cell_type": "markdown",
   "id": "3a80b747",
   "metadata": {},
   "source": [
    "블리자드 마법을 시전하려면 방향 di와 거리 si를 정해야 한다. 총 4가지 방향 ↑, ↓, ←, →가 있고, 정수 1, 2, 3, 4로 나타낸다. 상어는 di 방향으로 거리가 si 이하인 모든 칸에 얼음 파편을 던져 그 칸에 있는 구슬을 모두 파괴한다. 구슬이 파괴되면 그 칸은 구슬이 들어있지 않은 빈 칸이 된다. 얼음 파편은 벽의 위로 떨어지기 때문에, 벽은 파괴되지 않는다.\n",
    "\n",
    "다음 예시는 방향은 아래, 거리는 2인 경우이다."
   ]
  },
  {
   "cell_type": "markdown",
   "id": "6ba38bda",
   "metadata": {},
   "source": [
    "만약 어떤 칸 A의 번호보다 번호가 하나 작은 칸이 빈 칸이면, A에 있는 구슬은 그 빈 칸으로 이동한다. 이 이동은 더 이상 구슬이 이동하지 않을 때까지 반복된다. 따라서, 구슬이 파괴된 후에는 빈 칸이 생겨 구슬이 이동하고, 구슬이 모두 이동한 결과는 다음과 같다."
   ]
  },
  {
   "cell_type": "markdown",
   "id": "a529eb92",
   "metadata": {},
   "source": [
    "이제 구슬이 폭발하는 단계이다. 폭발하는 구슬은 4개 이상 연속하는 구슬이 있을 때 발생한다. 다음은 왼쪽 그림은 위의 상태에서 폭발하는 구슬이 들어있는 칸을 파란색과 초록색으로 표시한 것이고, 오른쪽 그림은 구슬이 폭발한 후의 상태이다."
   ]
  },
  {
   "cell_type": "markdown",
   "id": "8a6f87ef",
   "metadata": {},
   "source": [
    "구슬이 폭발해 빈 칸이 생겼으니 다시 구슬이 이동한다. 구슬이 이동한 후에는 다시 구슬이 폭발하는 단계이고, 이 과정은 더 이상 폭발하는 구슬이 없을때까지 반복된다. 구슬이 폭발한 후의 상태에서 구슬이 이동하면 다음과 같다."
   ]
  },
  {
   "cell_type": "markdown",
   "id": "7886e2f0",
   "metadata": {},
   "source": [
    "위의 상태는 4개 이상 연속하는 구슬이 있기 때문에 구슬이 다시 폭발하게 된다."
   ]
  },
  {
   "cell_type": "markdown",
   "id": "1ccb93a3",
   "metadata": {},
   "source": [
    "이제 더 이상 폭발한 구슬이 없기 때문에, 구슬이 변화하는 단계가 된다. 연속하는 구슬은 하나의 그룹이라고 한다. 다음은 1번 구슬은 빨간색, 2번 구슬은 파란색, 3번 구슬은 보라색으로 표시한 그림이다."
   ]
  },
  {
   "cell_type": "markdown",
   "id": "1a8f6a7c",
   "metadata": {},
   "source": [
    "하나의 그룹은 두 개의 구슬 A와 B로 변한다. 구슬 A의 번호는 그룹에 들어있는 구슬의 개수이고, B는 그룹을 이루고 있는 구슬의 번호이다. 구슬은 다시 그룹의 순서대로 1번 칸부터 차례대로 A, B의 순서로 칸에 들어간다. 다음 그림은 구슬이 변화한 후이고, 색은 구분하기 위해 위의 그림에 있는 그룹의 색을 그대로 사용했다. 만약, 구슬이 칸의 수보다 많아 칸에 들어가지 못하는 경우 그러한 구슬은 사라진다."
   ]
  },
  {
   "cell_type": "markdown",
   "id": "07679469",
   "metadata": {},
   "source": [
    "마법사 상어는 블리자드를 총 M번 시전했다. 시전한 마법의 정보가 주어졌을 때, 1×(폭발한 1번 구슬의 개수) + 2×(폭발한 2번 구슬의 개수) + 3×(폭발한 3번 구슬의 개수)를 구해보자."
   ]
  },
  {
   "cell_type": "markdown",
   "id": "7b7a027b",
   "metadata": {},
   "source": [
    "첫째 줄에 N, M이 주어진다. 둘째 줄부터 N개의 줄에는 격자에 들어있는 구슬의 정보가 주어진다. r번째 행의 c번째 정수는 (r, c)에 들어있는 구슬의 번호를 의미한다. 어떤 칸에 구슬이 없으면 0이 주어진다. 상어가 있는 칸도 항상 0이 주어진다.\n",
    "\n",
    "다음 M개의 줄에는 블리자드 마법의 방향 di와 거리 si가 한 줄에 하나씩 마법을 시전한 순서대로 주어진다."
   ]
  },
  {
   "cell_type": "markdown",
   "id": "89292449",
   "metadata": {},
   "source": [
    "첫째 줄에 1×(폭발한 1번 구슬의 개수) + 2×(폭발한 2번 구슬의 개수) + 3×(폭발한 3번 구슬의 개수)를 출력한다."
   ]
  },
  {
   "cell_type": "code",
   "execution_count": 1,
   "id": "669e672b",
   "metadata": {},
   "outputs": [
    {
     "name": "stdout",
     "output_type": "stream",
     "text": [
      "7 4\n",
      "1 1 1 2 2 2 3\n",
      "1 2 2 1 2 2 3\n",
      "1 3 3 2 3 1 2\n",
      "1 2 2 0 3 2 2\n",
      "3 1 2 2 3 2 2\n",
      "3 1 2 1 1 2 1\n",
      "3 1 2 2 2 1 1\n",
      "1 3 \n",
      "2 2 \n",
      "3 1\n",
      "4 3\n",
      "39\n"
     ]
    }
   ],
   "source": [
    "# 하 우 상 좌\n",
    "dr = (0, 1, 0, -1, 0)\n",
    "dc = (0, 0, 1, 0, -1)\n",
    "\n",
    "# 0, 상, 하, 좌, 우\n",
    "bli_rc = [(0, 0), (-1, 0), (1, 0), (0, -1), (0, 1)]\n",
    "\n",
    "\n",
    "\n",
    "# 일렬 리스트 만들기\n",
    "def make_one_list():\n",
    "    current_r = (N // 2) + 1\n",
    "    current_c = (N // 2) + 1\n",
    "    move_num = 2\n",
    "    while current_c > 0:\n",
    "        for i in range(1, 5):\n",
    "            for j in range(move_num):\n",
    "                # 처음엔 왼쪽으로 이동\n",
    "                if i == 1 and j == 0:\n",
    "                    current_c -= 1\n",
    "                else:\n",
    "                    current_r += dr[i]\n",
    "                    current_c += dc[i]\n",
    "                one_list.append(blocks[current_r][current_c])\n",
    "        move_num += 2\n",
    "\n",
    "        if blocks[current_r][current_c + dc[i]] == 0:\n",
    "            break\n",
    "    return\n",
    "\n",
    "\n",
    "# blizrd 마법 이후 블록 재배치\n",
    "def make_blocks():\n",
    "    for i in range(N + 1):\n",
    "        for j in range(N + 1):\n",
    "            blocks[i][j] = 0\n",
    "\n",
    "    current_r = (N // 2) + 1\n",
    "    current_c = (N // 2) + 1\n",
    "    move_num = 2\n",
    "    one_list_idx = 0\n",
    "    length = len(one_list)\n",
    "    while current_c > 0:\n",
    "        for i in range(1, 5):\n",
    "            for j in range(move_num):\n",
    "                # 처음엔 왼쪽으로 이동\n",
    "                if i == 1 and j == 0:\n",
    "                    current_c -= 1\n",
    "                else:\n",
    "                    current_r += dr[i]\n",
    "                    current_c += dc[i]\n",
    "                if length <= one_list_idx:\n",
    "                    return\n",
    "                while one_list[one_list_idx] == 0:\n",
    "                    one_list_idx += 1\n",
    "                    if length <= one_list_idx:\n",
    "                        return\n",
    "                blocks[current_r][current_c] = one_list[one_list_idx]\n",
    "                one_list_idx += 1 \n",
    "        move_num += 2\n",
    "    return\n",
    "\n",
    "\n",
    "# 4개 연속이면 터뜨리기\n",
    "def pop_one_list():\n",
    "    global one_list\n",
    "    new_one_list = list()\n",
    "    bomb_check = 0\n",
    "    cnt = 1\n",
    "    temp = -1\n",
    "    for i in range(len(one_list)):\n",
    "        if one_list[i] != temp:\n",
    "            temp = one_list[i]\n",
    "            if cnt >= 4:\n",
    "                bomb_check = 1\n",
    "                bomb_num[new_one_list[-1]] += cnt\n",
    "                for _ in range(cnt):\n",
    "                    new_one_list.pop()\n",
    "            cnt = 0\n",
    "        new_one_list.append(one_list[i])\n",
    "        cnt += 1\n",
    "    if cnt >= 4:\n",
    "        bomb_check = 1\n",
    "        bomb_num[new_one_list[-1]] += cnt\n",
    "        for _ in range(cnt):\n",
    "            new_one_list.pop()\n",
    "    one_list = new_one_list[:]\n",
    "    return bomb_check\n",
    "\n",
    "\n",
    "# 구슬 변화(갯수, 번호)\n",
    "def evolution():\n",
    "    global blocks\n",
    "    current_r = (N // 2) + 1\n",
    "    current_c = (N // 2) + 1\n",
    "    move_num = 2\n",
    "    cnt = 0\n",
    "    bf_num = blocks[current_r][current_c - 1]\n",
    "    flag = 0\n",
    "    while current_c > 0:\n",
    "        for i in range(1, 5):\n",
    "            for j in range(move_num):\n",
    "                # 처음엔 왼쪽으로 이동\n",
    "                if i == 1 and j == 0:\n",
    "                    current_c -= 1\n",
    "                else:\n",
    "                    current_r += dr[i]\n",
    "                    current_c += dc[i]\n",
    "\n",
    "                if current_c <= 0 or current_r > N or blocks[current_r][current_c] == 0:\n",
    "                    flag = 1\n",
    "                    break\n",
    "\n",
    "                # 전후 숫자가 달라지면 visited 초기화 가능\n",
    "                if blocks[current_r][current_c] == bf_num:\n",
    "                    cnt += 1\n",
    "                elif blocks[current_r][current_c] != 0:\n",
    "                    evo_list.append(cnt)\n",
    "                    evo_list.append(bf_num)\n",
    "                    cnt = 1\n",
    "                    bf_num = blocks[current_r][current_c]\n",
    "                else:\n",
    "                    break\n",
    "            if flag == 1:\n",
    "                break\n",
    "        if flag == 1:\n",
    "            break\n",
    "        move_num += 2\n",
    "\n",
    "\n",
    "    evo_list.append(cnt)\n",
    "    evo_list.append(bf_num)\n",
    "    \n",
    "\n",
    "    # 블록 재배치\n",
    "    new_blocks = [[0] * (N + 1) for _ in range(N + 1)]\n",
    "\n",
    "    current_r = (N // 2) + 1\n",
    "    current_c = (N // 2) + 1\n",
    "    move_num = 2\n",
    "    evo_list_idx = 0\n",
    "    length = len(evo_list)\n",
    "    while current_c > 0:\n",
    "        for i in range(1, 5):\n",
    "            for j in range(move_num):\n",
    "                # 처음엔 왼쪽으로 이동\n",
    "                if i == 1 and j == 0:\n",
    "                    current_c -= 1\n",
    "                else:\n",
    "                    current_r += dr[i]\n",
    "                    current_c += dc[i]\n",
    "                if length <= evo_list_idx:\n",
    "                    break\n",
    "                if current_r <= 0 or current_c <= 0:\n",
    "                    blocks = new_blocks[:]\n",
    "                    return\n",
    "                new_blocks[current_r][current_c] = evo_list[evo_list_idx]\n",
    "                evo_list_idx += 1\n",
    "        move_num += 2\n",
    "    blocks = new_blocks[:]\n",
    "    return\n",
    "\n",
    "\n",
    "N, M = map(int, input().split())\n",
    "blocks = [[0] * (N + 1)] + [[0] + list(map(int, input().split())) for _ in range(N)]\n",
    "one_list = list()\n",
    "move_list = list()\n",
    "bomb_num = [0, 0, 0, 0]\n",
    "for _ in range(M):\n",
    "    temp_r, temp_c = map(int, input().split())\n",
    "    move_list.append([temp_r, temp_c])\n",
    "\n",
    "for blizard_d, blizard_s in move_list:\n",
    "    # blizard 마법\n",
    "    current_r = (N // 2) + 1\n",
    "    current_c = (N // 2) + 1\n",
    "    for _ in range(blizard_s):\n",
    "        current_r += bli_rc[blizard_d][0]\n",
    "        current_c += bli_rc[blizard_d][1]\n",
    "        blocks[current_r][current_c] = 0\n",
    "\n",
    "    one_list = list()\n",
    "    # blizard 마법 이후 일렬 리스트로 붙이기\n",
    "    make_one_list()\n",
    "\n",
    "    # blizard 마법 이후 블록 재배치\n",
    "    make_blocks()\n",
    "\n",
    "    one_list = list()\n",
    "    # 일렬 리스트 만들기\n",
    "    make_one_list()\n",
    "\n",
    "    again = 1\n",
    "    while again:\n",
    "        # 4개 연속이면 터뜨리기\n",
    "        again = pop_one_list()\n",
    "\n",
    "    # 블록 재배치\n",
    "    make_blocks()\n",
    "\n",
    "    evo_list = list()\n",
    "    # 구슬 변화(갯수, 번호)\n",
    "    evolution()\n",
    "\n",
    "ans = 0\n",
    "for i in range(1, 4):\n",
    "    ans += bomb_num[i] * i\n",
    "\n",
    "print(ans)"
   ]
  }
 ],
 "metadata": {
  "kernelspec": {
   "display_name": "Python3.8_spare",
   "language": "python",
   "name": "spare"
  },
  "language_info": {
   "codemirror_mode": {
    "name": "ipython",
    "version": 3
   },
   "file_extension": ".py",
   "mimetype": "text/x-python",
   "name": "python",
   "nbconvert_exporter": "python",
   "pygments_lexer": "ipython3",
   "version": "3.8.12"
  }
 },
 "nbformat": 4,
 "nbformat_minor": 5
}
