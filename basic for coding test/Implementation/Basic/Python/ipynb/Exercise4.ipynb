{
 "cells": [
  {
   "cell_type": "code",
   "execution_count": 1,
   "id": "3e6f3e7d",
   "metadata": {},
   "outputs": [
    {
     "name": "stdout",
     "output_type": "stream",
     "text": [
      "4 4\n",
      "1 1 0\n",
      "1 1 1 1\n",
      "1 0 0 1\n",
      "1 1 0 1\n",
      "1 1 1 1\n",
      "3\n"
     ]
    }
   ],
   "source": [
    "N, M = map(int, input().split())\n",
    "\n",
    "d = [[0] * M for _ in range(N)] # 방문한 위치를 저장하기 위한 지도 -> 0으로 초기화 // N행 M열\n",
    "\n",
    "x, y, direction = map(int, input().split()) # 현재 캐릭터의 X좌표, Y좌표, 방향 입력 받음\n",
    "d[x][y] = 1 # 현재 좌표 방문 처리\n",
    "\n",
    "array = [] \n",
    "for i in range(N):\n",
    "    array.append(list(map(int, input().split()))) # 전체 지도 정보를 입력 받음\n",
    "    \n",
    "# 북, 동, 남, 서 방향으로 방향 정의    \n",
    "dx = [-1, 0, 1, 0]\n",
    "dy = [0, 1, 0, -1]\n",
    "\n",
    "def turn_left():\n",
    "    global direction # 전역변수 direction 사용\n",
    "    direction -= 1\n",
    "    if direction == -1:\n",
    "        direction = 3\n",
    "        \n",
    "count = 1\n",
    "turn_time = 0\n",
    "\n",
    "while True:\n",
    "    turn_left() # 왼쪽으로 회전\n",
    "    nx = x + dx[direction]\n",
    "    ny = y + dy[direction]\n",
    "    \n",
    "    if d[nx][ny] == 0 and array[nx][ny] == 0: # 회전한 후에 가보지 않은 칸이 존재하는 경우 이동\n",
    "        d[nx][ny] = 1\n",
    "        x = nx\n",
    "        y = ny\n",
    "        count += 1\n",
    "        turn_time = 0\n",
    "        continue\n",
    "    else: # 회전한 후에 가보지 않은 칸이 없거나 바다인 경우\n",
    "        turn_time += 1\n",
    "        \n",
    "    if turn_time == 4: # 네 방향 모두 갈 수가 없는 경우\n",
    "        nx = x - dx[direction]\n",
    "        ny = y - dy[direction]\n",
    "        \n",
    "        if array[nx][ny] == 0: # 뒤로 이동할 수 있다면 이동\n",
    "            x = nx\n",
    "            y = ny\n",
    "        else:\n",
    "            break\n",
    "        \n",
    "        turn_time = 0\n",
    "        \n",
    "print(count)"
   ]
  }
 ],
 "metadata": {
  "kernelspec": {
   "display_name": "Python3.8_spare",
   "language": "python",
   "name": "spare"
  },
  "language_info": {
   "codemirror_mode": {
    "name": "ipython",
    "version": 3
   },
   "file_extension": ".py",
   "mimetype": "text/x-python",
   "name": "python",
   "nbconvert_exporter": "python",
   "pygments_lexer": "ipython3",
   "version": "3.8.12"
  }
 },
 "nbformat": 4,
 "nbformat_minor": 5
}
