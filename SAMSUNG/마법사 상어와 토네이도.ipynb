{
 "cells": [
  {
   "cell_type": "markdown",
   "id": "089b680c",
   "metadata": {},
   "source": [
    "# 마법사 상어와 토네이도"
   ]
  },
  {
   "cell_type": "markdown",
   "id": "98dc9ee2",
   "metadata": {},
   "source": [
    "마법사 상어가 토네이도를 배웠고, 오늘은 토네이도를 크기가 N×N인 격자로 나누어진 모래밭에서 연습하려고 한다. 위치 (r, c)는 격자의 r행 c열을 의미하고, A[r][c]는 (r, c)에 있는 모래의 양을 의미한다.\n",
    "\n",
    "토네이도를 시전하면 격자의 가운데 칸부터 토네이도의 이동이 시작된다. 토네이도는 한 번에 한 칸 이동한다. 다음은 N = 7인 경우 토네이도의 이동이다."
   ]
  },
  {
   "cell_type": "markdown",
   "id": "3fcf349b",
   "metadata": {},
   "source": [
    "토네이도가 한 칸 이동할 때마다 모래는 다음과 같이 일정한 비율로 흩날리게 된다."
   ]
  },
  {
   "cell_type": "markdown",
   "id": "e3697844",
   "metadata": {},
   "source": [
    "토네이도가 x에서 y로 이동하면, y의 모든 모래가 비율과 α가 적혀있는 칸으로 이동한다. 비율이 적혀있는 칸으로 이동하는 모래의 양은 y에 있는 모래의 해당 비율만큼이고, 계산에서 소수점 아래는 버린다. α로 이동하는 모래의 양은 비율이 적혀있는 칸으로 이동하지 않은 남은 모래의 양과 같다. 모래가 이미 있는 칸으로 모래가 이동하면, 모래의 양은 더해진다. 위의 그림은 토네이도가 왼쪽으로 이동할 때이고, 다른 방향으로 이동하는 경우는 위의 그림을 해당 방향으로 회전하면 된다.\n",
    "\n",
    "토네이도는 (1, 1)까지 이동한 뒤 소멸한다. 모래가 격자의 밖으로 이동할 수도 있다. 토네이도가 소멸되었을 때, 격자의 밖으로 나간 모래의 양을 구해보자."
   ]
  },
  {
   "cell_type": "markdown",
   "id": "9b7627f8",
   "metadata": {},
   "source": [
    "첫째 줄에 격자의 크기 N이 주어진다. 둘째 줄부터 N개의 줄에는 격자의 각 칸에 있는 모래가 주어진다. r번째 줄에서 c번째 주어지는 정수는 A[r][c] 이다."
   ]
  },
  {
   "cell_type": "markdown",
   "id": "82602d88",
   "metadata": {},
   "source": [
    "격자의 밖으로 나간 모래의 양을 출력한다."
   ]
  },
  {
   "cell_type": "code",
   "execution_count": 1,
   "id": "363ed612",
   "metadata": {},
   "outputs": [
    {
     "name": "stdout",
     "output_type": "stream",
     "text": [
      "5\n",
      "0 0 0 0 0\n",
      "0 0 0 0 0\n",
      "0 100 0 0 0\n",
      "0 0 0 0 0\n",
      "0 0 0 0 0\n",
      "85\n"
     ]
    }
   ],
   "source": [
    "# 격자의 크기 n\n",
    "n = int(input())\n",
    "\n",
    "# 격자의 각 칸에 있는 모래 board에 저장\n",
    "board = [list(map(int, input().split())) for _ in range(n)]\n",
    "\n",
    "init = {'sx': n//2, 'sy': n//2, 'res': 0}\n",
    "\n",
    "left = [(-2, 0, 0.02), (2, 0, 0.02), (-1, -1, 0.1), (-1, 0, 0.07), (-1, 1, 0.01), (1, -1, 0.1), (1, 0, 0.07), (1, 1, 0.01), (0, -2, 0.05), (0, -1, 0)] \n",
    "right = [(x, -y, z) for x, y, z in left] \n",
    "down = [(-y, x, z) for x, y, z in left] \n",
    "up = [(-x, y, z) for x, y, z in down] \n",
    "\n",
    "rate = {'left': left, 'right': right, 'down': down, 'up': up}\n",
    "\n",
    "def move(cnt, dx, dy, direction):\n",
    "    for _ in range(cnt+1):\n",
    "        sx, sy = init['sx'] + dx, init['sy'] + dy\n",
    "        init['sx'], init['sy'] = sx, sy\n",
    "        \n",
    "        if sx < 0 or sy < 0:\n",
    "            break\n",
    "            \n",
    "        spreads = 0\n",
    "        \n",
    "        for dx, dy, r in rate[direction]:\n",
    "            nx = sx + dx\n",
    "            ny = sy + dy\n",
    "            \n",
    "            if r == 0:\n",
    "                sand = board[sx][sy] - spreads\n",
    "            else:\n",
    "                sand = int(board[sx][sy]*r)\n",
    "                \n",
    "            if 0 <= nx < n and 0 <= ny < n:\n",
    "                board[nx][ny] += sand\n",
    "            else:\n",
    "                init['res'] += sand\n",
    "                \n",
    "            spreads += sand\n",
    "            \n",
    "for i in range(n):\n",
    "    if i % 2 == 0:\n",
    "        move(i, 0, -1, 'left') \n",
    "        move(i, 1, 0, 'down') \n",
    "    else: \n",
    "        move(i, 0, 1, 'right') \n",
    "        move(i, -1, 0, 'up') \n",
    "        \n",
    "print(init['res'])"
   ]
  }
 ],
 "metadata": {
  "kernelspec": {
   "display_name": "Python3.8_spare",
   "language": "python",
   "name": "spare"
  },
  "language_info": {
   "codemirror_mode": {
    "name": "ipython",
    "version": 3
   },
   "file_extension": ".py",
   "mimetype": "text/x-python",
   "name": "python",
   "nbconvert_exporter": "python",
   "pygments_lexer": "ipython3",
   "version": "3.8.12"
  }
 },
 "nbformat": 4,
 "nbformat_minor": 5
}
