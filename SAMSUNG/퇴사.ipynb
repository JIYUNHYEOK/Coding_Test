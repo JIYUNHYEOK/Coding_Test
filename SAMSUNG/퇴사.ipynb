{
 "cells": [
  {
   "cell_type": "markdown",
   "id": "0f3946e9",
   "metadata": {},
   "source": [
    "# 퇴사"
   ]
  },
  {
   "cell_type": "markdown",
   "id": "c4103ba3",
   "metadata": {},
   "source": [
    "상담원으로 일하고 있는 백준이는 퇴사를 하려고 한다.\n",
    "\n",
    "오늘부터 N+1일째 되는 날 퇴사를 하기 위해서, 남은 N일 동안 최대한 많은 상담을 하려고 한다.\n",
    "\n",
    "백준이는 비서에게 최대한 많은 상담을 잡으라고 부탁을 했고, 비서는 하루에 하나씩 서로 다른 사람의 상담을 잡아놓았다.\n",
    "\n",
    "각각의 상담은 상담을 완료하는데 걸리는 기간 Ti와 상담을 했을 때 받을 수 있는 금액 Pi로 이루어져 있다.\n",
    "\n",
    "N = 7인 경우에 다음과 같은 상담 일정표를 보자."
   ]
  },
  {
   "cell_type": "markdown",
   "id": "c5a8370c",
   "metadata": {},
   "source": [
    "1일에 잡혀있는 상담은 총 3일이 걸리며, 상담했을 때 받을 수 있는 금액은 10이다. 5일에 잡혀있는 상담은 총 2일이 걸리며, 받을 수 있는 금액은 15이다.\n",
    "\n",
    "상담을 하는데 필요한 기간은 1일보다 클 수 있기 때문에, 모든 상담을 할 수는 없다. 예를 들어서 1일에 상담을 하게 되면, 2일, 3일에 있는 상담은 할 수 없게 된다. 2일에 있는 상담을 하게 되면, 3, 4, 5, 6일에 잡혀있는 상담은 할 수 없다.\n",
    "\n",
    "또한, N+1일째에는 회사에 없기 때문에, 6, 7일에 있는 상담을 할 수 없다.\n",
    "\n",
    "퇴사 전에 할 수 있는 상담의 최대 이익은 1일, 4일, 5일에 있는 상담을 하는 것이며, 이때의 이익은 10+20+15=45이다.\n",
    "\n",
    "상담을 적절히 했을 때, 백준이가 얻을 수 있는 최대 수익을 구하는 프로그램을 작성하시오."
   ]
  },
  {
   "cell_type": "markdown",
   "id": "e2831d2f",
   "metadata": {},
   "source": [
    "첫째 줄에 N (1 ≤ N ≤ 15)이 주어진다.\n",
    "\n",
    "둘째 줄부터 N개의 줄에 Ti와 Pi가 공백으로 구분되어서 주어지며, 1일부터 N일까지 순서대로 주어진다. (1 ≤ Ti ≤ 5, 1 ≤ Pi ≤ 1,000)"
   ]
  },
  {
   "cell_type": "code",
   "execution_count": 1,
   "id": "959f6651",
   "metadata": {},
   "outputs": [
    {
     "name": "stdout",
     "output_type": "stream",
     "text": [
      "7\n",
      "3 10\n",
      "5 20\n",
      "1 10\n",
      "1 20\n",
      "2 15\n",
      "4 40\n",
      "2 200\n",
      "45\n"
     ]
    }
   ],
   "source": [
    "n = int(input())\n",
    "\n",
    "timetable = [list(map(int, input().split())) for _ in range(n)]\n",
    "\n",
    "# 인덱스초과 오류 방지를 위해 크기를 n+1로 설정\n",
    "dp = [0 for _ in range(n+1)]\n",
    "\n",
    "for i in range(n-1,-1,-1):\n",
    "    # 상담을 진행 시, 퇴사일을 넘기는 경우\n",
    "    if i + timetable[i][0] > n:\n",
    "        dp[i] = dp[i+1]\n",
    "    # 상담 진행 할 경우\n",
    "    else:\n",
    "    # 상담 진행시, 현재 비용 + 상담 끝난 이후의 비용 합산과, 상담 진행 하지 않을 경우 비교\n",
    "        dp[i] = max(timetable[i][1] + dp[i+timetable[i][0]], dp[i+1])\n",
    "\n",
    "print(dp[0])"
   ]
  }
 ],
 "metadata": {
  "kernelspec": {
   "display_name": "Python3.8_spare",
   "language": "python",
   "name": "spare"
  },
  "language_info": {
   "codemirror_mode": {
    "name": "ipython",
    "version": 3
   },
   "file_extension": ".py",
   "mimetype": "text/x-python",
   "name": "python",
   "nbconvert_exporter": "python",
   "pygments_lexer": "ipython3",
   "version": "3.8.12"
  }
 },
 "nbformat": 4,
 "nbformat_minor": 5
}
