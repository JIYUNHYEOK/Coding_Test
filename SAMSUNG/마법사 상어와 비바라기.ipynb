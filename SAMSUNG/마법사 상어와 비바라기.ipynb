{
 "cells": [
  {
   "cell_type": "markdown",
   "id": "d6f1d2d0",
   "metadata": {},
   "source": [
    "# 마법사 상어와 비바라기"
   ]
  },
  {
   "cell_type": "markdown",
   "id": "9a404031",
   "metadata": {},
   "source": [
    "마법사 상어는 파이어볼, 토네이도, 파이어스톰, 물복사버그 마법을 할 수 있다. 오늘 새로 배운 마법은 비바라기이다. 비바라기를 시전하면 하늘에 비구름을 만들 수 있다. 오늘은 비바라기를 크기가 N×N인 격자에서 연습하려고 한다. 격자의 각 칸에는 바구니가 하나 있고, 바구니는 칸 전체를 차지한다. 바구니에 저장할 수 있는 물의 양에는 제한이 없다. (r, c)는 격자의 r행 c열에 있는 바구니를 의미하고, A[r][c]는 (r, c)에 있는 바구니에 저장되어 있는 물의 양을 의미한다.\n",
    "\n",
    "격자의 가장 왼쪽 윗 칸은 (1, 1)이고, 가장 오른쪽 아랫 칸은 (N, N)이다. 마법사 상어는 연습을 위해 1번 행과 N번 행을 연결했고, 1번 열과 N번 열도 연결했다. 즉, N번 행의 아래에는 1번 행이, 1번 행의 위에는 N번 행이 있고, 1번 열의 왼쪽에는 N번 열이, N번 열의 오른쪽에는 1번 열이 있다.\n",
    "\n",
    "비바라기를 시전하면 (N, 1), (N, 2), (N-1, 1), (N-1, 2)에 비구름이 생긴다. 구름은 칸 전체를 차지한다. 이제 구름에 이동을 M번 명령하려고 한다. i번째 이동 명령은 방향 di과 거리 si로 이루어져 있다. 방향은 총 8개의 방향이 있으며, 8개의 정수로 표현한다. 1부터 순서대로 ←, ↖, ↑, ↗, →, ↘, ↓, ↙ 이다. 이동을 명령하면 다음이 순서대로 진행된다.\n",
    "\n",
    "1. 모든 구름이 di 방향으로 si칸 이동한다.\n",
    "2. 각 구름에서 비가 내려 구름이 있는 칸의 바구니에 저장된 물의 양이 1 증가한다.\n",
    "3. 구름이 모두 사라진다.\n",
    "4. 2에서 물이 증가한 칸 (r, c)에 물복사버그 마법을 시전한다. 물복사버그 마법을 사용하면, 대각선 방향으로 거리가 1인 칸에 물이 있는 바구니의 수만큼 (r, c)에 있는 바구니의 물이 양이 증가한다.\n",
    "    - 이때는 이동과 다르게 경계를 넘어가는 칸은 대각선 방향으로 거리가 1인 칸이 아니다.\n",
    "    - 예를 들어, (N, 2)에서 인접한 대각선 칸은 (N-1, 1), (N-1, 3)이고, (N, N)에서 인접한 대각선 칸은 (N-1, N-1)뿐이다.\n",
    "5. 바구니에 저장된 물의 양이 2 이상인 모든 칸에 구름이 생기고, 물의 양이 2 줄어든다. 이때 구름이 생기는 칸은 3에서 구름이 사라진 칸이 아니어야 한다.\n",
    "M번의 이동이 모두 끝난 후 바구니에 들어있는 물의 양의 합을 구해보자."
   ]
  },
  {
   "cell_type": "markdown",
   "id": "07afd0cb",
   "metadata": {},
   "source": [
    "첫째 줄에 N, M이 주어진다.\n",
    "\n",
    "둘째 줄부터 N개의 줄에는 N개의 정수가 주어진다. r번째 행의 c번째 정수는 A[r][c]를 의미한다.\n",
    "\n",
    "다음 M개의 줄에는 이동의 정보 di, si가 순서대로 한 줄에 하나씩 주어진다."
   ]
  },
  {
   "cell_type": "markdown",
   "id": "f959720a",
   "metadata": {},
   "source": [
    "첫째 줄에 M번의 이동이 모두 끝난 후 바구니에 들어있는 물의 양의 합을 출력한다."
   ]
  },
  {
   "cell_type": "code",
   "execution_count": 1,
   "id": "f291d9e9",
   "metadata": {},
   "outputs": [
    {
     "name": "stdout",
     "output_type": "stream",
     "text": [
      "5 4\n",
      "0 0 1 0 2\n",
      "2 3 2 1 0\n",
      "4 3 2 9 0\n",
      "1 0 2 9 0\n",
      "8 8 2 1 0\n",
      "1 3\n",
      "3 4\n",
      "8 1\n",
      "4 8\n",
      "77\n"
     ]
    }
   ],
   "source": [
    "n, m = map(int, input().split())\n",
    "arr = [list(map(int, input().split())) for _ in range(n)]\n",
    "moves = []\n",
    "    \n",
    "for _ in range(m):\n",
    "    tmp = list(map(int, input().split()))\n",
    "    # 방향이 1부터 설정되어 있기 때문에 인덱스를 맞춰주기 위해서\n",
    "    moves.append([tmp[0]-1, tmp[1]])\n",
    "    \n",
    "clouds = [[n-2,0], [n-2,1], [n-1,0], [n-1,1]]\n",
    "\n",
    "dx = [0, -1, -1, -1, 0, 1, 1, 1]\n",
    "dy = [-1, -1, 0, 1, 1, 1, 0, -1]\n",
    "\n",
    "for i in range(m):\n",
    "    move = moves[i]\n",
    "    next_clouds = []\n",
    "    \n",
    "    # 모든 구름이 d 방향으로 s칸 이동\n",
    "    for cloud in clouds:\n",
    "        x = cloud[0]\n",
    "        y = cloud[1]\n",
    "        d = move[0]\n",
    "        s = move[1]\n",
    "        \n",
    "        nx = (n + x + dx[d] * s) % n\n",
    "        ny = (n + y + dy[d] * s) % n\n",
    "        next_clouds.append([nx, ny])\n",
    "    \n",
    "    # 각 구름에서 비가 내려 구름이 있는 칸의 바구니에 저장된 물의 양이 1 증가\n",
    "    visit = [[False]*n for _ in range(n)]\n",
    "    for cloud in next_clouds:\n",
    "        x = cloud[0]\n",
    "        y = cloud[1]\n",
    "        arr[x][y] += 1\n",
    "        visit[x][y] = True\n",
    "    \n",
    "    # 구름이 모두 사라짐\n",
    "    clouds = []\n",
    "    \n",
    "    # 물복사버그 마법\n",
    "    cx = [-1, -1, 1, 1]\n",
    "    cy = [-1, 1, -1, 1]\n",
    "    \n",
    "    for cloud in next_clouds:\n",
    "        x = cloud[0]\n",
    "        y = cloud[1]\n",
    "        count = 0\n",
    "        \n",
    "        for i in range(4):\n",
    "            nx = x + cx[i]\n",
    "            ny = y + cy[i]\n",
    "            \n",
    "            # 대각선 방향으로 거리가 1인 칸에 물이 있는 바구니의 수만큼 (r, c)에 있는 바구니의 물이 양이 증가\n",
    "            # 경계를 넘어가는 칸은 대각선 방향으로 거리가 1인 칸이 아니다\n",
    "            if nx >= 0 and nx < n and ny >= 0 and ny < n and arr[nx][ny] >= 1:\n",
    "                count += 1\n",
    "            \n",
    "        arr[x][y] += count\n",
    "        \n",
    "    # 바구니에 저장된 물의 양이 2 이상인 모든 칸에 구름이 생기고, 물의 양이 2 줄어든다. \n",
    "    # 이때 구름이 생기는 칸은 3에서 구름이 사라진 칸이 아니어야 한다.\n",
    "    for i in range(n):\n",
    "        for j in range(n):\n",
    "            if arr[i][j] >= 2 and visit[i][j] == False:\n",
    "                arr[i][j] -= 2\n",
    "                clouds.append([i, j])\n",
    "                \n",
    "ans = 0\n",
    "for i in range(n):\n",
    "    ans += sum(arr[i])\n",
    "                \n",
    "print(ans)"
   ]
  }
 ],
 "metadata": {
  "kernelspec": {
   "display_name": "Python3.8_spare",
   "language": "python",
   "name": "spare"
  },
  "language_info": {
   "codemirror_mode": {
    "name": "ipython",
    "version": 3
   },
   "file_extension": ".py",
   "mimetype": "text/x-python",
   "name": "python",
   "nbconvert_exporter": "python",
   "pygments_lexer": "ipython3",
   "version": "3.8.12"
  }
 },
 "nbformat": 4,
 "nbformat_minor": 5
}
