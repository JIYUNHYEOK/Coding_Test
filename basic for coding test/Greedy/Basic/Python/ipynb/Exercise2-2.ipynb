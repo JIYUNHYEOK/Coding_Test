{
 "cells": [
  {
   "cell_type": "code",
   "execution_count": 1,
   "id": "54e2f498",
   "metadata": {},
   "outputs": [
    {
     "name": "stdout",
     "output_type": "stream",
     "text": [
      "5 8 3\n",
      "2 4 5 4 6\n",
      "46\n"
     ]
    }
   ],
   "source": [
    "N, M, K = map(int, input().split()) # 배열의 크기, 숫자가 더해지는 횟수, 연속으로 더할 수 있는 최대 횟수\n",
    "data = list(map(int, input().split()))\n",
    "\n",
    "data.sort()\n",
    "\n",
    "max1 = data[N-1]\n",
    "max2 = data[N-2]\n",
    "\n",
    "# 가장 큰 수 K번 + 두번째로 큰 수 1번 이 1세트라고 가정할 때, 전체 횟수를 (K+1)로 나누고, K번 곱하면 가장 큰 수가 더해지는 횟수 \n",
    "count = (M // (K+1)) * K \n",
    "# 만약 M이 K+1로 나누어 떨어지지 않을 경우는 나머지 만큼 가장 큰 수가 더해짐\n",
    "count += M % (K+1)\n",
    "\n",
    "result = 0\n",
    "result += count * max1 # 가장 큰 수가 더해지는 횟수 계산\n",
    "result += (M-count) * max2 # 전체 횟수에서 가장 큰 수가 더해지는 횟수를 제외한다면, 두번째로 큰 수가 더해질 경우를 계산할 수 있음\n",
    "\n",
    "print(result)"
   ]
  }
 ],
 "metadata": {
  "kernelspec": {
   "display_name": "Python 3 (ipykernel)",
   "language": "python",
   "name": "python3"
  },
  "language_info": {
   "codemirror_mode": {
    "name": "ipython",
    "version": 3
   },
   "file_extension": ".py",
   "mimetype": "text/x-python",
   "name": "python",
   "nbconvert_exporter": "python",
   "pygments_lexer": "ipython3",
   "version": "3.9.7"
  }
 },
 "nbformat": 4,
 "nbformat_minor": 5
}
