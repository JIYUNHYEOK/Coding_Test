{
 "cells": [
  {
   "cell_type": "markdown",
   "id": "89921b6b",
   "metadata": {},
   "source": [
    "# 새로운 게임 2"
   ]
  },
  {
   "cell_type": "markdown",
   "id": "c721a698",
   "metadata": {},
   "source": [
    "재현이는 주변을 살펴보던 중 체스판과 말을 이용해서 새로운 게임을 만들기로 했다. 새로운 게임은 크기가 N×N인 체스판에서 진행되고, 사용하는 말의 개수는 K개이다. 말은 원판모양이고, 하나의 말 위에 다른 말을 올릴 수 있다. 체스판의 각 칸은 흰색, 빨간색, 파란색 중 하나로 색칠되어있다.\n",
    "\n",
    "게임은 체스판 위에 말 K개를 놓고 시작한다. 말은 1번부터 K번까지 번호가 매겨져 있고, 이동 방향도 미리 정해져 있다. 이동 방향은 위, 아래, 왼쪽, 오른쪽 4가지 중 하나이다.\n",
    "\n",
    "턴 한 번은 1번 말부터 K번 말까지 순서대로 이동시키는 것이다. 한 말이 이동할 때 위에 올려져 있는 말도 함께 이동한다. 말의 이동 방향에 있는 칸에 따라서 말의 이동이 다르며 아래와 같다. 턴이 진행되던 중에 말이 4개 이상 쌓이는 순간 게임이 종료된다.\n",
    "\n",
    "- A번 말이 이동하려는 칸이\n",
    "    - 흰색인 경우에는 그 칸으로 이동한다. 이동하려는 칸에 말이 이미 있는 경우에는 가장 위에 A번 말을 올려놓는다.\n",
    "        - A번 말의 위에 다른 말이 있는 경우에는 A번 말과 위에 있는 모든 말이 이동한다.\n",
    "        - 예를 들어, A, B, C로 쌓여있고, 이동하려는 칸에 D, E가 있는 경우에는 A번 말이 이동한 후에는 D, E, A, B, C가 된다.\n",
    "    - 빨간색인 경우에는 이동한 후에 A번 말과 그 위에 있는 모든 말의 쌓여있는 순서를 반대로 바꾼다.\n",
    "        - A, B, C가 이동하고, 이동하려는 칸에 말이 없는 경우에는 C, B, A가 된다.\n",
    "        - A, D, F, G가 이동하고, 이동하려는 칸에 말이 E, C, B로 있는 경우에는 E, C, B, G, F, D, A가 된다.\n",
    "    - 파란색인 경우에는 A번 말의 이동 방향을 반대로 하고 한 칸 이동한다. 방향을 반대로 바꾼 후에 이동하려는 칸이 파란색인 경우에는 이동하지 않고 가만히 있는다.\n",
    "    - 체스판을 벗어나는 경우에는 파란색과 같은 경우이다.\n",
    "다음은 크기가 4×4인 체스판 위에 말이 4개 있는 경우이다."
   ]
  },
  {
   "cell_type": "markdown",
   "id": "4f5974ff",
   "metadata": {},
   "source": [
    "체스판의 크기와 말의 위치, 이동 방향이 모두 주어졌을 때, 게임이 종료되는 턴의 번호를 구해보자."
   ]
  },
  {
   "cell_type": "markdown",
   "id": "b7544edd",
   "metadata": {},
   "source": [
    "첫째 줄에 체스판의 크기 N, 말의 개수 K가 주어진다. 둘째 줄부터 N개의 줄에 체스판의 정보가 주어진다. 체스판의 정보는 정수로 이루어져 있고, 각 정수는 칸의 색을 의미한다. 0은 흰색, 1은 빨간색, 2는 파란색이다.\n",
    "\n",
    "다음 K개의 줄에 말의 정보가 1번 말부터 순서대로 주어진다. 말의 정보는 세 개의 정수로 이루어져 있고, 순서대로 행, 열의 번호, 이동 방향이다. 행과 열의 번호는 1부터 시작하고, 이동 방향은 4보다 작거나 같은 자연수이고 1부터 순서대로 →, ←, ↑, ↓의 의미를 갖는다.\n",
    "\n",
    "같은 칸에 말이 두 개 이상 있는 경우는 입력으로 주어지지 않는다."
   ]
  },
  {
   "cell_type": "markdown",
   "id": "1f687166",
   "metadata": {},
   "source": [
    "게임이 종료되는 턴의 번호를 출력한다. 그 값이 1,000보다 크거나 절대로 게임이 종료되지 않는 경우에는 -1을 출력한다."
   ]
  },
  {
   "cell_type": "code",
   "execution_count": 1,
   "id": "809f8dd0",
   "metadata": {},
   "outputs": [
    {
     "name": "stdout",
     "output_type": "stream",
     "text": [
      "4 4\n",
      "0 0 2 0\n",
      "0 0 1 0\n",
      "0 0 1 2\n",
      "0 2 0 0\n",
      "2 1 1\n",
      "3 2 3\n",
      "2 2 1\n",
      "4 1 2\n",
      "-1\n"
     ]
    }
   ],
   "source": [
    "n, k = map(int, input().split())\n",
    "board = [list(map(int, input().split())) for _ in range(n)]\n",
    "chess = [[[] for _ in range(n)] for _ in range(n)]\n",
    "# 동 - 서 - 북 - 남\n",
    "dx = [0, 0, -1, 1]\n",
    "dy = [1, -1, 0, 0]\n",
    "horse = []\n",
    "\n",
    "for i in range(k):\n",
    "    x, y, d = map(int, input().split())\n",
    "    horse.append([x-1, y-1, d-1])\n",
    "    chess[x-1][y-1].append(i)\n",
    "\n",
    "count = 0\n",
    "\n",
    "def change_dir(d):\n",
    "    if d in [0, 2]:\n",
    "        d += 1\n",
    "    elif d in [1, 3]:\n",
    "        d -= 1\n",
    "    return d\n",
    "\n",
    "def solve(h_num):\n",
    "    x, y, d = horse[h_num]\n",
    "    nx = x + dx[d]\n",
    "    ny = y + dy[d]\n",
    "    if 0 > nx or nx >= n or 0 > ny or ny >= n or board[nx][ny] == 2:\n",
    "        d = change_dir(d)\n",
    "        horse[h_num][2] = d\n",
    "        nx = x + dx[d]\n",
    "        ny = y + dy[d]\n",
    "        if 0 > nx or nx >= n or 0 > ny or ny >= n or board[nx][ny] == 2:\n",
    "            return True\n",
    "\n",
    "    horse_up = []\n",
    "    for h_idx, h_n in enumerate(chess[x][y]):\n",
    "        if h_n == h_num:\n",
    "            horse_up.extend(chess[x][y][h_idx:])\n",
    "            chess[x][y] = chess[x][y][:h_idx]\n",
    "            break\n",
    "\n",
    "    if board[nx][ny] == 1:\n",
    "        horse_up = horse_up[-1::-1]\n",
    "\n",
    "    for h in horse_up:\n",
    "        horse[h][0], horse[h][1] = nx, ny\n",
    "        chess[nx][ny].append(h)\n",
    "\n",
    "    if len(chess[nx][ny]) >= 4:\n",
    "        return False\n",
    "    return True\n",
    "\n",
    "while True:\n",
    "    what = False\n",
    "    if count > 1000:\n",
    "        print(-1)\n",
    "        break\n",
    "    for i in range(k):\n",
    "        if solve(i) == False:\n",
    "            what = True\n",
    "            break\n",
    "    count += 1\n",
    "    if what:\n",
    "        print(count)\n",
    "        break"
   ]
  }
 ],
 "metadata": {
  "kernelspec": {
   "display_name": "Python3.8_spare",
   "language": "python",
   "name": "spare"
  },
  "language_info": {
   "codemirror_mode": {
    "name": "ipython",
    "version": 3
   },
   "file_extension": ".py",
   "mimetype": "text/x-python",
   "name": "python",
   "nbconvert_exporter": "python",
   "pygments_lexer": "ipython3",
   "version": "3.8.12"
  }
 },
 "nbformat": 4,
 "nbformat_minor": 5
}
