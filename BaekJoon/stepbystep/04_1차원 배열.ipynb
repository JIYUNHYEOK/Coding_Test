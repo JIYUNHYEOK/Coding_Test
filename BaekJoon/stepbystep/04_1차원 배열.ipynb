{
 "cells": [
  {
   "cell_type": "markdown",
   "metadata": {},
   "source": [
    "## 1차원 배열"
   ]
  },
  {
   "cell_type": "markdown",
   "metadata": {},
   "source": [
    "### 10807 개수 세기 (브론즈 5)"
   ]
  },
  {
   "cell_type": "code",
   "execution_count": 1,
   "metadata": {},
   "outputs": [
    {
     "name": "stdout",
     "output_type": "stream",
     "text": [
      "3\n"
     ]
    }
   ],
   "source": [
    "N = int(input())\n",
    "lst = list(map(int, input().split()))\n",
    "v = int(input())\n",
    "cnt = 0\n",
    "\n",
    "for i in lst:\n",
    "    if i == v:\n",
    "        cnt += 1\n",
    "print(cnt)"
   ]
  },
  {
   "attachments": {},
   "cell_type": "markdown",
   "metadata": {},
   "source": [
    "### 10871 X보다 작은 수 (브론즈 5)"
   ]
  },
  {
   "cell_type": "code",
   "execution_count": 4,
   "metadata": {},
   "outputs": [
    {
     "name": "stdout",
     "output_type": "stream",
     "text": [
      "1 4 2 3 "
     ]
    }
   ],
   "source": [
    "N, X = map(int, input().split())\n",
    "lst = list(map(int, input().split()))\n",
    "\n",
    "for i in lst:\n",
    "    if i < X:\n",
    "        print(i, end = ' ')"
   ]
  },
  {
   "attachments": {},
   "cell_type": "markdown",
   "metadata": {},
   "source": [
    "### 10818 최소, 최대 (브론즈 3)"
   ]
  },
  {
   "cell_type": "code",
   "execution_count": 5,
   "metadata": {},
   "outputs": [
    {
     "name": "stdout",
     "output_type": "stream",
     "text": [
      "7 35\n"
     ]
    }
   ],
   "source": [
    "N = int(input())\n",
    "lst = list(map(int, input().split()))\n",
    "\n",
    "print(min(lst), max(lst))"
   ]
  },
  {
   "attachments": {},
   "cell_type": "markdown",
   "metadata": {},
   "source": [
    "### 2562 최댓값 (브론즈 3)"
   ]
  },
  {
   "cell_type": "code",
   "execution_count": 11,
   "metadata": {},
   "outputs": [
    {
     "name": "stdout",
     "output_type": "stream",
     "text": [
      "85\n",
      "7\n"
     ]
    }
   ],
   "source": [
    "lst = []\n",
    "for i in range(9):\n",
    "    lst.append(int(input()))\n",
    "max_value = max(lst)\n",
    "print(max_value)\n",
    "for i in range(10):\n",
    "    if lst[i] == max_value:\n",
    "        break\n",
    "print(i+1)"
   ]
  },
  {
   "attachments": {},
   "cell_type": "markdown",
   "metadata": {},
   "source": [
    "### 5597 과제 안 내신 분..? (브론즈 5)"
   ]
  },
  {
   "cell_type": "code",
   "execution_count": 12,
   "metadata": {},
   "outputs": [
    {
     "name": "stdout",
     "output_type": "stream",
     "text": [
      "2\n",
      "8\n"
     ]
    }
   ],
   "source": [
    "lst = []\n",
    "non_lst = []\n",
    "\n",
    "for i in range(28):\n",
    "    lst.append(int(input()))\n",
    "\n",
    "for i in range(1, 31):\n",
    "    if i not in lst:\n",
    "        non_lst.append(i)\n",
    "print(min(non_lst))\n",
    "print(max(non_lst))"
   ]
  },
  {
   "attachments": {},
   "cell_type": "markdown",
   "metadata": {},
   "source": [
    "### 3052 나머지 (브론즈 2)"
   ]
  },
  {
   "cell_type": "code",
   "execution_count": 14,
   "metadata": {},
   "outputs": [
    {
     "name": "stdout",
     "output_type": "stream",
     "text": [
      "10\n"
     ]
    }
   ],
   "source": [
    "lst = []\n",
    "for _ in range(10):\n",
    "    lst.append(int(input())%42)\n",
    "print(len(set(lst)))"
   ]
  },
  {
   "attachments": {},
   "cell_type": "markdown",
   "metadata": {},
   "source": [
    "### 1546 평균 (브론즈 1)"
   ]
  },
  {
   "cell_type": "code",
   "execution_count": 21,
   "metadata": {},
   "outputs": [
    {
     "name": "stdout",
     "output_type": "stream",
     "text": [
      "[50.0, 100.0, 75.0]\n",
      "75.0\n"
     ]
    }
   ],
   "source": [
    "N = int(input())\n",
    "lst = list(map(int, input().split()))\n",
    "M = max(lst)\n",
    "\n",
    "for i in range(N):\n",
    "    lst[i] = (lst[i]/M*100)\n",
    "    \n",
    "print(sum(lst)/N)"
   ]
  },
  {
   "attachments": {},
   "cell_type": "markdown",
   "metadata": {},
   "source": [
    "### 8958 OX퀴즈 (브론즈 2)"
   ]
  },
  {
   "cell_type": "code",
   "execution_count": 25,
   "metadata": {},
   "outputs": [
    {
     "name": "stdout",
     "output_type": "stream",
     "text": [
      "10\n",
      "9\n",
      "7\n",
      "55\n",
      "30\n"
     ]
    }
   ],
   "source": [
    "T = int(input())\n",
    "\n",
    "for i in range(T):\n",
    "    result = 0\n",
    "    combo = 0\n",
    "    lst = list(input())\n",
    "    for i in lst:\n",
    "        if i == 'O':\n",
    "            result += (1+combo)\n",
    "            combo += 1\n",
    "        else:\n",
    "            combo = 0\n",
    "    print(result)"
   ]
  },
  {
   "attachments": {},
   "cell_type": "markdown",
   "metadata": {},
   "source": [
    "### 4344 평균은 넘겠지 (브론즈 1)"
   ]
  },
  {
   "cell_type": "code",
   "execution_count": 32,
   "metadata": {},
   "outputs": [
    {
     "name": "stdout",
     "output_type": "stream",
     "text": [
      "40.000%\n",
      "57.143%\n",
      "33.333%\n",
      "66.667%\n",
      "55.556%\n"
     ]
    }
   ],
   "source": [
    "C = int(input())\n",
    "for _ in range(C):\n",
    "    lst = list(map(int, input().split()))\n",
    "    N = lst[0]\n",
    "    lst = lst[1:]\n",
    "\n",
    "    avg = sum(lst)/len(lst)\n",
    "    cnt = 0\n",
    "\n",
    "    for i in lst:\n",
    "        if i > avg:\n",
    "            cnt += 1\n",
    "\n",
    "    print(\"{:.3f}\".format(cnt/len(lst)*100)+\"%\")\n"
   ]
  }
 ],
 "metadata": {
  "kernelspec": {
   "display_name": "Python 3",
   "language": "python",
   "name": "python3"
  },
  "language_info": {
   "codemirror_mode": {
    "name": "ipython",
    "version": 3
   },
   "file_extension": ".py",
   "mimetype": "text/x-python",
   "name": "python",
   "nbconvert_exporter": "python",
   "pygments_lexer": "ipython3",
   "version": "3.9.8"
  },
  "orig_nbformat": 4,
  "vscode": {
   "interpreter": {
    "hash": "25034407fed5d681614dac11a1c0537e8cb49e3a8883c071303eea01322943d9"
   }
  }
 },
 "nbformat": 4,
 "nbformat_minor": 2
}
