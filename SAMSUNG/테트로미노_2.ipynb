{
 "cells": [
  {
   "cell_type": "markdown",
   "id": "bdc519c5",
   "metadata": {},
   "source": [
    "# 테트로미노"
   ]
  },
  {
   "cell_type": "markdown",
   "id": "8c8de606",
   "metadata": {},
   "source": [
    "폴리오미노란 크기가 1×1인 정사각형을 여러 개 이어서 붙인 도형이며, 다음과 같은 조건을 만족해야 한다.\n",
    "\n",
    "- 정사각형은 서로 겹치면 안 된다.\n",
    "- 도형은 모두 연결되어 있어야 한다.\n",
    "- 정사각형의 변끼리 연결되어 있어야 한다. 즉, 꼭짓점과 꼭짓점만 맞닿아 있으면 안 된다."
   ]
  },
  {
   "cell_type": "markdown",
   "id": "70588395",
   "metadata": {},
   "source": [
    "아름이는 크기가 N×M인 종이 위에 테트로미노 하나를 놓으려고 한다. 종이는 1×1 크기의 칸으로 나누어져 있으며, 각각의 칸에는 정수가 하나 쓰여 있다.\n",
    "\n",
    "테트로미노 하나를 적절히 놓아서 테트로미노가 놓인 칸에 쓰여 있는 수들의 합을 최대로 하는 프로그램을 작성하시오.\n",
    "\n",
    "테트로미노는 반드시 한 정사각형이 정확히 하나의 칸을 포함하도록 놓아야 하며, 회전이나 대칭을 시켜도 된다."
   ]
  },
  {
   "cell_type": "markdown",
   "id": "aeb0045e",
   "metadata": {},
   "source": [
    "첫째 줄에 종이의 세로 크기 N과 가로 크기 M이 주어진다. (4 ≤ N, M ≤ 500)\n",
    "\n",
    "둘째 줄부터 N개의 줄에 종이에 쓰여 있는 수가 주어진다. i번째 줄의 j번째 수는 위에서부터 i번째 칸, 왼쪽에서부터 j번째 칸에 쓰여 있는 수이다. 입력으로 주어지는 수는 1,000을 넘지 않는 자연수이다."
   ]
  },
  {
   "cell_type": "markdown",
   "id": "42a03a71",
   "metadata": {},
   "source": [
    "첫째 줄에 테트로미노가 놓인 칸에 쓰인 수들의 합의 최댓값을 출력한다."
   ]
  },
  {
   "cell_type": "code",
   "execution_count": 1,
   "id": "1b3e851c",
   "metadata": {},
   "outputs": [
    {
     "name": "stdout",
     "output_type": "stream",
     "text": [
      "5 5\n",
      "1 2 3 4 5\n",
      "5 4 3 2 1\n",
      "2 3 4 5 6\n",
      "6 5 4 3 2\n",
      "1 2 1 2 1\n",
      "19\n"
     ]
    }
   ],
   "source": [
    "n, m = map(int, input().split())\n",
    "paper = [list(map(int, input().split())) for _ in range(n)]\n",
    "visit = [([0]*m) for _ in range(m)]\n",
    "\n",
    "# 좌표 이동거리 행, 열 입력 받기\n",
    "dx = [-1, 0, 1, 0]\n",
    "dy = [0, 1, 0, -1]\n",
    "ans = 0\n",
    "\n",
    "# 종이 중에 가장 큰 값\n",
    "max_val = max(map(max, paper))\n",
    "\n",
    "# dfs 정의\n",
    "def dfs(x, y, idx, total):\n",
    "    # 결과값 변수\n",
    "    global ans\n",
    "    \n",
    "    # 현재의 dfs에서 남은 블록이 모두 최댓값에 해당하더라도, 현재의 ans를 넘기지 못하면 종료\n",
    "    if ans >= total + max_val * (3-idx):\n",
    "        return\n",
    "    # 4개의 블록을 모두 사용했으면\n",
    "    if idx == 3:\n",
    "        # 현재 dfs한 값과 이전까지의 최댓값(ans)와 비교해 더 큰 값을 ans로 반환 후 종료\n",
    "        ans = max(ans, total)\n",
    "        return\n",
    "    # 4개의 블록을 아직 다 사용하지 못한 경우\n",
    "    else:\n",
    "        # 방향 설정\n",
    "        for i in range(4):\n",
    "            nx = x + dx[i]\n",
    "            ny = y + dy[i]\n",
    "            # 이동하려는 위치가 종이(배열) 내에 존재하고, 방문한 적이 없을 경우\n",
    "            if nx >= 0 and nx < n and ny >= 0 and ny < n and visit[nx][ny] == 0:\n",
    "                # 만약 2개의 블록을 선택했다면 \n",
    "                if idx == 1:\n",
    "                    # 방문처리\n",
    "                    visit[nx][ny] = 1\n",
    "                    # 방문처리 찍은 위치에서 dfs 재귀적 호출\n",
    "                    dfs(x, y, idx+1, total+paper[nx][ny])\n",
    "                    # 방문처리 해제\n",
    "                    visit[nx][ny] = 0\n",
    "                # 방문처리\n",
    "                visit[nx][ny] = 1\n",
    "                # 방문처리 찍은 위치에서 dfs 재귀적 호출\n",
    "                dfs(nx, ny, idx+1, total+paper[nx][ny])\n",
    "                # 방문처리 해제\n",
    "                visit[nx][ny] = 0\n",
    "                    \n",
    "# 종이에 있는 숫자 하나씩 입력 받음\n",
    "for x in range(n):\n",
    "    for y in range(m):\n",
    "        # 방문처리\n",
    "        visit[x][y] = 1\n",
    "        # dfs 호출하여 ans의 최댓값 계산\n",
    "        dfs(x, y, 0, paper[x][y])\n",
    "        # 목적지 해제\n",
    "        visit[x][y] = 0\n",
    "        \n",
    "# 정답 출력\n",
    "print(ans)"
   ]
  }
 ],
 "metadata": {
  "kernelspec": {
   "display_name": "Python3.8_spare",
   "language": "python",
   "name": "spare"
  },
  "language_info": {
   "codemirror_mode": {
    "name": "ipython",
    "version": 3
   },
   "file_extension": ".py",
   "mimetype": "text/x-python",
   "name": "python",
   "nbconvert_exporter": "python",
   "pygments_lexer": "ipython3",
   "version": "3.8.12"
  }
 },
 "nbformat": 4,
 "nbformat_minor": 5
}
