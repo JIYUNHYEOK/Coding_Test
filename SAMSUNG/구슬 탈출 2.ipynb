{
 "cells": [
  {
   "cell_type": "markdown",
   "id": "5cd66c73",
   "metadata": {},
   "source": [
    "# 구슬 탈출 2"
   ]
  },
  {
   "cell_type": "markdown",
   "id": "8c3d65e9",
   "metadata": {},
   "source": [
    "스타트링크에서 판매하는 어린이용 장난감 중에서 가장 인기가 많은 제품은 구슬 탈출이다. 구슬 탈출은 직사각형 보드에 빨간 구슬과 파란 구슬을 하나씩 넣은 다음, 빨간 구슬을 구멍을 통해 빼내는 게임이다.\n",
    "\n",
    "보드의 세로 크기는 N, 가로 크기는 M이고, 편의상 1×1크기의 칸으로 나누어져 있다. 가장 바깥 행과 열은 모두 막혀져 있고, 보드에는 구멍이 하나 있다. 빨간 구슬과 파란 구슬의 크기는 보드에서 1×1크기의 칸을 가득 채우는 사이즈이고, 각각 하나씩 들어가 있다. 게임의 목표는 빨간 구슬을 구멍을 통해서 빼내는 것이다. 이때, 파란 구슬이 구멍에 들어가면 안 된다.\n",
    "\n",
    "이때, 구슬을 손으로 건드릴 수는 없고, 중력을 이용해서 이리 저리 굴려야 한다. 왼쪽으로 기울이기, 오른쪽으로 기울이기, 위쪽으로 기울이기, 아래쪽으로 기울이기와 같은 네 가지 동작이 가능하다.\n",
    "\n",
    "각각의 동작에서 공은 동시에 움직인다. 빨간 구슬이 구멍에 빠지면 성공이지만, 파란 구슬이 구멍에 빠지면 실패이다. 빨간 구슬과 파란 구슬이 동시에 구멍에 빠져도 실패이다. 빨간 구슬과 파란 구슬은 동시에 같은 칸에 있을 수 없다. 또, 빨간 구슬과 파란 구슬의 크기는 한 칸을 모두 차지한다. 기울이는 동작을 그만하는 것은 더 이상 구슬이 움직이지 않을 때 까지이다.\n",
    "\n",
    "보드의 상태가 주어졌을 때, 최소 몇 번 만에 빨간 구슬을 구멍을 통해 빼낼 수 있는지 구하는 프로그램을 작성하시오."
   ]
  },
  {
   "cell_type": "markdown",
   "id": "1339f0df",
   "metadata": {},
   "source": [
    "첫 번째 줄에는 보드의 세로, 가로 크기를 의미하는 두 정수 N, M (3 ≤ N, M ≤ 10)이 주어진다. 다음 N개의 줄에 보드의 모양을 나타내는 길이 M의 문자열이 주어진다. 이 문자열은 '.', '#', 'O', 'R', 'B' 로 이루어져 있다. '.'은 빈 칸을 의미하고, '#'은 공이 이동할 수 없는 장애물 또는 벽을 의미하며, 'O'는 구멍의 위치를 의미한다. 'R'은 빨간 구슬의 위치, 'B'는 파란 구슬의 위치이다.\n",
    "\n",
    "입력되는 모든 보드의 가장자리에는 모두 '#'이 있다. 구멍의 개수는 한 개 이며, 빨간 구슬과 파란 구슬은 항상 1개가 주어진다."
   ]
  },
  {
   "cell_type": "markdown",
   "id": "2b875597",
   "metadata": {},
   "source": [
    "최소 몇 번 만에 빨간 구슬을 구멍을 통해 빼낼 수 있는지 출력한다. 만약, 10번 이하로 움직여서 빨간 구슬을 구멍을 통해 빼낼 수 없으면 -1을 출력한다."
   ]
  },
  {
   "cell_type": "code",
   "execution_count": 1,
   "id": "87a462f0",
   "metadata": {},
   "outputs": [
    {
     "name": "stdout",
     "output_type": "stream",
     "text": [
      "5 5\n",
      "#####\n",
      "#..B#\n",
      "#.#.#\n",
      "#RO.#\n",
      "#####\n",
      "1\n"
     ]
    }
   ],
   "source": [
    "from collections import deque\n",
    "\n",
    "n, m = map(int, input().split())\n",
    "graph = []\n",
    "dx = [-1, 1, 0, 0]\n",
    "dy = [0, 0, -1, 1]\n",
    "rx, ry, bx, by = 0, 0, 0, 0\n",
    "visited = [[[[False] * m for _ in range(n)] for _ in range(m)] for _ in range(n)]\n",
    "\n",
    "for i in range(n):\n",
    "    data = list(input())\n",
    "    graph.append(data)\n",
    "    for d in range(len(data)):\n",
    "        if data[d] == 'R':\n",
    "            rx, ry = i, d\n",
    "        elif data[d] == 'B':\n",
    "            bx, by = i, d\n",
    "\n",
    "def move(x, y, dx, dy):\n",
    "    count = 0\n",
    "    while graph[x+dx][y+dy] != '#' and graph[x][y] != 'O':\n",
    "        x += dx\n",
    "        y += dy\n",
    "        count += 1\n",
    "    return x, y, count\n",
    "\n",
    "def bfs(rx, ry, bx, by):\n",
    "    q = deque()\n",
    "    q.append((rx, ry, bx, by, 1))\n",
    "    visited[rx][ry][bx][by] = True\n",
    "    while q:\n",
    "        r_x, r_y, b_x, b_y, depth = q.popleft()\n",
    "        if depth > 10:\n",
    "            break\n",
    "        for i in range(4):\n",
    "            r_nx, r_ny, r_cnt = move(r_x, r_y, dx[i], dy[i])\n",
    "            b_nx, b_ny, b_cnt = move(b_x, b_y, dx[i], dy[i])\n",
    "            if graph[b_nx][b_ny] != 'O':\n",
    "                if graph[r_nx][r_ny] == 'O':\n",
    "                    return depth\n",
    "                if r_nx == b_nx and r_ny == b_ny:\n",
    "                    if r_cnt > b_cnt:\n",
    "                        r_nx -= dx[i]\n",
    "                        r_ny -= dy[i]\n",
    "                    else:\n",
    "                        b_nx -= dx[i]\n",
    "                        b_ny -= dy[i]\n",
    "                if not visited[r_nx][r_ny][b_nx][b_ny]:\n",
    "                    visited[r_nx][r_ny][b_nx][b_ny] = True\n",
    "                    q.append((r_nx, r_ny, b_nx, b_ny, depth+1))\n",
    "    return -1\n",
    "\n",
    "\n",
    "print(bfs(rx, ry, bx, by))"
   ]
  }
 ],
 "metadata": {
  "kernelspec": {
   "display_name": "Python3.8_spare",
   "language": "python",
   "name": "spare"
  },
  "language_info": {
   "codemirror_mode": {
    "name": "ipython",
    "version": 3
   },
   "file_extension": ".py",
   "mimetype": "text/x-python",
   "name": "python",
   "nbconvert_exporter": "python",
   "pygments_lexer": "ipython3",
   "version": "3.8.12"
  }
 },
 "nbformat": 4,
 "nbformat_minor": 5
}
