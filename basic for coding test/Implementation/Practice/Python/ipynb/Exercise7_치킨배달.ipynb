{
 "cells": [
  {
   "cell_type": "code",
   "execution_count": 1,
   "id": "ed9238ce",
   "metadata": {},
   "outputs": [
    {
     "name": "stdout",
     "output_type": "stream",
     "text": [
      "5 3\n",
      "0 0 1 0 0\n",
      "0 0 2 0 1\n",
      "0 1 2 0 0\n",
      "0 0 1 0 0\n",
      "0 0 0 0 2\n",
      "5\n"
     ]
    }
   ],
   "source": [
    "from itertools import combinations\n",
    "\n",
    "N, M = map(int, input().split())\n",
    "chicken, house = [], []\n",
    "\n",
    "for r in range(N):\n",
    "    data = list(map(int, input().split()))\n",
    "    \n",
    "    for c in range(N):\n",
    "        if data[c] == 1: # 일반집\n",
    "            house.append((r, c))\n",
    "            \n",
    "        elif data[c] == 2: # 치킨집\n",
    "            chicken.append((r, c))\n",
    "            \n",
    "            \n",
    "# 모든 치킨집 중에서 M개의 치킨집을 뽑는 조합 계산\n",
    "candidates = list(combinations(chicken, M))\n",
    "\n",
    "# 치킨거리의 합을 계산하는 함수\n",
    "def get_sum(candidate):\n",
    "    result = 0\n",
    "    \n",
    "    # 모든 집에 대하여\n",
    "    for hx, hy in house:\n",
    "        # 가장 가까운 치킨집을 찾기\n",
    "        temp = 1e9\n",
    "        \n",
    "        for cx, cy in candidate:\n",
    "            temp = min(temp, abs(hx-cx) + abs(hy-cy))\n",
    "            \n",
    "        # 가장 가까운 치킨집까지의 거리를 더하기\n",
    "        result += temp\n",
    "        \n",
    "    # 치킨거리의 합 반환\n",
    "    return result\n",
    "    \n",
    "# 치킨거리의 합의 최소를 찾아서 출력\n",
    "result = 1e9\n",
    "\n",
    "for candidate in candidates:\n",
    "    result = min(result, get_sum(candidate))\n",
    "    \n",
    "print(result)"
   ]
  }
 ],
 "metadata": {
  "kernelspec": {
   "display_name": "Python3.8_spare",
   "language": "python",
   "name": "spare"
  },
  "language_info": {
   "codemirror_mode": {
    "name": "ipython",
    "version": 3
   },
   "file_extension": ".py",
   "mimetype": "text/x-python",
   "name": "python",
   "nbconvert_exporter": "python",
   "pygments_lexer": "ipython3",
   "version": "3.8.12"
  }
 },
 "nbformat": 4,
 "nbformat_minor": 5
}
